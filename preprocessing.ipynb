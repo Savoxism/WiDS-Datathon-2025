{
 "cells": [
  {
   "cell_type": "markdown",
   "metadata": {},
   "source": [
    "# 1. Setup"
   ]
  },
  {
   "cell_type": "code",
   "execution_count": null,
   "metadata": {
    "_cell_guid": "b1076dfc-b9ad-4769-8c92-a6c4dae69d19",
    "_uuid": "8f2839f25d086af736a60e9eeb907d3b93b6e0e5",
    "trusted": true
   },
   "outputs": [],
   "source": [
    "import pandas as pd\n",
    "import matplotlib.pyplot as plt\n",
    "import seaborn as sns\n",
    "\n",
    "from sklearn.experimental import enable_iterative_imputer\n",
    "from sklearn.impute import IterativeImputer\n",
    "from sklearn.linear_model import LassoCV\n",
    "from sklearn.preprocessing import LabelEncoder\n",
    "\n",
    "%matplotlib inline\n",
    "sns.set_theme(style=\"whitegrid\")\n",
    "\n",
    "SEED = 42\n",
    "\n",
    "train_q = pd.read_excel(\"data/TRAIN/TRAIN_QUANTITATIVE_METADATA.xlsx\")\n",
    "train_c = pd.read_excel(\"data/TRAIN/TRAIN_CATEGORICAL_METADATA.xlsx\")\n",
    "test_q = pd.read_excel(\"data/TEST/TEST_QUANTITATIVE_METADATA.xlsx\")\n",
    "test_c = pd.read_excel(\"data/TEST/TEST_CATEGORICAL_METADATA.xlsx\")\n",
    "\n",
    "train_combined = pd.merge(train_q, train_c, on='participant_id', how='left').set_index(\"participant_id\")\n",
    "test_combined = pd.merge(test_q, test_c, on='participant_id', how='left').set_index(\"participant_id\")\n",
    "\n",
    "labels = pd.read_excel(\"data/TRAIN/TRAINING_SOLUTIONS.xlsx\").set_index(\"participant_id\")\n",
    "\n",
    "train_combined = train_combined.sort_index()\n",
    "labels = labels.sort_index()\n",
    "assert all(train_combined.index == labels.index), \"Label IDs do not match train IDs\""
   ]
  },
  {
   "cell_type": "markdown",
   "metadata": {},
   "source": [
    "# 2. Data Preprocessing"
   ]
  },
  {
   "cell_type": "code",
   "execution_count": null,
   "metadata": {
    "trusted": true
   },
   "outputs": [],
   "source": [
    "train_combined.columns"
   ]
  },
  {
   "cell_type": "code",
   "execution_count": null,
   "metadata": {},
   "outputs": [],
   "source": [
    "label_df = labels.copy()\n",
    "\n",
    "# Plot: ADHD_Outcome\n",
    "# plt.figure(figsize=(6, 4))\n",
    "# sns.countplot(x=label_df[\"ADHD_Outcome\"], palette=\"Set2\")\n",
    "# plt.title(\"Distribution of ADHD_Outcome\")\n",
    "# plt.xticks([0, 1], ['No ADHD (0)', 'ADHD (1)'])\n",
    "# plt.ylabel(\"Count\")\n",
    "# plt.tight_layout()\n",
    "# plt.show()\n",
    "\n",
    "# # Plot: Sex_F\n",
    "# plt.figure(figsize=(6, 4))\n",
    "# sns.countplot(x=label_df[\"Sex_F\"], palette=\"pastel\")\n",
    "# plt.title(\"Distribution of Sex_F\")\n",
    "# plt.xticks([0, 1], ['Male (0)', 'Female (1)'])\n",
    "# plt.ylabel(\"Count\")\n",
    "# plt.tight_layout()\n",
    "# plt.show()\n"
   ]
  },
  {
   "cell_type": "markdown",
   "metadata": {},
   "source": [
    "## 2.1 Numerical Features Visualization"
   ]
  },
  {
   "cell_type": "code",
   "execution_count": null,
   "metadata": {
    "trusted": true
   },
   "outputs": [],
   "source": [
    "numerical_features = [\n",
    "    'EHQ_EHQ_Total', 'ColorVision_CV_Score', 'APQ_P_APQ_P_CP',\n",
    "    'APQ_P_APQ_P_ID', 'APQ_P_APQ_P_INV', 'APQ_P_APQ_P_OPD',\n",
    "    'APQ_P_APQ_P_PM', 'APQ_P_APQ_P_PP', 'SDQ_SDQ_Conduct_Problems',\n",
    "    'SDQ_SDQ_Difficulties_Total', 'SDQ_SDQ_Emotional_Problems',\n",
    "    'SDQ_SDQ_Externalizing', 'SDQ_SDQ_Generating_Impact',\n",
    "    'SDQ_SDQ_Hyperactivity', 'SDQ_SDQ_Internalizing',\n",
    "    'SDQ_SDQ_Peer_Problems', 'SDQ_SDQ_Prosocial', 'MRI_Track_Age_at_Scan'\n",
    "]\n",
    "\n",
    "print(len(numerical_features))"
   ]
  },
  {
   "cell_type": "code",
   "execution_count": null,
   "metadata": {
    "trusted": true
   },
   "outputs": [],
   "source": [
    "numerical_features_df = train_combined[numerical_features]\n",
    "\n",
    "def nan_summary(df, name):\n",
    "    print(f\"---- {name} NAN SUMMARY ----\")\n",
    "    print((df.isnull().sum() / len(df) * 100).sort_values(ascending=False), '\\n')\n",
    "\n",
    "nan_summary(numerical_features_df, \"TRAIN NUMERICAL FEATURES\")"
   ]
  },
  {
   "cell_type": "markdown",
   "metadata": {},
   "source": [
    "### 2.1.1 EHQ_EHQ_Total"
   ]
  },
  {
   "cell_type": "code",
   "execution_count": null,
   "metadata": {},
   "outputs": [],
   "source": [
    "feature_1 = 'EHQ_EHQ_Total'\n",
    "\n",
    "median_value = train_combined[feature_1].median()\n",
    "train_combined[feature_1] = train_combined[feature_1].fillna(median_value)\n",
    "print(f\"Filled NaN with median value: {median_value}\")\n",
    "\n",
    "median_test_value = test_combined[feature_1].median()\n",
    "test_combined[feature_1] = test_combined[feature_1].fillna(median_test_value)\n",
    "print(f\"Filled NaN with median value: {median_test_value}\")"
   ]
  },
  {
   "cell_type": "code",
   "execution_count": null,
   "metadata": {
    "trusted": true
   },
   "outputs": [],
   "source": [
    "# plt.figure(figsize=(10, 4))\n",
    "# sns.boxplot(data=train_combined, x='EHQ_EHQ_Total')\n",
    "# plt.title(\"Box Plot of EHQ_|EHQ_Total\")\n",
    "# plt.xlabel(\"EHQ_EHQ_Total\")\n",
    "# plt.show()"
   ]
  },
  {
   "cell_type": "code",
   "execution_count": null,
   "metadata": {
    "trusted": true
   },
   "outputs": [],
   "source": [
    "def categorize_laterality(li):\n",
    "    if -110 <= li <= -28:\n",
    "        return \"Left-Lateralized\"\n",
    "    elif -28 < li <= 47:\n",
    "        return 'Middle'\n",
    "    elif 47 < li <= 110:\n",
    "        return 'Right-Lateralized'\n",
    "\n",
    "train_combined['Laterality_Category'] = train_combined['EHQ_EHQ_Total'].apply(categorize_laterality)\n",
    "test_combined['Laterality_Category'] = test_combined['EHQ_EHQ_Total'].apply(categorize_laterality)"
   ]
  },
  {
   "cell_type": "markdown",
   "metadata": {},
   "source": [
    "### 2.1.2 ColorVision_CV_Score"
   ]
  },
  {
   "cell_type": "code",
   "execution_count": null,
   "metadata": {
    "trusted": true
   },
   "outputs": [],
   "source": [
    "train_combined['ColorVision_CV_Score'].fillna(14, inplace=True)\n",
    "print(\"Missing values after fill:\", train_combined[\"ColorVision_CV_Score\"].isna().sum())\n",
    "\n",
    "test_combined['ColorVision_CV_Score'].fillna(14, inplace=True)\n",
    "print(\"Missing values after fill:\", test_combined[\"ColorVision_CV_Score\"].isna().sum())"
   ]
  },
  {
   "cell_type": "markdown",
   "metadata": {},
   "source": [
    "### 2.1.3 APQ_P_APQ_P_CP"
   ]
  },
  {
   "cell_type": "code",
   "execution_count": null,
   "metadata": {
    "trusted": true
   },
   "outputs": [],
   "source": [
    "nan_count = train_combined['APQ_P_APQ_P_CP'].isna().sum()\n",
    "print(f\"Number of NaN values in APQ_P_APQ_P_CP: {nan_count}\")\n",
    "\n",
    "median_cp = train_combined['APQ_P_APQ_P_CP'].median()\n",
    "train_combined['APQ_P_APQ_P_CP'] = train_combined['APQ_P_APQ_P_CP'].fillna(median_cp)\n",
    "print(f\"Filled NaNs with median: {median_cp}\")\n",
    "\n",
    "median_test_cp = test_combined['APQ_P_APQ_P_CP'].median()\n",
    "test_combined['APQ_P_APQ_P_CP'] = test_combined['APQ_P_APQ_P_CP'].fillna(median_test_cp)\n",
    "print(f\"Filled NaNs with median: {median_test_cp}\")"
   ]
  },
  {
   "cell_type": "markdown",
   "metadata": {},
   "source": [
    "### 2.1.4: APQ_P_APQ_P_ID"
   ]
  },
  {
   "cell_type": "code",
   "execution_count": null,
   "metadata": {
    "trusted": true
   },
   "outputs": [],
   "source": [
    "feature = 'APQ_P_APQ_P_ID'\n",
    "nan_count = train_combined[feature].isna().sum()\n",
    "print(f\"Number of NaN rows in {feature}: {nan_count}\")\n",
    "\n",
    "median_value = train_combined[feature].median()\n",
    "train_combined[feature].fillna(median_value, inplace=True)\n",
    "print(f\"Filled NaNs in {feature} with median value: {median_value}\")\n",
    "\n",
    "median_test_value = test_combined[feature].median()\n",
    "test_combined[feature].fillna(median_test_value, inplace=True)\n",
    "print(f\"Filled NaNs in {feature} with median value: {median_test_value}\")"
   ]
  },
  {
   "cell_type": "markdown",
   "metadata": {},
   "source": [
    "### 2.1.5: APQ_P_APQ_P_INV"
   ]
  },
  {
   "cell_type": "code",
   "execution_count": null,
   "metadata": {
    "trusted": true
   },
   "outputs": [],
   "source": [
    "feature = 'APQ_P_APQ_P_INV'\n",
    "nan_count = train_combined[feature].isna().sum()\n",
    "print(f\"Number of NaN rows in feature '{feature}': {nan_count}\")\n",
    "\n",
    "median_value = train_combined[feature].median()\n",
    "train_combined[feature] = train_combined[feature].fillna(median_value)\n",
    "print(f\"Filled NaNs in '{feature}' with median: {median_value}\")\n",
    "\n",
    "median_test_value = test_combined[feature].median()\n",
    "test_combined[feature] = test_combined[feature].fillna(median_test_value)\n",
    "print(f\"Filled NaNs in '{feature}' with median: {median_test_value}\")"
   ]
  },
  {
   "cell_type": "markdown",
   "metadata": {},
   "source": [
    "### 2.1.6: APQ_P_APQ_P_OPD"
   ]
  },
  {
   "cell_type": "code",
   "execution_count": null,
   "metadata": {
    "trusted": true
   },
   "outputs": [],
   "source": [
    "feature = 'APQ_P_APQ_P_OPD'\n",
    "nan_count = train_combined[feature].isna().sum()\n",
    "print(f\"Number of NaN rows in feature '{feature}': {nan_count}\")\n",
    "\n",
    "median_value = train_combined[feature].median()\n",
    "train_combined[feature] = train_combined[feature].fillna(median_value)\n",
    "print(f\"Filled NaNs in '{feature}' with median: {median_value}\")\n",
    "\n",
    "median_test_value = test_combined[feature].median()\n",
    "test_combined[feature] = test_combined[feature].fillna(median_test_value)\n",
    "print(f\"Filled NaNs in '{feature}' with median: {median_test_value}\")"
   ]
  },
  {
   "cell_type": "markdown",
   "metadata": {},
   "source": [
    "### 2.1.7: APQ_P_APQ_P_PM"
   ]
  },
  {
   "cell_type": "code",
   "execution_count": null,
   "metadata": {
    "trusted": true
   },
   "outputs": [],
   "source": [
    "feature = 'APQ_P_APQ_P_PM'\n",
    "nan_count = train_combined[feature].isna().sum()\n",
    "print(f\"Number of NaN rows in feature '{feature}': {nan_count}\")\n",
    "\n",
    "median_value = train_combined[feature].median()\n",
    "train_combined[feature] = train_combined[feature].fillna(median_value)\n",
    "print(f\"Filled NaNs in '{feature}' with median: {median_value}\")\n",
    "\n",
    "median_test_value = test_combined[feature].median()\n",
    "test_combined[feature] = test_combined[feature].fillna(median_test_value)\n",
    "print(f\"Filled NaNs in '{feature}' with median: {median_test_value}\")"
   ]
  },
  {
   "cell_type": "markdown",
   "metadata": {},
   "source": [
    "### 2.1.8 APQ_P_APQ_P_PP"
   ]
  },
  {
   "cell_type": "code",
   "execution_count": null,
   "metadata": {
    "trusted": true
   },
   "outputs": [],
   "source": [
    "feature = 'APQ_P_APQ_P_PP'\n",
    "nan_count = train_combined[feature].isna().sum()\n",
    "print(f\"Number of NaN rows in feature '{feature}': {nan_count}\")\n",
    "\n",
    "median_value = train_combined[feature].median()\n",
    "train_combined[feature] = train_combined[feature].fillna(median_value)\n",
    "print(f\"Filled NaNs in '{feature}' with median: {median_value}\")\n",
    "\n",
    "median_test_value = test_combined[feature].median()\n",
    "test_combined[feature] = test_combined[feature].fillna(median_test_value)\n",
    "print(f\"Filled NaNs in '{feature}' with median: {median_test_value}\")"
   ]
  },
  {
   "cell_type": "markdown",
   "metadata": {},
   "source": [
    "### 2.1.9 SDQ_SDQ_Conduct_Problems"
   ]
  },
  {
   "cell_type": "code",
   "execution_count": null,
   "metadata": {
    "trusted": true
   },
   "outputs": [],
   "source": [
    "feature = 'SDQ_SDQ_Conduct_Problems'\n",
    "nan_count = train_combined[feature].isna().sum()\n",
    "print(f\"Number of NaN rows in feature '{feature}': {nan_count}\")\n",
    "\n",
    "median_value = train_combined[feature].median()\n",
    "train_combined[feature] = train_combined[feature].fillna(median_value)\n",
    "print(f\"Filled NaNs in '{feature}' with median: {median_value}\")\n",
    "\n",
    "median_test_value = test_combined[feature].median()\n",
    "test_combined[feature] = test_combined[feature].fillna(median_test_value)\n",
    "print(f\"Filled NaNs in '{feature}' with median: {median_test_value}\")"
   ]
  },
  {
   "cell_type": "markdown",
   "metadata": {},
   "source": [
    "### 2.1.10 SDQ_SDQ_Difficulties_Total"
   ]
  },
  {
   "cell_type": "code",
   "execution_count": null,
   "metadata": {
    "trusted": true
   },
   "outputs": [],
   "source": [
    "feature = 'SDQ_SDQ_Difficulties_Total'\n",
    "nan_count = train_combined[feature].isna().sum()\n",
    "print(f\"Number of NaN rows in feature '{feature}': {nan_count}\")\n",
    "\n",
    "median_value = train_combined[feature].median()\n",
    "train_combined[feature] = train_combined[feature].fillna(median_value)\n",
    "print(f\"Filled NaN with median value: {median_value}\")\n",
    "\n",
    "median_test_value = test_combined[feature].median()\n",
    "test_combined[feature] = test_combined[feature].fillna(median_test_value)\n",
    "print(f\"Filled NaN with median value: {median_test_value}\")"
   ]
  },
  {
   "cell_type": "markdown",
   "metadata": {},
   "source": [
    "### 2.1.11: SDQ_SDQ_Emotional_Problems"
   ]
  },
  {
   "cell_type": "code",
   "execution_count": null,
   "metadata": {
    "trusted": true
   },
   "outputs": [],
   "source": [
    "feature = 'SDQ_SDQ_Emotional_Problems'\n",
    "nan_count = train_combined[feature].isna().sum()\n",
    "print(f\"Number of NaN rows in feature '{feature}': {nan_count}\")\n",
    "\n",
    "median_value = train_combined[feature].median()\n",
    "train_combined[feature] = train_combined[feature].fillna(median_value)\n",
    "print(f\"Filled NaN with median value: {median_value}\")\n",
    "\n",
    "median_test_value = test_combined[feature].median()\n",
    "test_combined[feature] = test_combined[feature].fillna(median_test_value)\n",
    "print(f\"Filled NaN with median value: {median_test_value}\")"
   ]
  },
  {
   "cell_type": "markdown",
   "metadata": {},
   "source": [
    "### 2.1.12: SDQ_SDQ_Externalizing"
   ]
  },
  {
   "cell_type": "code",
   "execution_count": null,
   "metadata": {
    "trusted": true
   },
   "outputs": [],
   "source": [
    "feature = 'SDQ_SDQ_Externalizing'\n",
    "nan_count = train_combined[feature].isna().sum()\n",
    "print(f\"Number of NaN rows in feature '{feature}': {nan_count}\")\n",
    "\n",
    "median_value = train_combined[feature].median()\n",
    "train_combined[feature] = train_combined[feature].fillna(median_value)\n",
    "print(f\"Filled NaN with median value: {median_value}\")\n",
    "\n",
    "median_test_value = test_combined[feature].median()\n",
    "test_combined[feature] = test_combined[feature].fillna(median_test_value)\n",
    "print(f\"Filled NaN with median value: {median_test_value}\")"
   ]
  },
  {
   "cell_type": "markdown",
   "metadata": {},
   "source": [
    "### 2.1.13: SDQ_SDQ_Generating_Impact"
   ]
  },
  {
   "cell_type": "code",
   "execution_count": null,
   "metadata": {
    "trusted": true
   },
   "outputs": [],
   "source": [
    "feature = 'SDQ_SDQ_Generating_Impact'\n",
    "nan_count = train_combined[feature].isna().sum()\n",
    "print(f\"Number of NaN rows in feature '{feature}': {nan_count}\")\n",
    "\n",
    "median_value = train_combined[feature].median()\n",
    "train_combined[feature] = train_combined[feature].fillna(median_value)\n",
    "print(f\"Filled NaN with median value: {median_value}\")\n",
    "\n",
    "median_test_value = test_combined[feature].median()\n",
    "test_combined[feature] = test_combined[feature].fillna(median_test_value)\n",
    "print(f\"Filled NaN with median value: {median_test_value}\")"
   ]
  },
  {
   "cell_type": "markdown",
   "metadata": {},
   "source": [
    "### 2.1.14: SDQ_SDQ_Hyperactivity"
   ]
  },
  {
   "cell_type": "code",
   "execution_count": null,
   "metadata": {
    "trusted": true
   },
   "outputs": [],
   "source": [
    "feature = 'SDQ_SDQ_Hyperactivity'\n",
    "nan_count = train_combined[feature].isna().sum()\n",
    "print(f\"Number of NaN rows in feature '{feature}': {nan_count}\")\n",
    "\n",
    "median_value = train_combined[feature].median()\n",
    "train_combined[feature] = train_combined[feature].fillna(median_value)\n",
    "print(f\"Filled NaN with median value: {median_value}\")\n",
    "\n",
    "median_test_value = test_combined[feature].median()\n",
    "test_combined[feature] = test_combined[feature].fillna(median_test_value)\n",
    "print(f\"Filled NaN with median value: {median_test_value}\")"
   ]
  },
  {
   "cell_type": "markdown",
   "metadata": {},
   "source": [
    "### 2.1.15: SDQ_SDQ_Internalizing"
   ]
  },
  {
   "cell_type": "code",
   "execution_count": null,
   "metadata": {
    "trusted": true
   },
   "outputs": [],
   "source": [
    "feature = 'SDQ_SDQ_Internalizing'\n",
    "nan_count = train_combined[feature].isna().sum()\n",
    "print(f\"Number of NaN rows in feature '{feature}': {nan_count}\")\n",
    "\n",
    "median_value = train_combined[feature].median()\n",
    "train_combined[feature] = train_combined[feature].fillna(median_value)\n",
    "print(f\"Filled NaN with median value: {median_value}\")\n",
    "\n",
    "median_test_value = test_combined[feature].median()\n",
    "test_combined[feature] = test_combined[feature].fillna(median_test_value)\n",
    "print(f\"Filled NaN with median value: {median_test_value}\")"
   ]
  },
  {
   "cell_type": "markdown",
   "metadata": {},
   "source": [
    "### 2.1.16: SDQ_SDQ_Peer_Problems"
   ]
  },
  {
   "cell_type": "code",
   "execution_count": null,
   "metadata": {
    "trusted": true
   },
   "outputs": [],
   "source": [
    "feature = 'SDQ_SDQ_Peer_Problems'\n",
    "nan_count = train_combined[feature].isna().sum()\n",
    "print(f\"Number of NaN rows in feature '{feature}': {nan_count}\")\n",
    "\n",
    "median_value = train_combined[feature].median()\n",
    "train_combined[feature] = train_combined[feature].fillna(median_value)\n",
    "print(f\"Filled NaN with median value: {median_value}\")\n",
    "\n",
    "median_test_value = test_combined[feature].median()\n",
    "test_combined[feature] = test_combined[feature].fillna(median_test_value)\n",
    "print(f\"Filled NaN with median value: {median_test_value}\")"
   ]
  },
  {
   "cell_type": "markdown",
   "metadata": {},
   "source": [
    "### 2.1.17: SDQ_SDQ_Prosocial"
   ]
  },
  {
   "cell_type": "code",
   "execution_count": null,
   "metadata": {
    "trusted": true
   },
   "outputs": [],
   "source": [
    "feature = 'SDQ_SDQ_Prosocial'\n",
    "nan_count = train_combined[feature].isna().sum()\n",
    "print(f\"Number of NaN rows in feature '{feature}': {nan_count}\")\n",
    "\n",
    "median_value = train_combined[feature].median()\n",
    "train_combined[feature] = train_combined[feature].fillna(median_value)\n",
    "print(f\"Filled NaN with median value: {median_value}\")\n",
    "\n",
    "median_test_value = test_combined[feature].median()\n",
    "test_combined[feature] = test_combined[feature].fillna(median_test_value)\n",
    "print(f\"Filled NaN with median value: {median_test_value}\")"
   ]
  },
  {
   "cell_type": "markdown",
   "metadata": {},
   "source": [
    "### 2.1.18: MRI_Track_Age_at_Scan"
   ]
  },
  {
   "cell_type": "code",
   "execution_count": null,
   "metadata": {
    "trusted": true
   },
   "outputs": [],
   "source": [
    "feature = 'MRI_Track_Age_at_Scan'\n",
    "nan_count = train_combined[feature].isna().sum()\n",
    "print(f\"Number of NaN rows in feature '{feature}': {nan_count}\")"
   ]
  },
  {
   "cell_type": "code",
   "execution_count": null,
   "metadata": {
    "trusted": true
   },
   "outputs": [],
   "source": [
    "numeric_data = train_combined[numerical_features].copy()\n",
    "imputer = IterativeImputer(estimator=LassoCV(random_state=SEED), max_iter=100, random_state=SEED)\n",
    "\n",
    "numeric_data_imputed = pd.DataFrame(\n",
    "    imputer.fit_transform(numeric_data), \n",
    "    columns=numerical_features, \n",
    "    index=numeric_data.index\n",
    ")\n",
    "train_combined['MRI_Track_Age_at_Scan'] = numeric_data_imputed['MRI_Track_Age_at_Scan']\n",
    "\n",
    "\n",
    "test_numeric_data = test_combined[numerical_features].copy()\n",
    "test_numeric_data_imputed = pd.DataFrame(\n",
    "    imputer.transform(test_numeric_data),\n",
    "    columns=numerical_features,\n",
    "    index=test_numeric_data.index\n",
    ")\n",
    "test_combined['MRI_Track_Age_at_Scan'] = test_numeric_data_imputed['MRI_Track_Age_at_Scan']"
   ]
  },
  {
   "cell_type": "code",
   "execution_count": null,
   "metadata": {
    "trusted": true
   },
   "outputs": [],
   "source": [
    "Q1 = train_combined[feature].quantile(0.25)\n",
    "Q3 = train_combined[feature].quantile(0.75)\n",
    "IQR = Q3 - Q1\n",
    "\n",
    "lower_bound = Q1 - 1.5 * IQR\n",
    "upper_bound = Q3 + 1.5 * IQR\n",
    "\n",
    "outliers = train_combined[(train_combined[feature] < lower_bound) | (train_combined[feature] > upper_bound)]\n",
    "print(f\"Number of outliers in '{feature}': {len(outliers)}\")\n",
    "\n",
    "plt.figure(figsize=(8, 1.5))\n",
    "sns.boxplot(x=train_combined[feature], color=\"lightcoral\")\n",
    "plt.title(f'Boxplot of {feature}')\n",
    "plt.xlabel(feature)\n",
    "plt.tight_layout()\n",
    "plt.show()"
   ]
  },
  {
   "cell_type": "code",
   "execution_count": null,
   "metadata": {},
   "outputs": [],
   "source": [
    "# train_combined.drop(columns=['EHQ_EHQ_Total', 'ColorVision_CV_Score'], inplace=True)\n",
    "# test_combined.drop(columns=['EHQ_EHQ_Total', 'ColorVision_CV_Score'], inplace=True)"
   ]
  },
  {
   "cell_type": "markdown",
   "metadata": {},
   "source": [
    "## 2.2 Categorical Features Visualization"
   ]
  },
  {
   "cell_type": "code",
   "execution_count": null,
   "metadata": {
    "trusted": true
   },
   "outputs": [],
   "source": [
    "categorical_features = [\n",
    "    'Basic_Demos_Enroll_Year', 'Basic_Demos_Study_Site',\n",
    "    'PreInt_Demos_Fam_Child_Ethnicity', 'PreInt_Demos_Fam_Child_Race',\n",
    "    'MRI_Track_Scan_Location', 'Barratt_Barratt_P1_Edu',\n",
    "    'Barratt_Barratt_P1_Occ', 'Barratt_Barratt_P2_Edu',\n",
    "    'Barratt_Barratt_P2_Occ', 'Laterality_Category', 'ColorVision_Level',\n",
    "    'APQ_CP_is_high'\n",
    "]\n",
    "\n",
    "print(len(categorical_features))   "
   ]
  },
  {
   "cell_type": "markdown",
   "metadata": {},
   "source": [
    "### 2.2.1 Basic_Demos_Enroll_Year"
   ]
  },
  {
   "cell_type": "code",
   "execution_count": null,
   "metadata": {
    "trusted": true
   },
   "outputs": [],
   "source": [
    "feature = 'Basic_Demos_Enroll_Year'\n",
    "nan_count_train = train_combined[feature].isna().sum()\n",
    "print(f\"Number of NaN rows in feature '{feature}': {nan_count_train}\")\n",
    "nan_count_test = test_combined[feature].isna().sum()\n",
    "print(f\"Number of NaN rows in test feature '{feature}': {nan_count_test}\")"
   ]
  },
  {
   "cell_type": "code",
   "execution_count": null,
   "metadata": {
    "trusted": true
   },
   "outputs": [],
   "source": [
    "plt.figure(figsize=(8, 4))\n",
    "sns.countplot(x=train_combined[feature], palette=\"Set2\")\n",
    "plt.title(f\"Distribution of {feature}\")\n",
    "plt.xticks(rotation=45)\n",
    "plt.tight_layout()\n",
    "plt.show()"
   ]
  },
  {
   "cell_type": "code",
   "execution_count": null,
   "metadata": {},
   "outputs": [],
   "source": [
    "# Step 1: Compute rare categories from TRAIN only\n",
    "threshold = 50\n",
    "\n",
    "# Step 1: Handle rare categories in TRAIN\n",
    "category_counts = train_combined[feature].value_counts()\n",
    "rare_categories = category_counts[category_counts < threshold].index\n",
    "train_combined[feature] = train_combined[feature].apply(\n",
    "    lambda x: 'Other' if x in rare_categories else str(x)\n",
    ")\n",
    "\n",
    "# Step 2: Handle rare + unseen categories in TEST\n",
    "# Convert to str first so categories match\n",
    "test_combined[feature] = test_combined[feature].astype(str)\n",
    "\n",
    "# Map test values to 'Other' if not in train (incl. unseen or rare ones)\n",
    "allowed_categories = set(train_combined[feature].unique())\n",
    "\n",
    "test_combined[feature] = test_combined[feature].apply(\n",
    "    lambda x: x if x in allowed_categories else 'Other'\n",
    ")\n",
    "\n",
    "plt.figure(figsize=(8, 4))\n",
    "sns.countplot(x=train_combined[feature], palette=\"Set2\", order=train_combined[feature].value_counts().index)\n",
    "plt.title(f\"Distribution of {feature} (after grouping rare categories)\")\n",
    "plt.xticks(rotation=45)\n",
    "plt.tight_layout()\n",
    "plt.show()"
   ]
  },
  {
   "cell_type": "code",
   "execution_count": null,
   "metadata": {},
   "outputs": [],
   "source": [
    "train_combined[feature] = train_combined[feature].replace({4: 0})\n",
    "test_combined[feature] = test_combined[feature].replace({4: 0})"
   ]
  },
  {
   "cell_type": "markdown",
   "metadata": {},
   "source": [
    "### 2.2.2: Basic_Demos_Study_Site"
   ]
  },
  {
   "cell_type": "code",
   "execution_count": null,
   "metadata": {},
   "outputs": [],
   "source": [
    "feature = 'Basic_Demos_Study_Site'\n",
    "nan_count = train_combined[feature].isna().sum()\n",
    "print(f\"Number of NaN rows in feature '{feature}': {nan_count}\")\n",
    "\n",
    "nan_count_test = test_combined[feature].isna().sum()\n",
    "print(f\"Number of NaN rows in test feature '{feature}': {nan_count_test}\")"
   ]
  },
  {
   "cell_type": "code",
   "execution_count": null,
   "metadata": {},
   "outputs": [],
   "source": [
    "plt.figure(figsize=(8, 4))\n",
    "sns.countplot(x=train_combined[feature], palette='pastel', order=train_combined[feature].value_counts().index)\n",
    "plt.title(f\"Distribution of {feature}\")\n",
    "plt.xticks(rotation=45)\n",
    "plt.tight_layout()\n",
    "plt.show()"
   ]
  },
  {
   "cell_type": "code",
   "execution_count": null,
   "metadata": {},
   "outputs": [],
   "source": [
    "# Step 1: Combine 2, 3, and 4 into 2\n",
    "train_combined[feature] = train_combined[feature].replace({3: 2, 4: 2})\n",
    "test_combined[feature] = test_combined[feature].replace({3: 2, 4: 2})\n",
    "\n",
    "# Step 2: Handle rare categories\n",
    "threshold = 25\n",
    "category_counts = train_combined[feature].value_counts()\n",
    "rare_categories = category_counts[category_counts < threshold].index\n",
    "\n",
    "print(f\"Rare categories in '{feature}' (fewer than {threshold} instances):\")\n",
    "print(rare_categories)\n",
    "\n",
    "# Step 3: Replace rare categories with 'Other'\n",
    "train_combined[feature] = train_combined[feature].apply(\n",
    "    lambda x: 'Other' if x in rare_categories else str(x)\n",
    ")\n",
    "test_combined[feature] = test_combined[feature].apply(\n",
    "    lambda x: 'Other' if x in rare_categories else str(x)\n",
    ")\n",
    "\n",
    "# Step 4: Plot updated TRAIN distribution\n",
    "plt.figure(figsize=(8, 4))\n",
    "sns.countplot(x=train_combined[feature], palette='pastel', order=train_combined[feature].value_counts().index)\n",
    "plt.title(f\"Distribution of {feature} (after combining 2/3/4 and cleaning)\")\n",
    "plt.xticks(rotation=45)\n",
    "plt.tight_layout()\n",
    "plt.show()"
   ]
  },
  {
   "cell_type": "markdown",
   "metadata": {},
   "source": [
    "### 2.2.3: PreInt_Demos_Fam_Child_Ethnicity"
   ]
  },
  {
   "cell_type": "code",
   "execution_count": null,
   "metadata": {},
   "outputs": [],
   "source": [
    "feature = 'PreInt_Demos_Fam_Child_Ethnicity'\n",
    "nan_count = train_combined[feature].isna().sum()\n",
    "print(f\"Number of NaN rows in feature '{feature}': {nan_count}\")\n",
    "\n",
    "nan_count_test = test_combined[feature].isna().sum()\n",
    "print(f\"Number of NaN rows in test feature '{feature}': {nan_count_test}\")"
   ]
  },
  {
   "cell_type": "code",
   "execution_count": null,
   "metadata": {},
   "outputs": [],
   "source": [
    "train_combined[feature] = train_combined[feature].fillna(3.0)\n",
    "test_combined[feature] = test_combined[feature].fillna(3.0)"
   ]
  },
  {
   "cell_type": "code",
   "execution_count": null,
   "metadata": {},
   "outputs": [],
   "source": [
    "plt.figure(figsize=(8, 4))\n",
    "sns.countplot(x=train_combined[feature], palette='pastel', order=train_combined[feature].value_counts().index)\n",
    "plt.title(f\"Distribution of {feature}\")\n",
    "plt.xticks(rotation=45)\n",
    "plt.tight_layout()\n",
    "plt.show()"
   ]
  },
  {
   "cell_type": "code",
   "execution_count": null,
   "metadata": {},
   "outputs": [],
   "source": [
    "# combine values 2 and 3\n",
    "train_combined[feature] = train_combined[feature].replace({3: 2})\n",
    "test_combined[feature] = test_combined[feature].replace({3: 2})\n",
    "\n",
    "plt.figure(figsize=(8, 4))\n",
    "sns.countplot(x=train_combined[feature], palette='pastel', order=train_combined[feature].value_counts().index)\n",
    "plt.title(f\"Distribution of {feature} (2 and 3 combined)\")\n",
    "plt.xticks(rotation=45)\n",
    "plt.tight_layout()\n",
    "plt.show()"
   ]
  },
  {
   "cell_type": "markdown",
   "metadata": {},
   "source": [
    "### 2.2.4: PreInt_Demos_Fam_Child_Race"
   ]
  },
  {
   "cell_type": "code",
   "execution_count": null,
   "metadata": {},
   "outputs": [],
   "source": [
    "feature = 'PreInt_Demos_Fam_Child_Race'\n",
    "nan_count = train_combined[feature].isna().sum()\n",
    "print(f\"Number of NaN rows in feature '{feature}': {nan_count}\")\n",
    "\n",
    "nan_test_count = test_combined[feature].isna().sum()\n",
    "print(f\"Number of NaN rows in test feature '{feature}': {nan_test_count}\")"
   ]
  },
  {
   "cell_type": "code",
   "execution_count": null,
   "metadata": {},
   "outputs": [],
   "source": [
    "train_combined[feature] = train_combined[feature].fillna(10.0)\n",
    "test_combined[feature] = test_combined[feature].fillna(10.0)"
   ]
  },
  {
   "cell_type": "code",
   "execution_count": null,
   "metadata": {},
   "outputs": [],
   "source": [
    "plt.figure(figsize=(8, 4))\n",
    "sns.countplot(x=train_combined[feature], palette='pastel', order=train_combined[feature].value_counts().index)\n",
    "plt.title(f\"Distribution of {feature}\")\n",
    "plt.xticks(rotation=45)\n",
    "plt.tight_layout()\n",
    "plt.show()"
   ]
  },
  {
   "cell_type": "code",
   "execution_count": null,
   "metadata": {},
   "outputs": [],
   "source": [
    "# Step 1: Map values\n",
    "train_combined[feature] = train_combined[feature].apply(lambda x: \"White\" if x == 0.0 else \"Non-White\")\n",
    "test_combined[feature] = test_combined[feature].apply(lambda x: \"White\" if x == 0.0 else \"Non-White\")\n",
    "\n",
    "# Step 2: Plot\n",
    "plt.figure(figsize=(6, 4))\n",
    "sns.countplot(x=train_combined[feature], palette='pastel', \n",
    "              order=train_combined[feature].value_counts().index)\n",
    "plt.title(f\"Distribution of {feature} (White vs Non-White)\")\n",
    "plt.tight_layout()\n",
    "plt.show()"
   ]
  },
  {
   "cell_type": "markdown",
   "metadata": {},
   "source": [
    "### 2.2.5: MRI_Track_Scan_Location"
   ]
  },
  {
   "cell_type": "code",
   "execution_count": null,
   "metadata": {},
   "outputs": [],
   "source": [
    "feature = 'MRI_Track_Scan_Location'\n",
    "nan_count = train_combined[feature].isna().sum()\n",
    "print(f\"Number of NaN rows in feature '{feature}': {nan_count}\")\n",
    "\n",
    "nan_test_count = test_combined[feature].isna().sum()\n",
    "print(f\"Number of NaN rows in test feature '{feature}': {nan_test_count}\")"
   ]
  },
  {
   "cell_type": "code",
   "execution_count": null,
   "metadata": {},
   "outputs": [],
   "source": [
    "train_combined[feature] = train_combined[feature].fillna(4.0)\n",
    "test_combined[feature] = test_combined[feature].fillna(4.0)"
   ]
  },
  {
   "cell_type": "code",
   "execution_count": null,
   "metadata": {},
   "outputs": [],
   "source": [
    "plt.figure(figsize=(8, 4))\n",
    "sns.countplot(x=train_combined[feature], palette='pastel', order=train_combined[feature].value_counts().index)\n",
    "plt.title(f\"Distribution of {feature}\")\n",
    "plt.xticks(rotation=45)\n",
    "plt.tight_layout()\n",
    "plt.show()"
   ]
  },
  {
   "cell_type": "code",
   "execution_count": null,
   "metadata": {},
   "outputs": [],
   "source": [
    "# combine values 1 and 4\n",
    "train_combined[feature] = train_combined[feature].replace({4: 1})\n",
    "test_combined[feature] = test_combined[feature].replace({4: 1})\n",
    "\n",
    "plt.figure(figsize=(8, 4))\n",
    "sns.countplot(x=train_combined[feature], palette='pastel', order=train_combined[feature].value_counts().index)\n",
    "plt.title(f\"Distribution of {feature}\")\n",
    "plt.xticks(rotation=45)\n",
    "plt.tight_layout()\n",
    "plt.show()"
   ]
  },
  {
   "cell_type": "markdown",
   "metadata": {},
   "source": [
    "### 2.2.6: Barratt_Barratt_P1_Edu"
   ]
  },
  {
   "cell_type": "code",
   "execution_count": null,
   "metadata": {},
   "outputs": [],
   "source": [
    "feature = 'Barratt_Barratt_P1_Edu'\n",
    "nan_count = train_combined[feature].isna().sum()\n",
    "print(f\"Number of NaN rows in feature '{feature}': {nan_count}\")\n",
    "\n",
    "nan_test_count = test_combined[feature].isna().sum()\n",
    "print(f\"Number of NaN rows in test feature '{feature}': {nan_test_count}\")"
   ]
  },
  {
   "cell_type": "code",
   "execution_count": null,
   "metadata": {},
   "outputs": [],
   "source": [
    "train_combined[feature] = train_combined[feature].fillna(18.0)\n",
    "test_combined[feature] = test_combined[feature].fillna(18.0)"
   ]
  },
  {
   "cell_type": "code",
   "execution_count": null,
   "metadata": {},
   "outputs": [],
   "source": [
    "plt.figure(figsize=(8, 4))\n",
    "sns.countplot(x=train_combined[feature], palette='pastel', order=train_combined[feature].value_counts().index)\n",
    "plt.title(f\"Distribution of {feature}\")\n",
    "plt.xticks(rotation=45)\n",
    "plt.tight_layout()\n",
    "plt.show()"
   ]
  },
  {
   "cell_type": "code",
   "execution_count": null,
   "metadata": {},
   "outputs": [],
   "source": [
    "def collapse_edu(value):\n",
    "    if value == 21.0:\n",
    "        return \"Upper_College\"\n",
    "    elif value == 18.0:\n",
    "        return \"College\"\n",
    "    else:\n",
    "        return \"Under_College\"\n",
    "    \n",
    "train_combined[feature] = train_combined[feature].apply(collapse_edu)\n",
    "test_combined[feature] = test_combined[feature].apply(collapse_edu)"
   ]
  },
  {
   "cell_type": "code",
   "execution_count": null,
   "metadata": {},
   "outputs": [],
   "source": [
    "# Plot updated distribution\n",
    "plt.figure(figsize=(6, 4))\n",
    "sns.countplot(x=train_combined[feature], palette='Set2', order=train_combined[feature].value_counts().index)\n",
    "plt.title(f\"Collapsed Distribution of {feature}\")\n",
    "plt.tight_layout()\n",
    "plt.show()"
   ]
  },
  {
   "cell_type": "markdown",
   "metadata": {},
   "source": [
    "### 2.2.7: Barratt_Barratt_P1_Occ"
   ]
  },
  {
   "cell_type": "code",
   "execution_count": null,
   "metadata": {},
   "outputs": [],
   "source": [
    "feature = 'Barratt_Barratt_P1_Occ'\n",
    "nan_count = train_combined[feature].isna().sum()\n",
    "print(f\"Number of NaN rows in feature '{feature}': {nan_count}\")\n",
    "\n",
    "nan_test_count = test_combined[feature].isna().sum()\n",
    "print(f\"Number of NaN rows in test feature '{feature}': {nan_test_count}\")"
   ]
  },
  {
   "cell_type": "code",
   "execution_count": null,
   "metadata": {},
   "outputs": [],
   "source": [
    "median_value = train_combined[feature].median()\n",
    "train_combined[feature] = train_combined[feature].fillna(median_value)\n",
    "print(f\"Filled NaN in '{feature}' with median value: {median_value}\")\n",
    "\n",
    "median_test_value = test_combined[feature].median()\n",
    "test_combined[feature] = test_combined[feature].fillna(median_test_value)\n",
    "print(f\"Filled NaN in '{feature}' with median value: {median_test_value}\")"
   ]
  },
  {
   "cell_type": "code",
   "execution_count": null,
   "metadata": {},
   "outputs": [],
   "source": [
    "plt.figure(figsize=(8, 4))\n",
    "sns.countplot(x=train_combined[feature], palette='pastel', order=train_combined[feature].value_counts().index)\n",
    "plt.title(f\"Distribution of {feature}\")\n",
    "plt.xticks(rotation=45)\n",
    "plt.tight_layout()\n",
    "plt.show()"
   ]
  },
  {
   "cell_type": "code",
   "execution_count": null,
   "metadata": {},
   "outputs": [],
   "source": [
    "def collapse_occupation(val):\n",
    "    if val in [0.0, 5.0, 10.0, 15.0]:\n",
    "        return \"Low\"\n",
    "    elif val in [20.0, 25.0]:\n",
    "        return \"LowerMid\"\n",
    "    elif val in [30.0, 35.0, 40.0]:\n",
    "        return \"UpperMid\"\n",
    "    elif val == 45.0:\n",
    "        return \"High\"\n",
    "    else:\n",
    "        return \"Other\"  # Safety fallback\n",
    "\n",
    "feature = \"Barratt_Barratt_P1_Occ\"\n",
    "\n",
    "train_combined[feature] = train_combined[feature].apply(collapse_occupation)\n",
    "test_combined[feature] = test_combined[feature].apply(collapse_occupation)"
   ]
  },
  {
   "cell_type": "markdown",
   "metadata": {},
   "source": [
    "### 2.2.8: Barratt_Barratt_P2_Edu"
   ]
  },
  {
   "cell_type": "code",
   "execution_count": null,
   "metadata": {},
   "outputs": [],
   "source": [
    "feature = 'Barratt_Barratt_P2_Edu'\n",
    "nan_count = train_combined[feature].isna().sum()\n",
    "print(f\"Number of NaN rows in feature '{feature}': {nan_count}\")\n",
    "\n",
    "nan_test_count = test_combined[feature].isna().sum()\n",
    "print(f\"Number of NaN rows in test feature '{feature}': {nan_test_count}\")"
   ]
  },
  {
   "cell_type": "code",
   "execution_count": null,
   "metadata": {},
   "outputs": [],
   "source": [
    "def collapse_edu(value):\n",
    "    if value == 21.0:\n",
    "        return \"Upper_College\"\n",
    "    elif value == 18.0:\n",
    "        return \"College\"\n",
    "    else:\n",
    "        return \"Under_College\"\n",
    "    \n",
    "train_combined[feature] = train_combined[feature].apply(collapse_edu)\n",
    "test_combined[feature] = test_combined[feature].apply(collapse_edu)"
   ]
  },
  {
   "cell_type": "code",
   "execution_count": null,
   "metadata": {},
   "outputs": [],
   "source": [
    "def impute_p2_edu(row):\n",
    "    if pd.isna(row['Barratt_Barratt_P2_Edu']):\n",
    "        return row['Barratt_Barratt_P1_Edu']\n",
    "    return row['Barratt_Barratt_P2_Edu']\n",
    "\n",
    "train_combined['Barratt_Barratt_P2_Edu'] = train_combined.apply(impute_p2_edu, axis=1)\n",
    "test_combined['Barratt_Barratt_P2_Edu'] = test_combined.apply(impute_p2_edu, axis=1)"
   ]
  },
  {
   "cell_type": "code",
   "execution_count": null,
   "metadata": {},
   "outputs": [],
   "source": [
    "plt.figure(figsize=(8, 4))\n",
    "sns.countplot(x=train_combined[feature], palette='pastel', order=train_combined[feature].value_counts().index)\n",
    "plt.title(f\"Distribution of {feature}\")\n",
    "plt.xticks(rotation=45)\n",
    "plt.tight_layout()\n",
    "plt.show()"
   ]
  },
  {
   "cell_type": "markdown",
   "metadata": {},
   "source": [
    "### 2.2.9: Barratt_Barratt_P2_Occ"
   ]
  },
  {
   "cell_type": "code",
   "execution_count": null,
   "metadata": {},
   "outputs": [],
   "source": [
    "feature = 'Barratt_Barratt_P2_Occ'\n",
    "nan_count = train_combined[feature].isna().sum()\n",
    "print(f\"Number of NaN rows in feature '{feature}': {nan_count}\")\n",
    "\n",
    "nan_test_count = test_combined[feature].isna().sum()\n",
    "print(f\"Number of NaN rows in test feature '{feature}': {nan_test_count}\")"
   ]
  },
  {
   "cell_type": "code",
   "execution_count": null,
   "metadata": {},
   "outputs": [],
   "source": [
    "def collapse_occupation(val):\n",
    "    if val in [0.0, 5.0, 10.0, 15.0]:\n",
    "        return \"Low\"\n",
    "    elif val in [20.0, 25.0]:\n",
    "        return \"LowerMid\"\n",
    "    elif val in [30.0, 35.0, 40.0]:\n",
    "        return \"UpperMid\"\n",
    "    elif val == 45.0:\n",
    "        return \"High\"\n",
    "    else:\n",
    "        return \"Other\"  # Safety fallback\n",
    "\n",
    "feature = \"Barratt_Barratt_P2_Occ\"\n",
    "\n",
    "train_combined[feature] = train_combined[feature].apply(collapse_occupation)\n",
    "test_combined[feature] = test_combined[feature].apply(collapse_occupation)"
   ]
  },
  {
   "cell_type": "code",
   "execution_count": null,
   "metadata": {},
   "outputs": [],
   "source": [
    "def impute_p2_edu(row):\n",
    "    if pd.isna(row['Barratt_Barratt_P2_Occ']):\n",
    "        return row['Barratt_Barratt_P1_Occ']\n",
    "    return row['Barratt_Barratt_P2_Occ']\n",
    "\n",
    "train_combined['Barratt_Barratt_P2_Occ'] = train_combined.apply(impute_p2_edu, axis=1)\n",
    "test_combined['Barratt_Barratt_P2_Occ'] = test_combined.apply(impute_p2_edu, axis=1)"
   ]
  },
  {
   "cell_type": "code",
   "execution_count": null,
   "metadata": {},
   "outputs": [],
   "source": [
    "plt.figure(figsize=(8, 4))\n",
    "sns.countplot(x=train_combined[feature], palette='pastel', order=train_combined[feature].value_counts().index)\n",
    "plt.title(f\"Distribution of {feature}\")\n",
    "plt.xticks(rotation=45)\n",
    "plt.tight_layout()\n",
    "plt.show()"
   ]
  },
  {
   "cell_type": "code",
   "execution_count": null,
   "metadata": {},
   "outputs": [],
   "source": [
    "# train_combined.drop(columns=['MRI_Track_Scan_Location', 'Basic_Demos_Study_Site'], inplace=True)\n",
    "# test_combined.drop(columns=['MRI_Track_Scan_Location', 'Basic_Demos_Study_Site'], inplace=True)"
   ]
  },
  {
   "cell_type": "markdown",
   "metadata": {},
   "source": [
    "### 2.2.10 LABEL ENCODING"
   ]
  },
  {
   "cell_type": "code",
   "execution_count": null,
   "metadata": {},
   "outputs": [],
   "source": [
    "label_encode_features = [\n",
    "    'Basic_Demos_Enroll_Year',\n",
    "    'Barratt_Barratt_P1_Edu',\n",
    "    'Barratt_Barratt_P1_Occ',\n",
    "    'Barratt_Barratt_P2_Edu',\n",
    "    'Barratt_Barratt_P2_Occ',\n",
    "    'Laterality_Category'\n",
    "]\n",
    "\n",
    "\n",
    "\n",
    "encoders = {}  # Store encoders if needed for inverse_transform later\n",
    "\n",
    "for feature in label_encode_features:\n",
    "    le = LabelEncoder()\n",
    "    train_combined[feature] = le.fit_transform(train_combined[feature])\n",
    "    test_combined[feature] = le.transform(test_combined[feature])\n",
    "    encoders[feature] = le  # Save encoder"
   ]
  },
  {
   "cell_type": "code",
   "execution_count": null,
   "metadata": {},
   "outputs": [],
   "source": [
    "# Updated binary map: White = 1, Non-White = 0\n",
    "binary_map = {\n",
    "    'White': 1,\n",
    "    'Non-White': 0,\n",
    "}\n",
    "\n",
    "# Apply to 'PreInt_Demos_Fam_Child_Race'\n",
    "train_combined['PreInt_Demos_Fam_Child_Race'] = train_combined['PreInt_Demos_Fam_Child_Race'].map(binary_map)\n",
    "test_combined['PreInt_Demos_Fam_Child_Race'] = test_combined['PreInt_Demos_Fam_Child_Race'].map(binary_map)"
   ]
  },
  {
   "cell_type": "markdown",
   "metadata": {},
   "source": [
    "# 3. Final"
   ]
  },
  {
   "cell_type": "code",
   "execution_count": null,
   "metadata": {},
   "outputs": [],
   "source": [
    "train_combined.columns"
   ]
  },
  {
   "cell_type": "code",
   "execution_count": null,
   "metadata": {},
   "outputs": [],
   "source": [
    "test_combined"
   ]
  },
  {
   "cell_type": "code",
   "execution_count": null,
   "metadata": {},
   "outputs": [],
   "source": [
    "for feature in train_combined.columns:\n",
    "    num_missing = train_combined[feature].isna().sum()\n",
    "    print(f\"{feature}: {num_missing} missing values\")"
   ]
  },
  {
   "cell_type": "code",
   "execution_count": null,
   "metadata": {},
   "outputs": [],
   "source": [
    "for feature in test_combined.columns:\n",
    "    num_missing = test_combined[feature].isna().sum()\n",
    "    print(f\"{feature}: {num_missing} missing values\")"
   ]
  },
  {
   "cell_type": "code",
   "execution_count": null,
   "metadata": {},
   "outputs": [],
   "source": [
    "# Reset index to include participant_id as a column\n",
    "train_combined.reset_index(inplace=True)\n",
    "test_combined.reset_index(inplace=True)\n",
    "\n",
    "train_combined.to_csv('train_processed.csv', index=False)\n",
    "test_combined.to_csv('test_processed.csv', index=False)\n",
    "\n",
    "print(\"Complete!\")"
   ]
  }
 ],
 "metadata": {
  "kaggle": {
   "accelerator": "none",
   "dataSources": [
    {
     "datasetId": 7062972,
     "sourceId": 11295441,
     "sourceType": "datasetVersion"
    }
   ],
   "dockerImageVersionId": 30918,
   "isGpuEnabled": false,
   "isInternetEnabled": true,
   "language": "python",
   "sourceType": "notebook"
  },
  "kernelspec": {
   "display_name": "Python 3",
   "language": "python",
   "name": "python3"
  },
  "language_info": {
   "codemirror_mode": {
    "name": "ipython",
    "version": 3
   },
   "file_extension": ".py",
   "mimetype": "text/x-python",
   "name": "python",
   "nbconvert_exporter": "python",
   "pygments_lexer": "ipython3",
   "version": "3.12.3"
  }
 },
 "nbformat": 4,
 "nbformat_minor": 4
}
