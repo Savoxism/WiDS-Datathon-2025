{
 "cells": [
  {
   "cell_type": "markdown",
   "id": "82c63531",
   "metadata": {},
   "source": [
    "# 1. Setup"
   ]
  },
  {
   "cell_type": "code",
   "execution_count": null,
   "id": "0e0f1b0d",
   "metadata": {},
   "outputs": [],
   "source": [
    "import numpy as np\n",
    "import pandas as pd\n",
    "import matplotlib.pyplot as plt\n",
    "from sklearn.preprocessing import StandardScaler\n",
    "from sklearn.linear_model import LogisticRegressionCV\n",
    "from sklearn.metrics import brier_score_loss, f1_score\n",
    "from sklearn.model_selection import RepeatedStratifiedKFold, StratifiedKFold\n",
    "from scipy.stats import ks_2samp, mannwhitneyu\n",
    "from catboost import CatBoostClassifier \n",
    "\n",
    "import warnings\n",
    "warnings.filterwarnings(\"ignore\")\n",
    "\n",
    "SEED = 42\n",
    "REPEATS = 5\n",
    "FOLDS = 5\""
   ]
  },
  {
   "cell_type": "code",
   "execution_count": null,
   "id": "0a1cc723",
   "metadata": {},
   "outputs": [],
   "source": [
    "train_metadata = pd.read_csv('train_processed.csv').set_index(\"participant_id\")\n",
    "test_metadata = pd.read_csv('test_processed.csv').set_index(\"participant_id\")\n",
    "\n",
    "train_fmri = pd.read_csv(\"TRAIN_fMRI_PCA.csv\").set_index(\"participant_id\")\n",
    "train_fmri = train_fmri.drop(columns=[\"Unnamed: 0\"])\n",
    "\n",
    "test_fmri = pd.read_csv(\"TEST_fMRI_PCA.csv\").set_index(\"participant_id\")\n",
    "test_fmri = test_fmri.drop(columns=[\"Unnamed: 0\"])\n",
    "\n",
    "labels = pd.read_excel(\"data/TRAIN/TRAINING_SOLUTIONS.xlsx\").set_index(\"participant_id\")\n",
    "\n",
    "train_combined = pd.concat([train_metadata, train_fmri], axis=1)\n",
    "test_combined = pd.concat([test_metadata, test_fmri], axis=1)\n",
    "\n",
    "train_combined = train_combined.sort_index()\n",
    "test_combined = test_combined.sort_index()\n",
    "labels = labels.sort_index()\n",
    "\n",
    "assert all(train_combined.index == labels.index), \"Label IDs do not match train IDs\"\n",
    "\n",
    "X_train = train_combined.copy()\n",
    "y_train_sex = labels['Sex_F']\n",
    "y_train_adhd = labels['ADHD_Outcome']\n",
    "\n",
    "print(\"Merged Training Data Shape:\", X_train.shape)\n",
    "print(\"Merged Test Data Shape:\", test_combined.shape)"
   ]
  },
  {
   "cell_type": "code",
   "execution_count": null,
   "id": "4e4241e4",
   "metadata": {},
   "outputs": [],
   "source": [
    "train_combined"
   ]
  },
  {
   "cell_type": "markdown",
   "id": "7edde716",
   "metadata": {},
   "source": [
    "# 2. Feature Selection"
   ]
  },
  {
   "cell_type": "code",
   "execution_count": null,
   "id": "6af1bf23",
   "metadata": {},
   "outputs": [],
   "source": [
    "# Standard scaling on both train and test datasets\n",
    "scaler = StandardScaler()\n",
    "train_combined = pd.DataFrame(\n",
    "    scaler.fit_transform(train_combined),\n",
    "    columns=train_combined.columns,\n",
    "    index=train_combined.index,\n",
    ")\n",
    "test_combined = pd.DataFrame(\n",
    "    scaler.transform(test_combined),\n",
    "    columns=test_combined.columns,\n",
    "    index=test_combined.index,\n",
    ")"
   ]
  },
  {
   "cell_type": "code",
   "execution_count": null,
   "id": "a5db1c2a",
   "metadata": {},
   "outputs": [],
   "source": [
    "y_adhd = labels['ADHD_Outcome']\n",
    "y_sex = labels['Sex_F']\n",
    "\n",
    "combinations = y_adhd.astype(str) + y_sex.astype(str)"
   ]
  },
  {
   "cell_type": "code",
   "execution_count": null,
   "id": "529c8b5a",
   "metadata": {},
   "outputs": [],
   "source": [
    "# Features chosen for the ADHD model\n",
    "features_adhd = ['SDQ_SDQ_Hyperactivity', 'SDQ_SDQ_Externalizing', 'SDQ_SDQ_Difficulties_Total', 'SDQ_SDQ_Generating_Impact', 'SDQ_SDQ_Conduct_Problems', 'SDQ_SDQ_Internalizing', 'SDQ_SDQ_Peer_Problems', 'SDQ_SDQ_Emotional_Problems', 'SDQ_SDQ_Prosocial', 'Basic_Demos_Enroll_Year', 'APQ_P_APQ_P_OPD', 'APQ_P_APQ_P_ID']\n",
    "\n",
    "interactions = ['SDQ_SDQ_Difficulties_Total', 'SDQ_SDQ_Generating_Impact', 'SDQ_SDQ_Conduct_Problems', 'SDQ_SDQ_Peer_Problems', 'Basic_Demos_Enroll_Year', 'APQ_P_APQ_P_ID']\n",
    "\n",
    "sex = ['SDQ_SDQ_Hyperactivity', 'feature_15', 'SDQ_SDQ_Prosocial', 'SDQ_SDQ_Externalizing', 'SDQ_SDQ_Emotional_Problems', 'ColorVision_CV_Score', 'feature_8', 'APQ_P_APQ_P_PP', 'feature_14', 'feature_16', 'APQ_P_APQ_P_INV', 'feature_18', 'APQ_P_APQ_P_OPD', 'feature_1', 'SDQ_SDQ_Internalizing']\n",
    "\n",
    "# features_sex = ['SDQ_SDQ_Hyperactivity', 'SDQ_SDQ_Prosocial', 'SDQ_SDQ_Externalizing', 'SDQ_SDQ_Emotional_Problems', 'ColorVision_CV_Score', 'APQ_P_APQ_P_PP', 'APQ_P_APQ_P_INV', 'APQ_P_APQ_P_OPD', 'SDQ_SDQ_Internalizing'] + ['adhd_proba'] + [f\"I_{feat}\" for feat in interactions]\n",
    "\n",
    "def eval_metrics(y_true, y_pred, weights, label=\"None\", threshold=0.5):\n",
    "    brier = brier_score_loss(y_true, y_pred)\n",
    "    f1 = f1_score(y_true, (y_pred > threshold).astype(int), sample_weight=weights)\n",
    "    print(f\"{label} -> Brier Score: {brier:.4f}, F1: {f1:.4f}\")\n",
    "    return brier, f1"
   ]
  },
  {
   "cell_type": "code",
   "execution_count": null,
   "id": "4e5fd106",
   "metadata": {},
   "outputs": [],
   "source": [
    "sex_oof = np.zeros(len(y_sex))\n",
    "adhd_oof = np.zeros(len(y_adhd))\n",
    "scores_sex = []\n",
    "scores_adhd = []\n",
    "\n",
    "t_sex = 0.3  # threshold for sex prediction\n",
    "t_adhd = 0.4 # threshold for ADHD prediction\n",
    "\n",
    "rskf = RepeatedStratifiedKFold(n_splits=FOLDS, n_repeats=REPEATS, random_state=SEED)\n",
    "skf = StratifiedKFold(n_splits=FOLDS)\n",
    "\n",
    "params = {\n",
    "    \"penalty\": \"l1\",\n",
    "    \"Cs\": 10,\n",
    "    \"cv\": skf,\n",
    "    \"fit_intercept\": True,\n",
    "    \"scoring\": \"f1\",\n",
    "    \"random_state\": SEED,\n",
    "    \"solver\": \"saga\",\n",
    "    \"class_weight\": \"balanced\"\n",
    "}\n",
    "model_adhd = LogisticRegressionCV(**params)\n",
    "\n",
    "catboost_params = {\n",
    "    # \"loss_function\": \"LogLoss\",\n",
    "    \"eval_metric\": \"F1\",\n",
    "    \"random_seed\": SEED,\n",
    "    \"verbose\": 0,\n",
    "    # \"class_weight\": None,\n",
    "}"
   ]
  },
  {
   "cell_type": "code",
   "execution_count": null,
   "id": "11f917ee",
   "metadata": {},
   "outputs": [],
   "source": [
    "for fold, (train_idx, val_idx) in enumerate(rskf.split(train_combined, combinations), 1):\n",
    "    print(f\"\\n=== Fold {fold} ===\")\n",
    "    X_train = train_combined.iloc[train_idx].copy()\n",
    "    X_val = train_combined.iloc[val_idx].copy()\n",
    "    y_train_adhd, y_val_adhd = y_adhd.iloc[train_idx], y_adhd.iloc[val_idx]\n",
    "    y_train_sex, y_val_sex = y_sex.iloc[train_idx], y_sex.iloc[val_idx]\n",
    "    \n",
    "    # Set sample weights: upweight \"11\" cases (female with ADHD) with weight 2\n",
    "    weights_train = np.where(combinations.iloc[train_idx] == \"11\", 2, 1)\n",
    "    weights_val = np.where(combinations.iloc[val_idx] == \"11\", 2, 1)\n",
    "\n",
    "    # --- Stage 1: ADHD Model Training ---\n",
    "    # Train the ADHD model using selected features\n",
    "    model_adhd.fit(X_train[features_adhd], y_train_adhd, sample_weight=weights_train)\n",
    "    adhd_train = model_adhd.predict_proba(X_train[features_adhd])[:, 1]\n",
    "    adhd_val = model_adhd.predict_proba(X_val[features_adhd])[:, 1]\n",
    "    adhd_oof[val_idx] += adhd_val / REPEATS\n",
    "    brier, f1 = eval_metrics(y_val_adhd, adhd_val, weights_val, label=\"ADHD\", threshold=t_adhd)\n",
    "    scores_adhd.append((brier, f1))\n",
    "    \n",
    "    # # --- Stage 2: Sex Model Training (with CatBoost) ---\n",
    "    # # Add ADHD probabilities as a new feature\n",
    "    # X_train[\"adhd_proba\"] = adhd_train\n",
    "    # X_val[\"adhd_proba\"] = adhd_val\n",
    "    # # Create interaction features by multiplying ADHD probability with each specified feature\n",
    "    # for feat in interactions:\n",
    "    #     X_train[f\"I_{feat}\"] = X_train[feat] * X_train[\"adhd_proba\"]\n",
    "    #     X_val[f\"I_{feat}\"] = X_val[feat] * X_val[\"adhd_proba\"]\n",
    "\n",
    "    # Initialize the CatBoost classifier for sex prediction\n",
    "    model_sex = CatBoostClassifier(**catboost_params)\n",
    "    # Train the sex model on the augmented features while passing sample weights for balancing\n",
    "    model_sex.fit(X_train[sex], y_train_sex, sample_weight=weights_train)\n",
    "    sex_val_pred = model_sex.predict_proba(X_val[sex])[:, 1]\n",
    "    sex_oof[val_idx] += sex_val_pred / REPEATS\n",
    "    brier_sex, f1_sex = eval_metrics(y_val_sex, sex_val_pred, weights_val, label=\"Sex_F\", threshold=t_sex)\n",
    "    scores_sex.append((brier_sex, f1_sex))\n",
    "    "
   ]
  },
  {
   "cell_type": "code",
   "execution_count": null,
   "id": "e18e9c29",
   "metadata": {},
   "outputs": [],
   "source": [
    "print(f\"\\n=== CV Results ===\")\n",
    "print(f\"Sex Mean Brier Score: {np.mean([s[0] for s in scores_sex]):.4f}\")\n",
    "print(f\"Sex Mean F1: {np.mean([s[1] for s in scores_sex]):.4f}\")\n",
    "print(f\"ADHD Mean Brier Score: {np.mean([s[0] for s in scores_adhd]):.4f}\")\n",
    "print(f\"ADHD Mean F1: {np.mean([s[1] for s in scores_adhd]):.4f}\")"
   ]
  },
  {
   "cell_type": "code",
   "execution_count": null,
   "id": "d546ddce",
   "metadata": {},
   "outputs": [],
   "source": [
    "# y_adhd = labels['ADHD_Outcome']\n",
    "# y_sex = labels['Sex_F']\n",
    "# combinations = y_adhd.astype(str) + y_sex.astype(str)\n",
    "\n",
    "# # Interaction terms (for ADHD-first -> then Sex model)\n",
    "# interactions = [\n",
    "#     \"APQ_P_APQ_P_INV\", \"APQ_P_APQ_P_PP\", \"SDQ_SDQ_Hyperactivity\", \n",
    "#     \"MRI_Track_Age_at_Scan\", \"SDQ_SDQ_Generating_Impact\", 'SDQ_SDQ_Emotional_Problems',\n",
    "#     'SDQ_SDQ_Externalizing', 'SDQ_SDQ_Internalizing', 'SDQ_SDQ_Conduct_Problems',\n",
    "#     'SDQ_SDQ_Prosocial',\n",
    "# ]\n",
    "\n",
    "# # Features for the ADHD model (first stage)\n",
    "# features_adhd = [\n",
    "#     'EHQ_EHQ_Total', 'ColorVision_CV_Score', 'APQ_P_APQ_P_CP',\n",
    "#     'APQ_P_APQ_P_ID', 'APQ_P_APQ_P_INV', 'APQ_P_APQ_P_OPD',\n",
    "#     'APQ_P_APQ_P_PM', 'APQ_P_APQ_P_PP', 'SDQ_SDQ_Conduct_Problems',\n",
    "#     'SDQ_SDQ_Difficulties_Total', 'SDQ_SDQ_Emotional_Problems',\n",
    "#     'SDQ_SDQ_Externalizing', 'SDQ_SDQ_Generating_Impact',\n",
    "#     'SDQ_SDQ_Hyperactivity', 'SDQ_SDQ_Internalizing',\n",
    "#     'SDQ_SDQ_Peer_Problems', 'SDQ_SDQ_Prosocial', 'MRI_Track_Age_at_Scan',\n",
    "#     'Basic_Demos_Enroll_Year', 'PreInt_Demos_Fam_Child_Ethnicity',\n",
    "#     'PreInt_Demos_Fam_Child_Race', 'Barratt_Barratt_P1_Edu',\n",
    "#     'Barratt_Barratt_P1_Occ', 'Barratt_Barratt_P2_Edu',\n",
    "#     'Barratt_Barratt_P2_Occ', 'Laterality_Category'\n",
    "# ]\n",
    "\n",
    "# # Features for the Sex model (second stage), note we use the ADHD probability and corresponding interactions\n",
    "# features_sex = features_adhd + ['adhd_proba'] + [f\"I_{feat}\" for feat in interactions]"
   ]
  },
  {
   "cell_type": "code",
   "execution_count": null,
   "id": "fc14d2b3",
   "metadata": {},
   "outputs": [],
   "source": [
    "weights_for_threshold = ((y_adhd == 1) & (y_sex == 1)) + 1\n",
    "\n",
    "thresholds = np.linspace(0, 1, 100)\n",
    "adhd_scores = [\n",
    "    f1_score(y_adhd, (adhd_oof > t).astype(int), sample_weight=weights_for_threshold) \n",
    "    for t in thresholds\n",
    "]\n",
    "\n",
    "best_adhd_threshold = thresholds[np.argmax(adhd_scores)]\n",
    "best_adhd_score = max(adhd_scores)\n",
    "print(f\"Best ADHD threshold: {best_adhd_threshold:.2f} with F1 score: {best_adhd_score:.4f}\")\n",
    "\n",
    "thresholds = np.linspace(0, 1, 100)\n",
    "sex_scores = [\n",
    "    f1_score(y_sex, (sex_oof > t).astype(int)) for t in thresholds\n",
    "]\n",
    "best_sex_threshold = thresholds[np.argmax(sex_scores)]\n",
    "best_sex_score = max(sex_scores)\n",
    "print(f\"Best Sex threshold: {best_sex_threshold:.2f} with F1 score: {best_sex_score:.4f}\")\n",
    "\n",
    "# # Plot threshold optimization and OOF distribution for ADHD model\n",
    "# fig, axs = plt.subplots(1, 2, figsize=(12, 5))\n",
    "# axs[0].plot(thresholds, adhd_scores, color='orange')\n",
    "# axs[0].scatter(best_adhd_threshold, best_adhd_score, color='red')\n",
    "# axs[0].set_title('F1 vs Threshold (ADHD)')\n",
    "# axs[0].set_xlabel('Threshold')\n",
    "# axs[0].set_ylabel('F1 Score')\n",
    "# axs[1].hist(adhd_oof, bins=30, edgecolor='black')\n",
    "# axs[1].set_title('ADHD OOF Distribution')\n",
    "# plt.tight_layout()\n",
    "# plt.show()"
   ]
  },
  {
   "cell_type": "markdown",
   "id": "fd6964ff",
   "metadata": {},
   "source": [
    "# 3. Threshold Optimization"
   ]
  },
  {
   "cell_type": "code",
   "execution_count": null,
   "id": "7ac0c070",
   "metadata": {},
   "outputs": [],
   "source": [
    "# ----- Final ADHD Model on Full Training Data -----\n",
    "model_adhd.fit(train_combined[features_adhd], y_adhd, sample_weight=weights_for_threshold)\n",
    "# Get final ADHD predictions for both train and test sets\n",
    "adhd_proba_train = model_adhd.predict_proba(train_combined[features_adhd])[:, 1]\n",
    "adhd_proba_test = model_adhd.predict_proba(test_combined[features_adhd])[:, 1]\n",
    "\n",
    "# Append ADHD predictions to training and test datasets\n",
    "train_combined[\"adhd_proba\"] = adhd_proba_train\n",
    "test_combined[\"adhd_proba\"] = adhd_proba_test\n",
    "\n",
    "# Create interaction features for both train and test sets\n",
    "for feat in interactions:\n",
    "    train_combined[f\"I_{feat}\"] = train_combined[\"adhd_proba\"] * train_combined[feat]\n",
    "    test_combined[f\"I_{feat}\"] = test_combined[\"adhd_proba\"] * test_combined[feat]\n",
    "\n",
    "final_model_sex = CatBoostClassifier(**catboost_params)\n",
    "final_model_sex.fit(train_combined[features_sex], y_sex, sample_weight=weights_for_threshold)\n",
    "sex_proba_test = final_model_sex.predict_proba(test_combined[features_sex])[:, 1]"
   ]
  },
  {
   "cell_type": "markdown",
   "id": "1d4f17cc",
   "metadata": {},
   "source": [
    "# 4. Inference"
   ]
  },
  {
   "cell_type": "code",
   "execution_count": null,
   "id": "2156e50b",
   "metadata": {},
   "outputs": [],
   "source": [
    "# # Display the top 15 most influential features for the ADHD model:\n",
    "# coeffs = pd.DataFrame({\"feature\": features_adhd, \"coeff\": model_adhd.coef_[0]})\n",
    "# print(coeffs.sort_values(by=\"coeff\", key=np.abs, ascending=False).head(15))\n",
    "\n",
    "# # Perform distribution comparison tests between out-of-fold predictions and test probabilities\n",
    "# print(\"KS and Mann-Whitney U Tests:\")\n",
    "# print(\"ADHD KS:\", ks_2samp(adhd_proba_test, adhd_oof))\n",
    "# print(\"ADHD MWU:\", mannwhitneyu(adhd_proba_test, adhd_oof))\n",
    "# print(\"Sex KS:\", ks_2samp(sex_proba_test, sex_oof))\n",
    "# print(\"Sex MWU:\", mannwhitneyu(sex_proba_test, sex_oof))"
   ]
  },
  {
   "cell_type": "code",
   "execution_count": null,
   "id": "b079f22c",
   "metadata": {},
   "outputs": [],
   "source": [
    "# Load the sample submission file (assumes it has a column for each prediction)\n",
    "submission = pd.read_excel(\"data/SAMPLE_SUBMISSION.xlsx\")\n",
    "\n",
    "submission[\"ADHD_Outcome\"] = np.where(adhd_proba_test > best_adhd_threshold, 1, 0)\n",
    "submission[\"Sex_F\"] = np.where(sex_proba_test > best_sex_threshold, 1, 0)\n",
    "\n",
    "# Compare the share of positive predicted labels between out-of-fold (OOF) data and test predictions.\n",
    "print(f\"Share ADHD OOF: {np.mean(np.where(adhd_oof > best_adhd_threshold, 1, 0)):.4f} - Share ADHD Test: {submission.ADHD_Outcome.mean():.4f}\")\n",
    "print(f\"Share Sex_F OOF: {np.mean(np.where(sex_oof > best_sex_threshold, 1, 0)):.4f} - Share Sex_F Test: {submission.Sex_F.mean():.4f}\")\n",
    "\n",
    "submission.to_csv(\"submission.csv\", index=False)"
   ]
  }
 ],
 "metadata": {
  "kernelspec": {
   "display_name": "Python 3",
   "language": "python",
   "name": "python3"
  },
  "language_info": {
   "codemirror_mode": {
    "name": "ipython",
    "version": 3
   },
   "file_extension": ".py",
   "mimetype": "text/x-python",
   "name": "python",
   "nbconvert_exporter": "python",
   "pygments_lexer": "ipython3",
   "version": "3.11.11"
  }
 },
 "nbformat": 4,
 "nbformat_minor": 5
}
