{
 "cells": [
  {
   "cell_type": "markdown",
   "metadata": {},
   "source": [
    "# 1. Setup"
   ]
  },
  {
   "cell_type": "code",
   "execution_count": 91,
   "metadata": {
    "_cell_guid": "b1076dfc-b9ad-4769-8c92-a6c4dae69d19",
    "_uuid": "8f2839f25d086af736a60e9eeb907d3b93b6e0e5",
    "trusted": true
   },
   "outputs": [],
   "source": [
    "import pandas as pd\n",
    "import matplotlib.pyplot as plt\n",
    "import seaborn as sns\n",
    "#\n",
    "from sklearn.experimental import enable_iterative_imputer\n",
    "from sklearn.impute import IterativeImputer\n",
    "from sklearn.linear_model import LassoCV\n",
    "from sklearn.preprocessing import LabelEncoder\n",
    "\n",
    "import warnings\n",
    "warnings.filterwarnings('ignore')\n",
    "\n",
    "%matplotlib inline\n",
    "sns.set_theme(style=\"whitegrid\")"
   ]
  },
  {
   "cell_type": "markdown",
   "metadata": {},
   "source": [
    "# 2. Data Preprocessing"
   ]
  },
  {
   "cell_type": "code",
   "execution_count": 92,
   "metadata": {
    "trusted": true
   },
   "outputs": [],
   "source": [
    "SEED = 42\n",
    "\n",
    "train_q = pd.read_excel(\"data/TRAIN/TRAIN_QUANTITATIVE_METADATA.xlsx\")\n",
    "train_c = pd.read_excel(\"data/TRAIN/TRAIN_CATEGORICAL_METADATA.xlsx\")\n",
    "test_q = pd.read_excel(\"data/TEST/TEST_QUANTITATIVE_METADATA.xlsx\")\n",
    "test_c = pd.read_excel(\"data/TEST/TEST_CATEGORICAL_METADATA.xlsx\")\n",
    "\n",
    "train_combined = pd.merge(train_q, train_c, on='participant_id', how='left').set_index(\"participant_id\")\n",
    "test_combined = pd.merge(test_q, test_c, on='participant_id', how='left').set_index(\"participant_id\")\n",
    "\n",
    "labels = pd.read_excel(\"data/TRAIN/TRAINING_SOLUTIONS.xlsx\").set_index(\"participant_id\")\n",
    "\n",
    "train_combined = train_combined.sort_index()\n",
    "labels = labels.sort_index()\n",
    "assert all(train_combined.index == labels.index), \"Label IDs do not match train IDs\""
   ]
  },
  {
   "cell_type": "code",
   "execution_count": 93,
   "metadata": {
    "trusted": true
   },
   "outputs": [
    {
     "data": {
      "text/html": [
       "<div>\n",
       "<style scoped>\n",
       "    .dataframe tbody tr th:only-of-type {\n",
       "        vertical-align: middle;\n",
       "    }\n",
       "\n",
       "    .dataframe tbody tr th {\n",
       "        vertical-align: top;\n",
       "    }\n",
       "\n",
       "    .dataframe thead th {\n",
       "        text-align: right;\n",
       "    }\n",
       "</style>\n",
       "<table border=\"1\" class=\"dataframe\">\n",
       "  <thead>\n",
       "    <tr style=\"text-align: right;\">\n",
       "      <th></th>\n",
       "      <th>EHQ_EHQ_Total</th>\n",
       "      <th>ColorVision_CV_Score</th>\n",
       "      <th>APQ_P_APQ_P_CP</th>\n",
       "      <th>APQ_P_APQ_P_ID</th>\n",
       "      <th>APQ_P_APQ_P_INV</th>\n",
       "      <th>APQ_P_APQ_P_OPD</th>\n",
       "      <th>APQ_P_APQ_P_PM</th>\n",
       "      <th>APQ_P_APQ_P_PP</th>\n",
       "      <th>SDQ_SDQ_Conduct_Problems</th>\n",
       "      <th>SDQ_SDQ_Difficulties_Total</th>\n",
       "      <th>...</th>\n",
       "      <th>MRI_Track_Age_at_Scan</th>\n",
       "      <th>Basic_Demos_Enroll_Year</th>\n",
       "      <th>Basic_Demos_Study_Site</th>\n",
       "      <th>PreInt_Demos_Fam_Child_Ethnicity</th>\n",
       "      <th>PreInt_Demos_Fam_Child_Race</th>\n",
       "      <th>MRI_Track_Scan_Location</th>\n",
       "      <th>Barratt_Barratt_P1_Edu</th>\n",
       "      <th>Barratt_Barratt_P1_Occ</th>\n",
       "      <th>Barratt_Barratt_P2_Edu</th>\n",
       "      <th>Barratt_Barratt_P2_Occ</th>\n",
       "    </tr>\n",
       "    <tr>\n",
       "      <th>participant_id</th>\n",
       "      <th></th>\n",
       "      <th></th>\n",
       "      <th></th>\n",
       "      <th></th>\n",
       "      <th></th>\n",
       "      <th></th>\n",
       "      <th></th>\n",
       "      <th></th>\n",
       "      <th></th>\n",
       "      <th></th>\n",
       "      <th></th>\n",
       "      <th></th>\n",
       "      <th></th>\n",
       "      <th></th>\n",
       "      <th></th>\n",
       "      <th></th>\n",
       "      <th></th>\n",
       "      <th></th>\n",
       "      <th></th>\n",
       "      <th></th>\n",
       "      <th></th>\n",
       "    </tr>\n",
       "  </thead>\n",
       "  <tbody>\n",
       "    <tr>\n",
       "      <th>00aIpNTbG5uh</th>\n",
       "      <td>100.00</td>\n",
       "      <td>13.0</td>\n",
       "      <td>3.0</td>\n",
       "      <td>15.0</td>\n",
       "      <td>44.0</td>\n",
       "      <td>14.0</td>\n",
       "      <td>20.0</td>\n",
       "      <td>27.0</td>\n",
       "      <td>3.0</td>\n",
       "      <td>17.0</td>\n",
       "      <td>...</td>\n",
       "      <td>14.274127</td>\n",
       "      <td>2019</td>\n",
       "      <td>4</td>\n",
       "      <td>1.0</td>\n",
       "      <td>0.0</td>\n",
       "      <td>3.0</td>\n",
       "      <td>21.0</td>\n",
       "      <td>45.0</td>\n",
       "      <td>NaN</td>\n",
       "      <td>NaN</td>\n",
       "    </tr>\n",
       "    <tr>\n",
       "      <th>00fV0OyyoLfw</th>\n",
       "      <td>92.27</td>\n",
       "      <td>14.0</td>\n",
       "      <td>3.0</td>\n",
       "      <td>12.0</td>\n",
       "      <td>35.0</td>\n",
       "      <td>25.0</td>\n",
       "      <td>28.0</td>\n",
       "      <td>30.0</td>\n",
       "      <td>5.0</td>\n",
       "      <td>20.0</td>\n",
       "      <td>...</td>\n",
       "      <td>NaN</td>\n",
       "      <td>2017</td>\n",
       "      <td>1</td>\n",
       "      <td>0.0</td>\n",
       "      <td>9.0</td>\n",
       "      <td>2.0</td>\n",
       "      <td>21.0</td>\n",
       "      <td>0.0</td>\n",
       "      <td>21.0</td>\n",
       "      <td>45.0</td>\n",
       "    </tr>\n",
       "    <tr>\n",
       "      <th>04X1eiS79T4B</th>\n",
       "      <td>86.67</td>\n",
       "      <td>14.0</td>\n",
       "      <td>3.0</td>\n",
       "      <td>21.0</td>\n",
       "      <td>37.0</td>\n",
       "      <td>18.0</td>\n",
       "      <td>26.0</td>\n",
       "      <td>28.0</td>\n",
       "      <td>3.0</td>\n",
       "      <td>24.0</td>\n",
       "      <td>...</td>\n",
       "      <td>13.463381</td>\n",
       "      <td>2017</td>\n",
       "      <td>1</td>\n",
       "      <td>1.0</td>\n",
       "      <td>2.0</td>\n",
       "      <td>2.0</td>\n",
       "      <td>9.0</td>\n",
       "      <td>0.0</td>\n",
       "      <td>NaN</td>\n",
       "      <td>NaN</td>\n",
       "    </tr>\n",
       "    <tr>\n",
       "      <th>05ocQutkURd6</th>\n",
       "      <td>93.34</td>\n",
       "      <td>14.0</td>\n",
       "      <td>3.0</td>\n",
       "      <td>11.0</td>\n",
       "      <td>42.0</td>\n",
       "      <td>15.0</td>\n",
       "      <td>20.0</td>\n",
       "      <td>28.0</td>\n",
       "      <td>0.0</td>\n",
       "      <td>5.0</td>\n",
       "      <td>...</td>\n",
       "      <td>9.572553</td>\n",
       "      <td>2018</td>\n",
       "      <td>1</td>\n",
       "      <td>3.0</td>\n",
       "      <td>8.0</td>\n",
       "      <td>2.0</td>\n",
       "      <td>18.0</td>\n",
       "      <td>10.0</td>\n",
       "      <td>18.0</td>\n",
       "      <td>0.0</td>\n",
       "    </tr>\n",
       "    <tr>\n",
       "      <th>06YUNBA9ZRLq</th>\n",
       "      <td>0.00</td>\n",
       "      <td>14.0</td>\n",
       "      <td>8.0</td>\n",
       "      <td>12.0</td>\n",
       "      <td>35.0</td>\n",
       "      <td>22.0</td>\n",
       "      <td>12.0</td>\n",
       "      <td>24.0</td>\n",
       "      <td>6.0</td>\n",
       "      <td>23.0</td>\n",
       "      <td>...</td>\n",
       "      <td>6.654574</td>\n",
       "      <td>2018</td>\n",
       "      <td>1</td>\n",
       "      <td>0.0</td>\n",
       "      <td>1.0</td>\n",
       "      <td>2.0</td>\n",
       "      <td>12.0</td>\n",
       "      <td>0.0</td>\n",
       "      <td>NaN</td>\n",
       "      <td>NaN</td>\n",
       "    </tr>\n",
       "    <tr>\n",
       "      <th>...</th>\n",
       "      <td>...</td>\n",
       "      <td>...</td>\n",
       "      <td>...</td>\n",
       "      <td>...</td>\n",
       "      <td>...</td>\n",
       "      <td>...</td>\n",
       "      <td>...</td>\n",
       "      <td>...</td>\n",
       "      <td>...</td>\n",
       "      <td>...</td>\n",
       "      <td>...</td>\n",
       "      <td>...</td>\n",
       "      <td>...</td>\n",
       "      <td>...</td>\n",
       "      <td>...</td>\n",
       "      <td>...</td>\n",
       "      <td>...</td>\n",
       "      <td>...</td>\n",
       "      <td>...</td>\n",
       "      <td>...</td>\n",
       "      <td>...</td>\n",
       "    </tr>\n",
       "    <tr>\n",
       "      <th>zpU7rEseBMH8</th>\n",
       "      <td>100.00</td>\n",
       "      <td>14.0</td>\n",
       "      <td>3.0</td>\n",
       "      <td>11.0</td>\n",
       "      <td>41.0</td>\n",
       "      <td>16.0</td>\n",
       "      <td>23.0</td>\n",
       "      <td>24.0</td>\n",
       "      <td>0.0</td>\n",
       "      <td>8.0</td>\n",
       "      <td>...</td>\n",
       "      <td>12.669860</td>\n",
       "      <td>2017</td>\n",
       "      <td>1</td>\n",
       "      <td>0.0</td>\n",
       "      <td>3.0</td>\n",
       "      <td>2.0</td>\n",
       "      <td>12.0</td>\n",
       "      <td>20.0</td>\n",
       "      <td>21.0</td>\n",
       "      <td>45.0</td>\n",
       "    </tr>\n",
       "    <tr>\n",
       "      <th>zpr8w4jCfVPe</th>\n",
       "      <td>100.00</td>\n",
       "      <td>14.0</td>\n",
       "      <td>3.0</td>\n",
       "      <td>9.0</td>\n",
       "      <td>41.0</td>\n",
       "      <td>22.0</td>\n",
       "      <td>10.0</td>\n",
       "      <td>29.0</td>\n",
       "      <td>1.0</td>\n",
       "      <td>15.0</td>\n",
       "      <td>...</td>\n",
       "      <td>NaN</td>\n",
       "      <td>2019</td>\n",
       "      <td>3</td>\n",
       "      <td>1.0</td>\n",
       "      <td>2.0</td>\n",
       "      <td>3.0</td>\n",
       "      <td>12.0</td>\n",
       "      <td>5.0</td>\n",
       "      <td>21.0</td>\n",
       "      <td>35.0</td>\n",
       "    </tr>\n",
       "    <tr>\n",
       "      <th>zwBG0rZ05Mcb</th>\n",
       "      <td>46.67</td>\n",
       "      <td>13.0</td>\n",
       "      <td>3.0</td>\n",
       "      <td>12.0</td>\n",
       "      <td>30.0</td>\n",
       "      <td>18.0</td>\n",
       "      <td>14.0</td>\n",
       "      <td>24.0</td>\n",
       "      <td>0.0</td>\n",
       "      <td>10.0</td>\n",
       "      <td>...</td>\n",
       "      <td>8.155258</td>\n",
       "      <td>2016</td>\n",
       "      <td>1</td>\n",
       "      <td>0.0</td>\n",
       "      <td>0.0</td>\n",
       "      <td>2.0</td>\n",
       "      <td>15.0</td>\n",
       "      <td>35.0</td>\n",
       "      <td>18.0</td>\n",
       "      <td>35.0</td>\n",
       "    </tr>\n",
       "    <tr>\n",
       "      <th>zwXD5v17Rx01</th>\n",
       "      <td>46.67</td>\n",
       "      <td>14.0</td>\n",
       "      <td>3.0</td>\n",
       "      <td>18.0</td>\n",
       "      <td>42.0</td>\n",
       "      <td>21.0</td>\n",
       "      <td>15.0</td>\n",
       "      <td>25.0</td>\n",
       "      <td>2.0</td>\n",
       "      <td>5.0</td>\n",
       "      <td>...</td>\n",
       "      <td>7.364020</td>\n",
       "      <td>2018</td>\n",
       "      <td>1</td>\n",
       "      <td>0.0</td>\n",
       "      <td>0.0</td>\n",
       "      <td>3.0</td>\n",
       "      <td>21.0</td>\n",
       "      <td>40.0</td>\n",
       "      <td>21.0</td>\n",
       "      <td>40.0</td>\n",
       "    </tr>\n",
       "    <tr>\n",
       "      <th>zwjJWCRzKhDz</th>\n",
       "      <td>100.00</td>\n",
       "      <td>14.0</td>\n",
       "      <td>3.0</td>\n",
       "      <td>14.0</td>\n",
       "      <td>36.0</td>\n",
       "      <td>18.0</td>\n",
       "      <td>13.0</td>\n",
       "      <td>22.0</td>\n",
       "      <td>5.0</td>\n",
       "      <td>20.0</td>\n",
       "      <td>...</td>\n",
       "      <td>11.272986</td>\n",
       "      <td>2019</td>\n",
       "      <td>4</td>\n",
       "      <td>1.0</td>\n",
       "      <td>1.0</td>\n",
       "      <td>3.0</td>\n",
       "      <td>12.0</td>\n",
       "      <td>NaN</td>\n",
       "      <td>15.0</td>\n",
       "      <td>5.0</td>\n",
       "    </tr>\n",
       "  </tbody>\n",
       "</table>\n",
       "<p>1213 rows × 27 columns</p>\n",
       "</div>"
      ],
      "text/plain": [
       "                EHQ_EHQ_Total  ColorVision_CV_Score  APQ_P_APQ_P_CP  \\\n",
       "participant_id                                                        \n",
       "00aIpNTbG5uh           100.00                  13.0             3.0   \n",
       "00fV0OyyoLfw            92.27                  14.0             3.0   \n",
       "04X1eiS79T4B            86.67                  14.0             3.0   \n",
       "05ocQutkURd6            93.34                  14.0             3.0   \n",
       "06YUNBA9ZRLq             0.00                  14.0             8.0   \n",
       "...                       ...                   ...             ...   \n",
       "zpU7rEseBMH8           100.00                  14.0             3.0   \n",
       "zpr8w4jCfVPe           100.00                  14.0             3.0   \n",
       "zwBG0rZ05Mcb            46.67                  13.0             3.0   \n",
       "zwXD5v17Rx01            46.67                  14.0             3.0   \n",
       "zwjJWCRzKhDz           100.00                  14.0             3.0   \n",
       "\n",
       "                APQ_P_APQ_P_ID  APQ_P_APQ_P_INV  APQ_P_APQ_P_OPD  \\\n",
       "participant_id                                                     \n",
       "00aIpNTbG5uh              15.0             44.0             14.0   \n",
       "00fV0OyyoLfw              12.0             35.0             25.0   \n",
       "04X1eiS79T4B              21.0             37.0             18.0   \n",
       "05ocQutkURd6              11.0             42.0             15.0   \n",
       "06YUNBA9ZRLq              12.0             35.0             22.0   \n",
       "...                        ...              ...              ...   \n",
       "zpU7rEseBMH8              11.0             41.0             16.0   \n",
       "zpr8w4jCfVPe               9.0             41.0             22.0   \n",
       "zwBG0rZ05Mcb              12.0             30.0             18.0   \n",
       "zwXD5v17Rx01              18.0             42.0             21.0   \n",
       "zwjJWCRzKhDz              14.0             36.0             18.0   \n",
       "\n",
       "                APQ_P_APQ_P_PM  APQ_P_APQ_P_PP  SDQ_SDQ_Conduct_Problems  \\\n",
       "participant_id                                                             \n",
       "00aIpNTbG5uh              20.0            27.0                       3.0   \n",
       "00fV0OyyoLfw              28.0            30.0                       5.0   \n",
       "04X1eiS79T4B              26.0            28.0                       3.0   \n",
       "05ocQutkURd6              20.0            28.0                       0.0   \n",
       "06YUNBA9ZRLq              12.0            24.0                       6.0   \n",
       "...                        ...             ...                       ...   \n",
       "zpU7rEseBMH8              23.0            24.0                       0.0   \n",
       "zpr8w4jCfVPe              10.0            29.0                       1.0   \n",
       "zwBG0rZ05Mcb              14.0            24.0                       0.0   \n",
       "zwXD5v17Rx01              15.0            25.0                       2.0   \n",
       "zwjJWCRzKhDz              13.0            22.0                       5.0   \n",
       "\n",
       "                SDQ_SDQ_Difficulties_Total  ...  MRI_Track_Age_at_Scan  \\\n",
       "participant_id                              ...                          \n",
       "00aIpNTbG5uh                          17.0  ...              14.274127   \n",
       "00fV0OyyoLfw                          20.0  ...                    NaN   \n",
       "04X1eiS79T4B                          24.0  ...              13.463381   \n",
       "05ocQutkURd6                           5.0  ...               9.572553   \n",
       "06YUNBA9ZRLq                          23.0  ...               6.654574   \n",
       "...                                    ...  ...                    ...   \n",
       "zpU7rEseBMH8                           8.0  ...              12.669860   \n",
       "zpr8w4jCfVPe                          15.0  ...                    NaN   \n",
       "zwBG0rZ05Mcb                          10.0  ...               8.155258   \n",
       "zwXD5v17Rx01                           5.0  ...               7.364020   \n",
       "zwjJWCRzKhDz                          20.0  ...              11.272986   \n",
       "\n",
       "                Basic_Demos_Enroll_Year  Basic_Demos_Study_Site  \\\n",
       "participant_id                                                    \n",
       "00aIpNTbG5uh                       2019                       4   \n",
       "00fV0OyyoLfw                       2017                       1   \n",
       "04X1eiS79T4B                       2017                       1   \n",
       "05ocQutkURd6                       2018                       1   \n",
       "06YUNBA9ZRLq                       2018                       1   \n",
       "...                                 ...                     ...   \n",
       "zpU7rEseBMH8                       2017                       1   \n",
       "zpr8w4jCfVPe                       2019                       3   \n",
       "zwBG0rZ05Mcb                       2016                       1   \n",
       "zwXD5v17Rx01                       2018                       1   \n",
       "zwjJWCRzKhDz                       2019                       4   \n",
       "\n",
       "                PreInt_Demos_Fam_Child_Ethnicity  PreInt_Demos_Fam_Child_Race  \\\n",
       "participant_id                                                                  \n",
       "00aIpNTbG5uh                                 1.0                          0.0   \n",
       "00fV0OyyoLfw                                 0.0                          9.0   \n",
       "04X1eiS79T4B                                 1.0                          2.0   \n",
       "05ocQutkURd6                                 3.0                          8.0   \n",
       "06YUNBA9ZRLq                                 0.0                          1.0   \n",
       "...                                          ...                          ...   \n",
       "zpU7rEseBMH8                                 0.0                          3.0   \n",
       "zpr8w4jCfVPe                                 1.0                          2.0   \n",
       "zwBG0rZ05Mcb                                 0.0                          0.0   \n",
       "zwXD5v17Rx01                                 0.0                          0.0   \n",
       "zwjJWCRzKhDz                                 1.0                          1.0   \n",
       "\n",
       "                MRI_Track_Scan_Location  Barratt_Barratt_P1_Edu  \\\n",
       "participant_id                                                    \n",
       "00aIpNTbG5uh                        3.0                    21.0   \n",
       "00fV0OyyoLfw                        2.0                    21.0   \n",
       "04X1eiS79T4B                        2.0                     9.0   \n",
       "05ocQutkURd6                        2.0                    18.0   \n",
       "06YUNBA9ZRLq                        2.0                    12.0   \n",
       "...                                 ...                     ...   \n",
       "zpU7rEseBMH8                        2.0                    12.0   \n",
       "zpr8w4jCfVPe                        3.0                    12.0   \n",
       "zwBG0rZ05Mcb                        2.0                    15.0   \n",
       "zwXD5v17Rx01                        3.0                    21.0   \n",
       "zwjJWCRzKhDz                        3.0                    12.0   \n",
       "\n",
       "                Barratt_Barratt_P1_Occ  Barratt_Barratt_P2_Edu  \\\n",
       "participant_id                                                   \n",
       "00aIpNTbG5uh                      45.0                     NaN   \n",
       "00fV0OyyoLfw                       0.0                    21.0   \n",
       "04X1eiS79T4B                       0.0                     NaN   \n",
       "05ocQutkURd6                      10.0                    18.0   \n",
       "06YUNBA9ZRLq                       0.0                     NaN   \n",
       "...                                ...                     ...   \n",
       "zpU7rEseBMH8                      20.0                    21.0   \n",
       "zpr8w4jCfVPe                       5.0                    21.0   \n",
       "zwBG0rZ05Mcb                      35.0                    18.0   \n",
       "zwXD5v17Rx01                      40.0                    21.0   \n",
       "zwjJWCRzKhDz                       NaN                    15.0   \n",
       "\n",
       "                Barratt_Barratt_P2_Occ  \n",
       "participant_id                          \n",
       "00aIpNTbG5uh                       NaN  \n",
       "00fV0OyyoLfw                      45.0  \n",
       "04X1eiS79T4B                       NaN  \n",
       "05ocQutkURd6                       0.0  \n",
       "06YUNBA9ZRLq                       NaN  \n",
       "...                                ...  \n",
       "zpU7rEseBMH8                      45.0  \n",
       "zpr8w4jCfVPe                      35.0  \n",
       "zwBG0rZ05Mcb                      35.0  \n",
       "zwXD5v17Rx01                      40.0  \n",
       "zwjJWCRzKhDz                       5.0  \n",
       "\n",
       "[1213 rows x 27 columns]"
      ]
     },
     "execution_count": 93,
     "metadata": {},
     "output_type": "execute_result"
    }
   ],
   "source": [
    "train_combined"
   ]
  },
  {
   "cell_type": "code",
   "execution_count": 94,
   "metadata": {
    "trusted": true
   },
   "outputs": [
    {
     "data": {
      "text/plain": [
       "Index(['EHQ_EHQ_Total', 'ColorVision_CV_Score', 'APQ_P_APQ_P_CP',\n",
       "       'APQ_P_APQ_P_ID', 'APQ_P_APQ_P_INV', 'APQ_P_APQ_P_OPD',\n",
       "       'APQ_P_APQ_P_PM', 'APQ_P_APQ_P_PP', 'SDQ_SDQ_Conduct_Problems',\n",
       "       'SDQ_SDQ_Difficulties_Total', 'SDQ_SDQ_Emotional_Problems',\n",
       "       'SDQ_SDQ_Externalizing', 'SDQ_SDQ_Generating_Impact',\n",
       "       'SDQ_SDQ_Hyperactivity', 'SDQ_SDQ_Internalizing',\n",
       "       'SDQ_SDQ_Peer_Problems', 'SDQ_SDQ_Prosocial', 'MRI_Track_Age_at_Scan',\n",
       "       'Basic_Demos_Enroll_Year', 'Basic_Demos_Study_Site',\n",
       "       'PreInt_Demos_Fam_Child_Ethnicity', 'PreInt_Demos_Fam_Child_Race',\n",
       "       'MRI_Track_Scan_Location', 'Barratt_Barratt_P1_Edu',\n",
       "       'Barratt_Barratt_P1_Occ', 'Barratt_Barratt_P2_Edu',\n",
       "       'Barratt_Barratt_P2_Occ'],\n",
       "      dtype='object')"
      ]
     },
     "execution_count": 94,
     "metadata": {},
     "output_type": "execute_result"
    }
   ],
   "source": [
    "train_combined.columns"
   ]
  },
  {
   "cell_type": "code",
   "execution_count": 95,
   "metadata": {},
   "outputs": [],
   "source": [
    "label_df = labels.copy()\n",
    "\n",
    "# Plot: ADHD_Outcome\n",
    "# plt.figure(figsize=(6, 4))\n",
    "# sns.countplot(x=label_df[\"ADHD_Outcome\"], palette=\"Set2\")\n",
    "# plt.title(\"Distribution of ADHD_Outcome\")\n",
    "# plt.xticks([0, 1], ['No ADHD (0)', 'ADHD (1)'])\n",
    "# plt.ylabel(\"Count\")\n",
    "# plt.tight_layout()\n",
    "# plt.show()\n",
    "\n",
    "# # Plot: Sex_F\n",
    "# plt.figure(figsize=(6, 4))\n",
    "# sns.countplot(x=label_df[\"Sex_F\"], palette=\"pastel\")\n",
    "# plt.title(\"Distribution of Sex_F\")\n",
    "# plt.xticks([0, 1], ['Male (0)', 'Female (1)'])\n",
    "# plt.ylabel(\"Count\")\n",
    "# plt.tight_layout()\n",
    "# plt.show()\n"
   ]
  },
  {
   "cell_type": "markdown",
   "metadata": {},
   "source": [
    "## 2.1 Numerical Features Visualization"
   ]
  },
  {
   "cell_type": "code",
   "execution_count": 96,
   "metadata": {
    "trusted": true
   },
   "outputs": [
    {
     "name": "stdout",
     "output_type": "stream",
     "text": [
      "18\n"
     ]
    }
   ],
   "source": [
    "numerical_features = [\n",
    "    'EHQ_EHQ_Total', 'ColorVision_CV_Score', 'APQ_P_APQ_P_CP',\n",
    "    'APQ_P_APQ_P_ID', 'APQ_P_APQ_P_INV', 'APQ_P_APQ_P_OPD',\n",
    "    'APQ_P_APQ_P_PM', 'APQ_P_APQ_P_PP', 'SDQ_SDQ_Conduct_Problems',\n",
    "    'SDQ_SDQ_Difficulties_Total', 'SDQ_SDQ_Emotional_Problems',\n",
    "    'SDQ_SDQ_Externalizing', 'SDQ_SDQ_Generating_Impact',\n",
    "    'SDQ_SDQ_Hyperactivity', 'SDQ_SDQ_Internalizing',\n",
    "    'SDQ_SDQ_Peer_Problems', 'SDQ_SDQ_Prosocial', 'MRI_Track_Age_at_Scan'\n",
    "]\n",
    "\n",
    "print(len(numerical_features))"
   ]
  },
  {
   "cell_type": "code",
   "execution_count": 97,
   "metadata": {
    "trusted": true
   },
   "outputs": [
    {
     "name": "stdout",
     "output_type": "stream",
     "text": [
      "---- TRAIN NUMERICAL FEATURES NAN SUMMARY ----\n",
      "MRI_Track_Age_at_Scan         29.678483\n",
      "ColorVision_CV_Score           1.896125\n",
      "EHQ_EHQ_Total                  1.071723\n",
      "APQ_P_APQ_P_ID                 0.989283\n",
      "APQ_P_APQ_P_INV                0.989283\n",
      "APQ_P_APQ_P_OPD                0.989283\n",
      "APQ_P_APQ_P_PM                 0.989283\n",
      "APQ_P_APQ_P_PP                 0.989283\n",
      "APQ_P_APQ_P_CP                 0.989283\n",
      "SDQ_SDQ_Conduct_Problems       0.741962\n",
      "SDQ_SDQ_Emotional_Problems     0.741962\n",
      "SDQ_SDQ_Externalizing          0.741962\n",
      "SDQ_SDQ_Generating_Impact      0.741962\n",
      "SDQ_SDQ_Hyperactivity          0.741962\n",
      "SDQ_SDQ_Internalizing          0.741962\n",
      "SDQ_SDQ_Peer_Problems          0.741962\n",
      "SDQ_SDQ_Prosocial              0.741962\n",
      "SDQ_SDQ_Difficulties_Total     0.741962\n",
      "dtype: float64 \n",
      "\n"
     ]
    }
   ],
   "source": [
    "numerical_features_df = train_combined[numerical_features]\n",
    "\n",
    "def nan_summary(df, name):\n",
    "    print(f\"---- {name} NAN SUMMARY ----\")\n",
    "    print((df.isnull().sum() / len(df) * 100).sort_values(ascending=False), '\\n')\n",
    "\n",
    "nan_summary(numerical_features_df, \"TRAIN NUMERICAL FEATURES\")"
   ]
  },
  {
   "cell_type": "markdown",
   "metadata": {},
   "source": [
    "### 2.1.1 EHQ_EHQ_Total"
   ]
  },
  {
   "cell_type": "code",
   "execution_count": 98,
   "metadata": {},
   "outputs": [
    {
     "name": "stdout",
     "output_type": "stream",
     "text": [
      "Filled NaN with median value: 77.8\n",
      "Filled NaN with median value: 73.37\n"
     ]
    }
   ],
   "source": [
    "feature_1 = 'EHQ_EHQ_Total'\n",
    "\n",
    "median_value = train_combined[feature_1].median()\n",
    "train_combined[feature_1] = train_combined[feature_1].fillna(median_value)\n",
    "print(f\"Filled NaN with median value: {median_value}\")\n",
    "\n",
    "median_test_value = test_combined[feature_1].median()\n",
    "test_combined[feature_1] = test_combined[feature_1].fillna(median_test_value)\n",
    "print(f\"Filled NaN with median value: {median_test_value}\")"
   ]
  },
  {
   "cell_type": "code",
   "execution_count": 99,
   "metadata": {
    "trusted": true
   },
   "outputs": [],
   "source": [
    "# plt.figure(figsize=(10, 4))\n",
    "# sns.boxplot(data=train_combined, x='EHQ_EHQ_Total')\n",
    "# plt.title(\"Box Plot of EHQ_|EHQ_Total\")\n",
    "# plt.xlabel(\"EHQ_EHQ_Total\")\n",
    "# plt.show()"
   ]
  },
  {
   "cell_type": "code",
   "execution_count": 100,
   "metadata": {
    "trusted": true
   },
   "outputs": [],
   "source": [
    "def categorize_laterality(li):\n",
    "    if -110 <= li <= -28:\n",
    "        return \"Left-Lateralized\"\n",
    "    elif -28 < li <= 47:\n",
    "        return 'Middle'\n",
    "    elif 47 < li <= 110:\n",
    "        return 'Right-Lateralized'\n",
    "\n",
    "train_combined['Laterality_Category'] = train_combined['EHQ_EHQ_Total'].apply(categorize_laterality)\n",
    "test_combined['Laterality_Category'] = test_combined['EHQ_EHQ_Total'].apply(categorize_laterality)"
   ]
  },
  {
   "cell_type": "code",
   "execution_count": 101,
   "metadata": {
    "trusted": true
   },
   "outputs": [],
   "source": [
    "# plt.figure(figsize=(8, 4))\n",
    "# sns.countplot(data=train_combined, x=\"Laterality_Category\", order=[\"Left-Lateralized\", \"Middle\", \"Right-Lateralized\"])\n",
    "# plt.title(\"Distribution of Laterality Index Categories\")\n",
    "# plt.xlabel(\"Brain Laterality\")\n",
    "# plt.ylabel(\"Number of Participants\")\n",
    "# plt.tight_layout()\n",
    "# plt.show()"
   ]
  },
  {
   "cell_type": "markdown",
   "metadata": {},
   "source": [
    "### 2.1.2 ColorVision_CV_Score"
   ]
  },
  {
   "cell_type": "code",
   "execution_count": 102,
   "metadata": {
    "trusted": true
   },
   "outputs": [
    {
     "name": "stdout",
     "output_type": "stream",
     "text": [
      "Missing values after fill: 0\n",
      "Missing values after fill: 0\n"
     ]
    }
   ],
   "source": [
    "train_combined['ColorVision_CV_Score'].fillna(14, inplace=True)\n",
    "print(\"Missing values after fill:\", train_combined[\"ColorVision_CV_Score\"].isna().sum())\n",
    "\n",
    "test_combined['ColorVision_CV_Score'].fillna(14, inplace=True)\n",
    "print(\"Missing values after fill:\", test_combined[\"ColorVision_CV_Score\"].isna().sum())"
   ]
  },
  {
   "cell_type": "code",
   "execution_count": 103,
   "metadata": {
    "trusted": true
   },
   "outputs": [
    {
     "data": {
      "image/png": "[encoded data removed]",
      "text/plain": [
       "<Figure size 800x150 with 1 Axes>"
      ]
     },
     "metadata": {},
     "output_type": "display_data"
    }
   ],
   "source": [
    "plt.figure(figsize=(8, 1.5))\n",
    "sns.boxplot(x=train_combined['ColorVision_CV_Score'], color=\"skyblue\")\n",
    "plt.title('Boxplot: ColorVision_CV_Score')\n",
    "plt.xlabel('ColorVision_CV_Score')\n",
    "plt.grid(True)\n",
    "plt.show()"
   ]
  },
  {
   "cell_type": "markdown",
   "metadata": {},
   "source": [
    "### 2.1.3 APQ_P_APQ_P_CP"
   ]
  },
  {
   "cell_type": "code",
   "execution_count": 104,
   "metadata": {
    "trusted": true
   },
   "outputs": [
    {
     "name": "stdout",
     "output_type": "stream",
     "text": [
      "Number of NaN values in APQ_P_APQ_P_CP: 12\n",
      "Filled NaNs with median: 3.0\n",
      "Filled NaNs with median: 3.0\n"
     ]
    }
   ],
   "source": [
    "nan_count = train_combined['APQ_P_APQ_P_CP'].isna().sum()\n",
    "print(f\"Number of NaN values in APQ_P_APQ_P_CP: {nan_count}\")\n",
    "\n",
    "median_cp = train_combined['APQ_P_APQ_P_CP'].median()\n",
    "train_combined['APQ_P_APQ_P_CP'] = train_combined['APQ_P_APQ_P_CP'].fillna(median_cp)\n",
    "print(f\"Filled NaNs with median: {median_cp}\")\n",
    "\n",
    "median_test_cp = test_combined['APQ_P_APQ_P_CP'].median()\n",
    "test_combined['APQ_P_APQ_P_CP'] = test_combined['APQ_P_APQ_P_CP'].fillna(median_test_cp)\n",
    "print(f\"Filled NaNs with median: {median_test_cp}\")"
   ]
  },
  {
   "cell_type": "code",
   "execution_count": 105,
   "metadata": {
    "trusted": true
   },
   "outputs": [],
   "source": [
    "# cp_scores = train_combined['APQ_P_APQ_P_CP']\n",
    "# Q1 = cp_scores.quantile(0.25)\n",
    "# Q3 = cp_scores.quantile(0.75)\n",
    "# IQR = Q3 - Q1\n",
    "\n",
    "# lower_bound = Q1 - 1.5 * IQR\n",
    "# upper_bound = Q3 + 1.5 * IQR\n",
    "\n",
    "# outliers = cp_scores[(cp_scores < lower_bound) | (cp_scores > upper_bound)]\n",
    "# print(f\"Number of outliers in APQ_P_APQ_P_CP: {len(outliers)}\")\n",
    "# print(\"Outlier values:\")\n",
    "# print(outliers.values)\n",
    "\n",
    "# plt.figure(figsize=(8, 4))\n",
    "# sns.boxplot(x=train_combined['APQ_P_APQ_P_CP'], orient='h', color='lightgreen')\n",
    "# plt.title('Boxplot of APQ_P_APQ_P_CP (After NaN Imputation)')\n",
    "# plt.xlabel('Corporal Punishment Score')\n",
    "# plt.tight_layout()\n",
    "# plt.show()"
   ]
  },
  {
   "cell_type": "code",
   "execution_count": 106,
   "metadata": {
    "trusted": true
   },
   "outputs": [],
   "source": [
    "# train_combined['APQ_CP_is_high'] = (train_combined['APQ_P_APQ_P_CP'] > 5).astype(int)\n",
    "# test_combined['APQ_CP_is_high'] = (test_combined['APQ_P_APQ_P_CP'] > 5).astype(int)"
   ]
  },
  {
   "cell_type": "code",
   "execution_count": 107,
   "metadata": {
    "trusted": true
   },
   "outputs": [],
   "source": [
    "# plt.figure(figsize=(6, 4))\n",
    "# sns.countplot(x=train_combined['APQ_CP_is_high'], palette=\"Set2\")\n",
    "# plt.title('Distribution of High Corporal Punishment Flag (APQ_CP_is_high)')\n",
    "# plt.xlabel('Is High Corporal Punishment? (0 = No, 1 = Yes)')\n",
    "# plt.ylabel('Count')\n",
    "# plt.xticks([0, 1], ['0 = No', '1 = Yes'])\n",
    "# plt.tight_layout()\n",
    "# plt.show()"
   ]
  },
  {
   "cell_type": "markdown",
   "metadata": {},
   "source": [
    "### 2.1.4: APQ_P_APQ_P_ID"
   ]
  },
  {
   "cell_type": "code",
   "execution_count": 108,
   "metadata": {
    "trusted": true
   },
   "outputs": [
    {
     "name": "stdout",
     "output_type": "stream",
     "text": [
      "Number of NaN rows in APQ_P_APQ_P_ID: 12\n",
      "Filled NaNs in APQ_P_APQ_P_ID with median value: 13.0\n",
      "Filled NaNs in APQ_P_APQ_P_ID with median value: 13.0\n"
     ]
    }
   ],
   "source": [
    "feature = 'APQ_P_APQ_P_ID'\n",
    "nan_count = train_combined[feature].isna().sum()\n",
    "print(f\"Number of NaN rows in {feature}: {nan_count}\")\n",
    "\n",
    "median_value = train_combined[feature].median()\n",
    "train_combined[feature].fillna(median_value, inplace=True)\n",
    "print(f\"Filled NaNs in {feature} with median value: {median_value}\")\n",
    "\n",
    "median_test_value = test_combined[feature].median()\n",
    "test_combined[feature].fillna(median_test_value, inplace=True)\n",
    "print(f\"Filled NaNs in {feature} with median value: {median_test_value}\")"
   ]
  },
  {
   "cell_type": "code",
   "execution_count": 109,
   "metadata": {
    "trusted": true
   },
   "outputs": [],
   "source": [
    "# Q1 = train_combined[feature].quantile(0.25)\n",
    "# Q3 = train_combined[feature].quantile(0.75)\n",
    "# IQR = Q3 - Q1\n",
    "# lower_bound = Q1 - 1.5 * IQR\n",
    "# upper_bound = Q3 + 1.5 * IQR\n",
    "\n",
    "# outliers = train_combined[(train_combined[feature] < lower_bound) | (train_combined[feature] > upper_bound)]\n",
    "# print(f\"Number of outliers in {feature}: {len(outliers)}\")\n",
    "\n",
    "# plt.figure(figsize=(8, 2))\n",
    "# sns.boxplot(x=train_combined[feature], orient='h')\n",
    "# plt.title(f'Boxplot of {feature}')\n",
    "# plt.show()"
   ]
  },
  {
   "cell_type": "markdown",
   "metadata": {},
   "source": [
    "### 2.1.5: APQ_P_APQ_P_INV"
   ]
  },
  {
   "cell_type": "code",
   "execution_count": 110,
   "metadata": {
    "trusted": true
   },
   "outputs": [
    {
     "name": "stdout",
     "output_type": "stream",
     "text": [
      "Number of NaN rows in feature 'APQ_P_APQ_P_INV': 12\n",
      "Filled NaNs in 'APQ_P_APQ_P_INV' with median: 40.0\n",
      "Filled NaNs in 'APQ_P_APQ_P_INV' with median: 40.0\n"
     ]
    }
   ],
   "source": [
    "feature = 'APQ_P_APQ_P_INV'\n",
    "nan_count = train_combined[feature].isna().sum()\n",
    "print(f\"Number of NaN rows in feature '{feature}': {nan_count}\")\n",
    "\n",
    "median_value = train_combined[feature].median()\n",
    "train_combined[feature] = train_combined[feature].fillna(median_value)\n",
    "print(f\"Filled NaNs in '{feature}' with median: {median_value}\")\n",
    "\n",
    "median_test_value = test_combined[feature].median()\n",
    "test_combined[feature] = test_combined[feature].fillna(median_test_value)\n",
    "print(f\"Filled NaNs in '{feature}' with median: {median_test_value}\")"
   ]
  },
  {
   "cell_type": "code",
   "execution_count": 111,
   "metadata": {
    "trusted": true
   },
   "outputs": [],
   "source": [
    "# Q1 = train_combined[feature].quantile(0.25)\n",
    "# Q3 = train_combined[feature].quantile(0.75)\n",
    "# IQR = Q3 - Q1\n",
    "# lower_bound = Q1 - 1.5 * IQR\n",
    "# upper_bound = Q3 + 1.5 * IQR\n",
    "\n",
    "# outliers = train_combined[(train_combined[feature] < lower_bound) | (train_combined[feature] > upper_bound)]\n",
    "# print(f\"Number of outliers in '{feature}': {len(outliers)}\")\n",
    "# print(f\"Outlier threshold: lower < {lower_bound:.2f}, upper > {upper_bound:.2f}\")\n",
    "\n",
    "# plt.figure(figsize=(8, 1.5))\n",
    "# sns.boxplot(x=train_combined[feature], color=\"skyblue\")\n",
    "# plt.title(f'Boxplot of {feature}')\n",
    "# plt.xlabel(feature)\n",
    "# plt.tight_layout()\n",
    "# plt.show()"
   ]
  },
  {
   "cell_type": "markdown",
   "metadata": {},
   "source": [
    "### 2.1.6: APQ_P_APQ_P_OPD"
   ]
  },
  {
   "cell_type": "code",
   "execution_count": 112,
   "metadata": {
    "trusted": true
   },
   "outputs": [
    {
     "name": "stdout",
     "output_type": "stream",
     "text": [
      "Number of NaN rows in feature 'APQ_P_APQ_P_OPD': 12\n",
      "Filled NaNs in 'APQ_P_APQ_P_OPD' with median: 18.0\n",
      "Filled NaNs in 'APQ_P_APQ_P_OPD' with median: 17.0\n"
     ]
    }
   ],
   "source": [
    "feature = 'APQ_P_APQ_P_OPD'\n",
    "nan_count = train_combined[feature].isna().sum()\n",
    "print(f\"Number of NaN rows in feature '{feature}': {nan_count}\")\n",
    "\n",
    "median_value = train_combined[feature].median()\n",
    "train_combined[feature] = train_combined[feature].fillna(median_value)\n",
    "print(f\"Filled NaNs in '{feature}' with median: {median_value}\")\n",
    "\n",
    "median_test_value = test_combined[feature].median()\n",
    "test_combined[feature] = test_combined[feature].fillna(median_test_value)\n",
    "print(f\"Filled NaNs in '{feature}' with median: {median_test_value}\")"
   ]
  },
  {
   "cell_type": "code",
   "execution_count": 113,
   "metadata": {
    "trusted": true
   },
   "outputs": [],
   "source": [
    "# Q1 = train_combined[feature].quantile(0.25)\n",
    "# Q3 = train_combined[feature].quantile(0.75)\n",
    "# IQR = Q3 - Q1\n",
    "# lower_bound = Q1 - 1.5 * IQR\n",
    "# upper_bound = Q3 + 1.5 * IQR\n",
    "\n",
    "# outliers = train_combined[(train_combined[feature] < lower_bound) | (train_combined[feature] > upper_bound)]\n",
    "# print(f\"Number of outliers in '{feature}': {len(outliers)}\")\n",
    "# print(f\"Outlier threshold: lower < {lower_bound:.2f}, upper > {upper_bound:.2f}\")\n",
    "\n",
    "# plt.figure(figsize=(8, 1.5))\n",
    "# sns.boxplot(x=train_combined[feature], color=\"lightgreen\")\n",
    "# plt.title(f'Boxplot of {feature}')\n",
    "# plt.xlabel(feature)\n",
    "# plt.tight_layout()\n",
    "# plt.show()"
   ]
  },
  {
   "cell_type": "markdown",
   "metadata": {},
   "source": [
    "### 2.1.7: APQ_P_APQ_P_PM"
   ]
  },
  {
   "cell_type": "code",
   "execution_count": 114,
   "metadata": {
    "trusted": true
   },
   "outputs": [
    {
     "name": "stdout",
     "output_type": "stream",
     "text": [
      "Number of NaN rows in feature 'APQ_P_APQ_P_PM': 12\n",
      "Filled NaNs in 'APQ_P_APQ_P_PM' with median: 16.0\n",
      "Filled NaNs in 'APQ_P_APQ_P_PM' with median: 15.0\n"
     ]
    }
   ],
   "source": [
    "feature = 'APQ_P_APQ_P_PM'\n",
    "nan_count = train_combined[feature].isna().sum()\n",
    "print(f\"Number of NaN rows in feature '{feature}': {nan_count}\")\n",
    "\n",
    "median_value = train_combined[feature].median()\n",
    "train_combined[feature] = train_combined[feature].fillna(median_value)\n",
    "print(f\"Filled NaNs in '{feature}' with median: {median_value}\")\n",
    "\n",
    "median_test_value = test_combined[feature].median()\n",
    "test_combined[feature] = test_combined[feature].fillna(median_test_value)\n",
    "print(f\"Filled NaNs in '{feature}' with median: {median_test_value}\")"
   ]
  },
  {
   "cell_type": "code",
   "execution_count": 115,
   "metadata": {
    "trusted": true
   },
   "outputs": [],
   "source": [
    "# Q1 = train_combined[feature].quantile(0.25)\n",
    "# Q3 = train_combined[feature].quantile(0.75)\n",
    "# IQR = Q3 - Q1\n",
    "# lower_bound = Q1 - 1.5 * IQR\n",
    "# upper_bound = Q3 + 1.5 * IQR\n",
    "\n",
    "# outliers = train_combined[(train_combined[feature] < lower_bound) | (train_combined[feature] > upper_bound)]\n",
    "# print(f\"Number of outliers in '{feature}': {len(outliers)}\")\n",
    "# print(f\"Outlier threshold: lower < {lower_bound:.2f}, upper > {upper_bound:.2f}\")\n",
    "\n",
    "# plt.figure(figsize=(8, 1.5))\n",
    "# sns.boxplot(x=train_combined[feature], color=\"salmon\")\n",
    "# plt.title(f'Boxplot of {feature}')\n",
    "# plt.xlabel(feature)\n",
    "# plt.tight_layout()\n",
    "# plt.show()"
   ]
  },
  {
   "cell_type": "markdown",
   "metadata": {},
   "source": [
    "### 2.1.8 APQ_P_APQ_P_PP"
   ]
  },
  {
   "cell_type": "code",
   "execution_count": 116,
   "metadata": {
    "trusted": true
   },
   "outputs": [
    {
     "name": "stdout",
     "output_type": "stream",
     "text": [
      "Number of NaN rows in feature 'APQ_P_APQ_P_PP': 12\n",
      "Filled NaNs in 'APQ_P_APQ_P_PP' with median: 26.0\n",
      "Filled NaNs in 'APQ_P_APQ_P_PP' with median: 25.0\n"
     ]
    }
   ],
   "source": [
    "feature = 'APQ_P_APQ_P_PP'\n",
    "nan_count = train_combined[feature].isna().sum()\n",
    "print(f\"Number of NaN rows in feature '{feature}': {nan_count}\")\n",
    "\n",
    "median_value = train_combined[feature].median()\n",
    "train_combined[feature] = train_combined[feature].fillna(median_value)\n",
    "print(f\"Filled NaNs in '{feature}' with median: {median_value}\")\n",
    "\n",
    "median_test_value = test_combined[feature].median()\n",
    "test_combined[feature] = test_combined[feature].fillna(median_test_value)\n",
    "print(f\"Filled NaNs in '{feature}' with median: {median_test_value}\")"
   ]
  },
  {
   "cell_type": "code",
   "execution_count": 117,
   "metadata": {
    "trusted": true
   },
   "outputs": [],
   "source": [
    "# Q1 = train_combined[feature].quantile(0.25)\n",
    "# Q3 = train_combined[feature].quantile(0.75)\n",
    "# IQR = Q3 - Q1\n",
    "# lower_bound = Q1 - 1.5 * IQR\n",
    "# upper_bound = Q3 + 1.5 * IQR\n",
    "\n",
    "# outliers = train_combined[(train_combined[feature] < lower_bound) | (train_combined[feature] > upper_bound)]\n",
    "# print(f\"Number of outliers in '{feature}': {len(outliers)}\")\n",
    "# print(f\"Outlier threshold: lower < {lower_bound:.2f}, upper > {upper_bound:.2f}\")\n",
    "\n",
    "# plt.figure(figsize=(8, 1.5))\n",
    "# sns.boxplot(x=train_combined[feature], color=\"plum\")\n",
    "# plt.title(f'Boxplot of {feature}')\n",
    "# plt.xlabel(feature)\n",
    "# plt.tight_layout()\n",
    "# plt.show()"
   ]
  },
  {
   "cell_type": "markdown",
   "metadata": {},
   "source": [
    "### 2.1.9 SDQ_SDQ_Conduct_Problems"
   ]
  },
  {
   "cell_type": "code",
   "execution_count": 118,
   "metadata": {
    "trusted": true
   },
   "outputs": [
    {
     "name": "stdout",
     "output_type": "stream",
     "text": [
      "Number of NaN rows in feature 'SDQ_SDQ_Conduct_Problems': 9\n",
      "Filled NaNs in 'SDQ_SDQ_Conduct_Problems' with median: 2.0\n",
      "Filled NaNs in 'SDQ_SDQ_Conduct_Problems' with median: 1.0\n"
     ]
    }
   ],
   "source": [
    "feature = 'SDQ_SDQ_Conduct_Problems'\n",
    "nan_count = train_combined[feature].isna().sum()\n",
    "print(f\"Number of NaN rows in feature '{feature}': {nan_count}\")\n",
    "\n",
    "median_value = train_combined[feature].median()\n",
    "train_combined[feature] = train_combined[feature].fillna(median_value)\n",
    "print(f\"Filled NaNs in '{feature}' with median: {median_value}\")\n",
    "\n",
    "median_test_value = test_combined[feature].median()\n",
    "test_combined[feature] = test_combined[feature].fillna(median_test_value)\n",
    "print(f\"Filled NaNs in '{feature}' with median: {median_test_value}\")"
   ]
  },
  {
   "cell_type": "code",
   "execution_count": 119,
   "metadata": {
    "trusted": true
   },
   "outputs": [],
   "source": [
    "# Q1 = train_combined[feature].quantile(0.25)\n",
    "# Q3 = train_combined[feature].quantile(0.75)\n",
    "# IQR = Q3 - Q1\n",
    "# lower_bound = Q1 - 1.5 * IQR\n",
    "# upper_bound = Q3 + 1.5 * IQR\n",
    "\n",
    "# outliers = train_combined[(train_combined[feature] < lower_bound) | (train_combined[feature] > upper_bound)]\n",
    "# print(f\"Number of outliers in '{feature}': {len(outliers)}\")\n",
    "# print(f\"Outlier threshold: lower < {lower_bound:.2f}, upper > {upper_bound:.2f}\")\n",
    "\n",
    "# plt.figure(figsize=(8, 1.5))\n",
    "# sns.boxplot(x=train_combined[feature], color=\"lightcoral\")\n",
    "# plt.title(f'Boxplot of {feature}')\n",
    "# plt.xlabel(feature)\n",
    "# plt.tight_layout()\n",
    "# plt.show()"
   ]
  },
  {
   "cell_type": "markdown",
   "metadata": {},
   "source": [
    "### 2.1.10 SDQ_SDQ_Difficulties_Total"
   ]
  },
  {
   "cell_type": "code",
   "execution_count": 120,
   "metadata": {
    "trusted": true
   },
   "outputs": [
    {
     "name": "stdout",
     "output_type": "stream",
     "text": [
      "Number of NaN rows in feature 'SDQ_SDQ_Difficulties_Total': 9\n",
      "Filled NaN with median value: 12.0\n",
      "Filled NaN with median value: 11.0\n"
     ]
    }
   ],
   "source": [
    "feature = 'SDQ_SDQ_Difficulties_Total'\n",
    "nan_count = train_combined[feature].isna().sum()\n",
    "print(f\"Number of NaN rows in feature '{feature}': {nan_count}\")\n",
    "\n",
    "median_value = train_combined[feature].median()\n",
    "train_combined[feature] = train_combined[feature].fillna(median_value)\n",
    "print(f\"Filled NaN with median value: {median_value}\")\n",
    "\n",
    "median_test_value = test_combined[feature].median()\n",
    "test_combined[feature] = test_combined[feature].fillna(median_test_value)\n",
    "print(f\"Filled NaN with median value: {median_test_value}\")"
   ]
  },
  {
   "cell_type": "code",
   "execution_count": 121,
   "metadata": {
    "trusted": true
   },
   "outputs": [],
   "source": [
    "# Q1 = train_combined[feature].quantile(0.25)\n",
    "# Q3 = train_combined[feature].quantile(0.75)\n",
    "# IQR = Q3 - Q1\n",
    "\n",
    "# lower_bound = Q1 - 1.5 * IQR\n",
    "# upper_bound = Q3 + 1.5 * IQR\n",
    "\n",
    "# outliers = train_combined[(train_combined[feature] < lower_bound) | (train_combined[feature] > upper_bound)]\n",
    "# print(f\"Number of outliers in '{feature}': {len(outliers)}\")\n",
    "\n",
    "# plt.figure(figsize=(8, 1.5))\n",
    "# sns.boxplot(x=train_combined[feature], color=\"lightcoral\")\n",
    "# plt.title(f'Boxplot of {feature}')\n",
    "# plt.xlabel(feature)\n",
    "# plt.tight_layout()\n",
    "# plt.show()"
   ]
  },
  {
   "cell_type": "markdown",
   "metadata": {},
   "source": [
    "### 2.1.11: SDQ_SDQ_Emotional_Problems"
   ]
  },
  {
   "cell_type": "code",
   "execution_count": 122,
   "metadata": {
    "trusted": true
   },
   "outputs": [
    {
     "name": "stdout",
     "output_type": "stream",
     "text": [
      "Number of NaN rows in feature 'SDQ_SDQ_Emotional_Problems': 9\n",
      "Filled NaN with median value: 2.0\n",
      "Filled NaN with median value: 2.0\n"
     ]
    }
   ],
   "source": [
    "feature = 'SDQ_SDQ_Emotional_Problems'\n",
    "nan_count = train_combined[feature].isna().sum()\n",
    "print(f\"Number of NaN rows in feature '{feature}': {nan_count}\")\n",
    "\n",
    "median_value = train_combined[feature].median()\n",
    "train_combined[feature] = train_combined[feature].fillna(median_value)\n",
    "print(f\"Filled NaN with median value: {median_value}\")\n",
    "\n",
    "median_test_value = test_combined[feature].median()\n",
    "test_combined[feature] = test_combined[feature].fillna(median_test_value)\n",
    "print(f\"Filled NaN with median value: {median_test_value}\")"
   ]
  },
  {
   "cell_type": "code",
   "execution_count": 123,
   "metadata": {
    "trusted": true
   },
   "outputs": [],
   "source": [
    "# Q1 = train_combined[feature].quantile(0.25)\n",
    "# Q3 = train_combined[feature].quantile(0.75)\n",
    "# IQR = Q3 - Q1\n",
    "\n",
    "# lower_bound = Q1 - 1.5 * IQR\n",
    "# upper_bound = Q3 + 1.5 * IQR\n",
    "\n",
    "# outliers = train_combined[(train_combined[feature] < lower_bound) | (train_combined[feature] > upper_bound)]\n",
    "# print(f\"Number of outliers in '{feature}': {len(outliers)}\")\n",
    "\n",
    "# plt.figure(figsize=(8, 1.5))\n",
    "# sns.boxplot(x=train_combined[feature], color=\"lightcoral\")\n",
    "# plt.title(f'Boxplot of {feature}')\n",
    "# plt.xlabel(feature)\n",
    "# plt.tight_layout()\n",
    "# plt.show()"
   ]
  },
  {
   "cell_type": "markdown",
   "metadata": {},
   "source": [
    "### 2.1.12: SDQ_SDQ_Externalizing"
   ]
  },
  {
   "cell_type": "code",
   "execution_count": 124,
   "metadata": {
    "trusted": true
   },
   "outputs": [
    {
     "name": "stdout",
     "output_type": "stream",
     "text": [
      "Number of NaN rows in feature 'SDQ_SDQ_Externalizing': 9\n",
      "Filled NaN with median value: 8.0\n",
      "Filled NaN with median value: 7.0\n"
     ]
    }
   ],
   "source": [
    "feature = 'SDQ_SDQ_Externalizing'\n",
    "nan_count = train_combined[feature].isna().sum()\n",
    "print(f\"Number of NaN rows in feature '{feature}': {nan_count}\")\n",
    "\n",
    "median_value = train_combined[feature].median()\n",
    "train_combined[feature] = train_combined[feature].fillna(median_value)\n",
    "print(f\"Filled NaN with median value: {median_value}\")\n",
    "\n",
    "median_test_value = test_combined[feature].median()\n",
    "test_combined[feature] = test_combined[feature].fillna(median_test_value)\n",
    "print(f\"Filled NaN with median value: {median_test_value}\")"
   ]
  },
  {
   "cell_type": "code",
   "execution_count": 125,
   "metadata": {
    "trusted": true
   },
   "outputs": [],
   "source": [
    "# Q1 = train_combined[feature].quantile(0.25)\n",
    "# Q3 = train_combined[feature].quantile(0.75)\n",
    "# IQR = Q3 - Q1\n",
    "\n",
    "# lower_bound = Q1 - 1.5 * IQR\n",
    "# upper_bound = Q3 + 1.5 * IQR\n",
    "\n",
    "# outliers = train_combined[(train_combined[feature] < lower_bound) | (train_combined[feature] > upper_bound)]\n",
    "# print(f\"Number of outliers in '{feature}': {len(outliers)}\")\n",
    "\n",
    "# plt.figure(figsize=(8, 1.5))\n",
    "# sns.boxplot(x=train_combined[feature], color=\"lightcoral\")\n",
    "# plt.title(f'Boxplot of {feature}')\n",
    "# plt.xlabel(feature)\n",
    "# plt.tight_layout()\n",
    "# plt.show()"
   ]
  },
  {
   "cell_type": "markdown",
   "metadata": {},
   "source": [
    "### 2.1.13: SDQ_SDQ_Generating_Impact"
   ]
  },
  {
   "cell_type": "code",
   "execution_count": 126,
   "metadata": {
    "trusted": true
   },
   "outputs": [
    {
     "name": "stdout",
     "output_type": "stream",
     "text": [
      "Number of NaN rows in feature 'SDQ_SDQ_Generating_Impact': 9\n",
      "Filled NaN with median value: 4.0\n",
      "Filled NaN with median value: 4.0\n"
     ]
    }
   ],
   "source": [
    "feature = 'SDQ_SDQ_Generating_Impact'\n",
    "nan_count = train_combined[feature].isna().sum()\n",
    "print(f\"Number of NaN rows in feature '{feature}': {nan_count}\")\n",
    "\n",
    "median_value = train_combined[feature].median()\n",
    "train_combined[feature] = train_combined[feature].fillna(median_value)\n",
    "print(f\"Filled NaN with median value: {median_value}\")\n",
    "\n",
    "median_test_value = test_combined[feature].median()\n",
    "test_combined[feature] = test_combined[feature].fillna(median_test_value)\n",
    "print(f\"Filled NaN with median value: {median_test_value}\")"
   ]
  },
  {
   "cell_type": "code",
   "execution_count": 127,
   "metadata": {
    "trusted": true
   },
   "outputs": [],
   "source": [
    "# Q1 = train_combined[feature].quantile(0.25)\n",
    "# Q3 = train_combined[feature].quantile(0.75)\n",
    "# IQR = Q3 - Q1\n",
    "\n",
    "# lower_bound = Q1 - 1.5 * IQR\n",
    "# upper_bound = Q3 + 1.5 * IQR\n",
    "\n",
    "# outliers = train_combined[(train_combined[feature] < lower_bound) | (train_combined[feature] > upper_bound)]\n",
    "# print(f\"Number of outliers in '{feature}': {len(outliers)}\")\n",
    "\n",
    "# plt.figure(figsize=(8, 1.5))\n",
    "# sns.boxplot(x=train_combined[feature], color=\"lightcoral\")\n",
    "# plt.title(f'Boxplot of {feature}')\n",
    "# plt.xlabel(feature)\n",
    "# plt.tight_layout()\n",
    "# plt.show()"
   ]
  },
  {
   "cell_type": "markdown",
   "metadata": {},
   "source": [
    "### 2.1.14: SDQ_SDQ_Hyperactivity"
   ]
  },
  {
   "cell_type": "code",
   "execution_count": 128,
   "metadata": {
    "trusted": true
   },
   "outputs": [
    {
     "name": "stdout",
     "output_type": "stream",
     "text": [
      "Number of NaN rows in feature 'SDQ_SDQ_Hyperactivity': 9\n",
      "Filled NaN with median value: 6.0\n",
      "Filled NaN with median value: 6.0\n"
     ]
    }
   ],
   "source": [
    "feature = 'SDQ_SDQ_Hyperactivity'\n",
    "nan_count = train_combined[feature].isna().sum()\n",
    "print(f\"Number of NaN rows in feature '{feature}': {nan_count}\")\n",
    "\n",
    "median_value = train_combined[feature].median()\n",
    "train_combined[feature] = train_combined[feature].fillna(median_value)\n",
    "print(f\"Filled NaN with median value: {median_value}\")\n",
    "\n",
    "median_test_value = test_combined[feature].median()\n",
    "test_combined[feature] = test_combined[feature].fillna(median_test_value)\n",
    "print(f\"Filled NaN with median value: {median_test_value}\")"
   ]
  },
  {
   "cell_type": "code",
   "execution_count": 129,
   "metadata": {
    "trusted": true
   },
   "outputs": [],
   "source": [
    "# Q1 = train_combined[feature].quantile(0.25)\n",
    "# Q3 = train_combined[feature].quantile(0.75)\n",
    "# IQR = Q3 - Q1\n",
    "\n",
    "# lower_bound = Q1 - 1.5 * IQR\n",
    "# upper_bound = Q3 + 1.5 * IQR\n",
    "\n",
    "# outliers = train_combined[(train_combined[feature] < lower_bound) | (train_combined[feature] > upper_bound)]\n",
    "# print(f\"Number of outliers in '{feature}': {len(outliers)}\")\n",
    "\n",
    "# plt.figure(figsize=(8, 1.5))\n",
    "# sns.boxplot(x=train_combined[feature], color=\"lightcoral\")\n",
    "# plt.title(f'Boxplot of {feature}')\n",
    "# plt.xlabel(feature)\n",
    "# plt.tight_layout()\n",
    "# plt.show()"
   ]
  },
  {
   "cell_type": "markdown",
   "metadata": {},
   "source": [
    "### 2.1.15: SDQ_SDQ_Internalizing"
   ]
  },
  {
   "cell_type": "code",
   "execution_count": 130,
   "metadata": {
    "trusted": true
   },
   "outputs": [
    {
     "name": "stdout",
     "output_type": "stream",
     "text": [
      "Number of NaN rows in feature 'SDQ_SDQ_Internalizing': 9\n",
      "Filled NaN with median value: 4.0\n",
      "Filled NaN with median value: 4.0\n"
     ]
    }
   ],
   "source": [
    "feature = 'SDQ_SDQ_Internalizing'\n",
    "nan_count = train_combined[feature].isna().sum()\n",
    "print(f\"Number of NaN rows in feature '{feature}': {nan_count}\")\n",
    "\n",
    "median_value = train_combined[feature].median()\n",
    "train_combined[feature] = train_combined[feature].fillna(median_value)\n",
    "print(f\"Filled NaN with median value: {median_value}\")\n",
    "\n",
    "median_test_value = test_combined[feature].median()\n",
    "test_combined[feature] = test_combined[feature].fillna(median_test_value)\n",
    "print(f\"Filled NaN with median value: {median_test_value}\")"
   ]
  },
  {
   "cell_type": "code",
   "execution_count": 131,
   "metadata": {
    "trusted": true
   },
   "outputs": [],
   "source": [
    "# Q1 = train_combined[feature].quantile(0.25)\n",
    "# Q3 = train_combined[feature].quantile(0.75)\n",
    "# IQR = Q3 - Q1\n",
    "\n",
    "# lower_bound = Q1 - 1.5 * IQR\n",
    "# upper_bound = Q3 + 1.5 * IQR\n",
    "\n",
    "# outliers = train_combined[(train_combined[feature] < lower_bound) | (train_combined[feature] > upper_bound)]\n",
    "# print(f\"Number of outliers in '{feature}': {len(outliers)}\")\n",
    "\n",
    "# plt.figure(figsize=(8, 1.5))\n",
    "# sns.boxplot(x=train_combined[feature], color=\"lightcoral\")\n",
    "# plt.title(f'Boxplot of {feature}')\n",
    "# plt.xlabel(feature)\n",
    "# plt.tight_layout()\n",
    "# plt.show()"
   ]
  },
  {
   "cell_type": "markdown",
   "metadata": {},
   "source": [
    "### 2.1.16: SDQ_SDQ_Peer_Problems"
   ]
  },
  {
   "cell_type": "code",
   "execution_count": 132,
   "metadata": {
    "trusted": true
   },
   "outputs": [
    {
     "name": "stdout",
     "output_type": "stream",
     "text": [
      "Number of NaN rows in feature 'SDQ_SDQ_Peer_Problems': 9\n",
      "Filled NaN with median value: 2.0\n",
      "Filled NaN with median value: 1.0\n"
     ]
    }
   ],
   "source": [
    "feature = 'SDQ_SDQ_Peer_Problems'\n",
    "nan_count = train_combined[feature].isna().sum()\n",
    "print(f\"Number of NaN rows in feature '{feature}': {nan_count}\")\n",
    "\n",
    "median_value = train_combined[feature].median()\n",
    "train_combined[feature] = train_combined[feature].fillna(median_value)\n",
    "print(f\"Filled NaN with median value: {median_value}\")\n",
    "\n",
    "median_test_value = test_combined[feature].median()\n",
    "test_combined[feature] = test_combined[feature].fillna(median_test_value)\n",
    "print(f\"Filled NaN with median value: {median_test_value}\")"
   ]
  },
  {
   "cell_type": "code",
   "execution_count": 133,
   "metadata": {
    "trusted": true
   },
   "outputs": [],
   "source": [
    "# Q1 = train_combined[feature].quantile(0.25)\n",
    "# Q3 = train_combined[feature].quantile(0.75)\n",
    "# IQR = Q3 - Q1\n",
    "\n",
    "# lower_bound = Q1 - 1.5 * IQR\n",
    "# upper_bound = Q3 + 1.5 * IQR\n",
    "\n",
    "# outliers = train_combined[(train_combined[feature] < lower_bound) | (train_combined[feature] > upper_bound)]\n",
    "# print(f\"Number of outliers in '{feature}': {len(outliers)}\")\n",
    "\n",
    "# plt.figure(figsize=(8, 1.5))\n",
    "# sns.boxplot(x=train_combined[feature], color=\"lightcoral\")\n",
    "# plt.title(f'Boxplot of {feature}')\n",
    "# plt.xlabel(feature)\n",
    "# plt.tight_layout()\n",
    "# plt.show()"
   ]
  },
  {
   "cell_type": "markdown",
   "metadata": {},
   "source": [
    "### 2.1.17: SDQ_SDQ_Prosocial"
   ]
  },
  {
   "cell_type": "code",
   "execution_count": 134,
   "metadata": {
    "trusted": true
   },
   "outputs": [
    {
     "name": "stdout",
     "output_type": "stream",
     "text": [
      "Number of NaN rows in feature 'SDQ_SDQ_Prosocial': 9\n",
      "Filled NaN with median value: 8.0\n",
      "Filled NaN with median value: 8.0\n"
     ]
    }
   ],
   "source": [
    "feature = 'SDQ_SDQ_Prosocial'\n",
    "nan_count = train_combined[feature].isna().sum()\n",
    "print(f\"Number of NaN rows in feature '{feature}': {nan_count}\")\n",
    "\n",
    "median_value = train_combined[feature].median()\n",
    "train_combined[feature] = train_combined[feature].fillna(median_value)\n",
    "print(f\"Filled NaN with median value: {median_value}\")\n",
    "\n",
    "median_test_value = test_combined[feature].median()\n",
    "test_combined[feature] = test_combined[feature].fillna(median_test_value)\n",
    "print(f\"Filled NaN with median value: {median_test_value}\")"
   ]
  },
  {
   "cell_type": "code",
   "execution_count": 135,
   "metadata": {
    "trusted": true
   },
   "outputs": [],
   "source": [
    "# Q1 = train_combined[feature].quantile(0.25)\n",
    "# Q3 = train_combined[feature].quantile(0.75)\n",
    "# IQR = Q3 - Q1\n",
    "\n",
    "# lower_bound = Q1 - 1.5 * IQR\n",
    "# upper_bound = Q3 + 1.5 * IQR\n",
    "\n",
    "# outliers = train_combined[(train_combined[feature] < lower_bound) | (train_combined[feature] > upper_bound)]\n",
    "# print(f\"Number of outliers in '{feature}': {len(outliers)}\")\n",
    "\n",
    "# plt.figure(figsize=(8, 1.5))\n",
    "# sns.boxplot(x=train_combined[feature], color=\"lightcoral\")\n",
    "# plt.title(f'Boxplot of {feature}')\n",
    "# plt.xlabel(feature)\n",
    "# plt.tight_layout()\n",
    "# plt.show()"
   ]
  },
  {
   "cell_type": "markdown",
   "metadata": {},
   "source": [
    "### 2.1.18: MRI_Track_Age_at_Scan"
   ]
  },
  {
   "cell_type": "code",
   "execution_count": 136,
   "metadata": {
    "trusted": true
   },
   "outputs": [
    {
     "name": "stdout",
     "output_type": "stream",
     "text": [
      "Number of NaN rows in feature 'MRI_Track_Age_at_Scan': 360\n"
     ]
    }
   ],
   "source": [
    "feature = 'MRI_Track_Age_at_Scan'\n",
    "nan_count = train_combined[feature].isna().sum()\n",
    "print(f\"Number of NaN rows in feature '{feature}': {nan_count}\")"
   ]
  },
  {
   "cell_type": "code",
   "execution_count": 137,
   "metadata": {
    "trusted": true
   },
   "outputs": [],
   "source": [
    "numeric_data = train_combined[numerical_features].copy()\n",
    "imputer = IterativeImputer(estimator=LassoCV(random_state=SEED), max_iter=100, random_state=SEED)\n",
    "\n",
    "numeric_data_imputed = pd.DataFrame(\n",
    "    imputer.fit_transform(numeric_data), \n",
    "    columns=numerical_features, \n",
    "    index=numeric_data.index\n",
    ")\n",
    "train_combined['MRI_Track_Age_at_Scan'] = numeric_data_imputed['MRI_Track_Age_at_Scan']\n",
    "\n",
    "\n",
    "test_numeric_data = test_combined[numerical_features].copy()\n",
    "test_numeric_data_imputed = pd.DataFrame(\n",
    "    imputer.transform(test_numeric_data),\n",
    "    columns=numerical_features,\n",
    "    index=test_numeric_data.index\n",
    ")\n",
    "test_combined['MRI_Track_Age_at_Scan'] = test_numeric_data_imputed['MRI_Track_Age_at_Scan']"
   ]
  },
  {
   "cell_type": "code",
   "execution_count": 138,
   "metadata": {
    "trusted": true
   },
   "outputs": [
    {
     "name": "stdout",
     "output_type": "stream",
     "text": [
      "Number of outliers in 'MRI_Track_Age_at_Scan': 16\n"
     ]
    },
    {
     "data": {
      "image/png": "[encoded data removed]",
      "text/plain": [
       "<Figure size 800x150 with 1 Axes>"
      ]
     },
     "metadata": {},
     "output_type": "display_data"
    }
   ],
   "source": [
    "Q1 = train_combined[feature].quantile(0.25)\n",
    "Q3 = train_combined[feature].quantile(0.75)\n",
    "IQR = Q3 - Q1\n",
    "\n",
    "lower_bound = Q1 - 1.5 * IQR\n",
    "upper_bound = Q3 + 1.5 * IQR\n",
    "\n",
    "outliers = train_combined[(train_combined[feature] < lower_bound) | (train_combined[feature] > upper_bound)]\n",
    "print(f\"Number of outliers in '{feature}': {len(outliers)}\")\n",
    "\n",
    "plt.figure(figsize=(8, 1.5))\n",
    "sns.boxplot(x=train_combined[feature], color=\"lightcoral\")\n",
    "plt.title(f'Boxplot of {feature}')\n",
    "plt.xlabel(feature)\n",
    "plt.tight_layout()\n",
    "plt.show()"
   ]
  },
  {
   "cell_type": "code",
   "execution_count": 139,
   "metadata": {},
   "outputs": [],
   "source": [
    "# train_combined.drop(columns=['EHQ_EHQ_Total', 'ColorVision_CV_Score'], inplace=True)\n",
    "# test_combined.drop(columns=['EHQ_EHQ_Total', 'ColorVision_CV_Score'], inplace=True)"
   ]
  },
  {
   "cell_type": "markdown",
   "metadata": {},
   "source": [
    "## 2.2 Categorical Features Visualization"
   ]
  },
  {
   "cell_type": "code",
   "execution_count": 140,
   "metadata": {
    "trusted": true
   },
   "outputs": [
    {
     "name": "stdout",
     "output_type": "stream",
     "text": [
      "12\n"
     ]
    }
   ],
   "source": [
    "categorical_features = [\n",
    "    'Basic_Demos_Enroll_Year', 'Basic_Demos_Study_Site',\n",
    "    'PreInt_Demos_Fam_Child_Ethnicity', 'PreInt_Demos_Fam_Child_Race',\n",
    "    'MRI_Track_Scan_Location', 'Barratt_Barratt_P1_Edu',\n",
    "    'Barratt_Barratt_P1_Occ', 'Barratt_Barratt_P2_Edu',\n",
    "    'Barratt_Barratt_P2_Occ', 'Laterality_Category', 'ColorVision_Level',\n",
    "    'APQ_CP_is_high'\n",
    "]\n",
    "\n",
    "print(len(categorical_features))   "
   ]
  },
  {
   "cell_type": "markdown",
   "metadata": {},
   "source": [
    "### 2.2.1 Basic_Demos_Enroll_Year"
   ]
  },
  {
   "cell_type": "code",
   "execution_count": 141,
   "metadata": {
    "trusted": true
   },
   "outputs": [
    {
     "name": "stdout",
     "output_type": "stream",
     "text": [
      "Number of NaN rows in feature 'Basic_Demos_Enroll_Year': 0\n",
      "Number of NaN rows in test feature 'Basic_Demos_Enroll_Year': 0\n"
     ]
    }
   ],
   "source": [
    "feature = 'Basic_Demos_Enroll_Year'\n",
    "nan_count_train = train_combined[feature].isna().sum()\n",
    "print(f\"Number of NaN rows in feature '{feature}': {nan_count_train}\")\n",
    "nan_count_test = test_combined[feature].isna().sum()\n",
    "print(f\"Number of NaN rows in test feature '{feature}': {nan_count_test}\")"
   ]
  },
  {
   "cell_type": "code",
   "execution_count": 142,
   "metadata": {
    "trusted": true
   },
   "outputs": [
    {
     "data": {
      "image/png": "[encoded data removed]",
      "text/plain": [
       "<Figure size 800x400 with 1 Axes>"
      ]
     },
     "metadata": {},
     "output_type": "display_data"
    }
   ],
   "source": [
    "plt.figure(figsize=(8, 4))\n",
    "sns.countplot(x=train_combined[feature], palette=\"Set2\")\n",
    "plt.title(f\"Distribution of {feature}\")\n",
    "plt.xticks(rotation=45)\n",
    "plt.tight_layout()\n",
    "plt.show()"
   ]
  },
  {
   "cell_type": "code",
   "execution_count": 143,
   "metadata": {},
   "outputs": [
    {
     "data": {
      "image/png": "[encoded data removed]",
      "text/plain": [
       "<Figure size 800x400 with 1 Axes>"
      ]
     },
     "metadata": {},
     "output_type": "display_data"
    }
   ],
   "source": [
    "# Step 1: Compute rare categories from TRAIN only\n",
    "threshold = 50\n",
    "\n",
    "# Step 1: Handle rare categories in TRAIN\n",
    "category_counts = train_combined[feature].value_counts()\n",
    "rare_categories = category_counts[category_counts < threshold].index\n",
    "train_combined[feature] = train_combined[feature].apply(\n",
    "    lambda x: 'Other' if x in rare_categories else str(x)\n",
    ")\n",
    "\n",
    "# Step 2: Handle rare + unseen categories in TEST\n",
    "# Convert to str first so categories match\n",
    "test_combined[feature] = test_combined[feature].astype(str)\n",
    "\n",
    "# Map test values to 'Other' if not in train (incl. unseen or rare ones)\n",
    "allowed_categories = set(train_combined[feature].unique())\n",
    "\n",
    "test_combined[feature] = test_combined[feature].apply(\n",
    "    lambda x: x if x in allowed_categories else 'Other'\n",
    ")\n",
    "\n",
    "plt.figure(figsize=(8, 4))\n",
    "sns.countplot(x=train_combined[feature], palette=\"Set2\", order=train_combined[feature].value_counts().index)\n",
    "plt.title(f\"Distribution of {feature} (after grouping rare categories)\")\n",
    "plt.xticks(rotation=45)\n",
    "plt.tight_layout()\n",
    "plt.show()"
   ]
  },
  {
   "cell_type": "code",
   "execution_count": 144,
   "metadata": {},
   "outputs": [],
   "source": [
    "train_combined[feature] = train_combined[feature].replace({4: 0})\n",
    "test_combined[feature] = test_combined[feature].replace({4: 0})"
   ]
  },
  {
   "cell_type": "markdown",
   "metadata": {},
   "source": [
    "### 2.2.2: Basic_Demos_Study_Site"
   ]
  },
  {
   "cell_type": "code",
   "execution_count": 145,
   "metadata": {},
   "outputs": [
    {
     "name": "stdout",
     "output_type": "stream",
     "text": [
      "Number of NaN rows in feature 'Basic_Demos_Study_Site': 0\n",
      "Number of NaN rows in test feature 'Basic_Demos_Study_Site': 0\n"
     ]
    }
   ],
   "source": [
    "feature = 'Basic_Demos_Study_Site'\n",
    "nan_count = train_combined[feature].isna().sum()\n",
    "print(f\"Number of NaN rows in feature '{feature}': {nan_count}\")\n",
    "\n",
    "nan_count_test = test_combined[feature].isna().sum()\n",
    "print(f\"Number of NaN rows in test feature '{feature}': {nan_count_test}\")"
   ]
  },
  {
   "cell_type": "code",
   "execution_count": 146,
   "metadata": {},
   "outputs": [
    {
     "data": {
      "image/png": "[encoded data removed]",
      "text/plain": [
       "<Figure size 800x400 with 1 Axes>"
      ]
     },
     "metadata": {},
     "output_type": "display_data"
    }
   ],
   "source": [
    "plt.figure(figsize=(8, 4))\n",
    "sns.countplot(x=train_combined[feature], palette='pastel', order=train_combined[feature].value_counts().index)\n",
    "plt.title(f\"Distribution of {feature}\")\n",
    "plt.xticks(rotation=45)\n",
    "plt.tight_layout()\n",
    "plt.show()"
   ]
  },
  {
   "cell_type": "code",
   "execution_count": 147,
   "metadata": {},
   "outputs": [
    {
     "name": "stdout",
     "output_type": "stream",
     "text": [
      "Rare categories in 'Basic_Demos_Study_Site' (fewer than 25 instances):\n",
      "Index([], dtype='int64', name='Basic_Demos_Study_Site')\n"
     ]
    },
    {
     "data": {
      "image/png": "[encoded data removed]",
      "text/plain": [
       "<Figure size 800x400 with 1 Axes>"
      ]
     },
     "metadata": {},
     "output_type": "display_data"
    }
   ],
   "source": [
    "# Step 1: Combine 2, 3, and 4 into 2\n",
    "train_combined[feature] = train_combined[feature].replace({3: 2, 4: 2})\n",
    "test_combined[feature] = test_combined[feature].replace({3: 2, 4: 2})\n",
    "\n",
    "# Step 2: Handle rare categories\n",
    "threshold = 25\n",
    "category_counts = train_combined[feature].value_counts()\n",
    "rare_categories = category_counts[category_counts < threshold].index\n",
    "\n",
    "print(f\"Rare categories in '{feature}' (fewer than {threshold} instances):\")\n",
    "print(rare_categories)\n",
    "\n",
    "# Step 3: Replace rare categories with 'Other'\n",
    "train_combined[feature] = train_combined[feature].apply(\n",
    "    lambda x: 'Other' if x in rare_categories else str(x)\n",
    ")\n",
    "test_combined[feature] = test_combined[feature].apply(\n",
    "    lambda x: 'Other' if x in rare_categories else str(x)\n",
    ")\n",
    "\n",
    "# Step 4: Plot updated TRAIN distribution\n",
    "plt.figure(figsize=(8, 4))\n",
    "sns.countplot(x=train_combined[feature], palette='pastel', order=train_combined[feature].value_counts().index)\n",
    "plt.title(f\"Distribution of {feature} (after combining 2/3/4 and cleaning)\")\n",
    "plt.xticks(rotation=45)\n",
    "plt.tight_layout()\n",
    "plt.show()"
   ]
  },
  {
   "cell_type": "markdown",
   "metadata": {},
   "source": [
    "### 2.2.3: PreInt_Demos_Fam_Child_Ethnicity"
   ]
  },
  {
   "cell_type": "code",
   "execution_count": 148,
   "metadata": {},
   "outputs": [
    {
     "name": "stdout",
     "output_type": "stream",
     "text": [
      "Number of NaN rows in feature 'PreInt_Demos_Fam_Child_Ethnicity': 43\n",
      "Number of NaN rows in test feature 'PreInt_Demos_Fam_Child_Ethnicity': 3\n"
     ]
    }
   ],
   "source": [
    "feature = 'PreInt_Demos_Fam_Child_Ethnicity'\n",
    "nan_count = train_combined[feature].isna().sum()\n",
    "print(f\"Number of NaN rows in feature '{feature}': {nan_count}\")\n",
    "\n",
    "nan_count_test = test_combined[feature].isna().sum()\n",
    "print(f\"Number of NaN rows in test feature '{feature}': {nan_count_test}\")"
   ]
  },
  {
   "cell_type": "code",
   "execution_count": 149,
   "metadata": {},
   "outputs": [],
   "source": [
    "train_combined[feature] = train_combined[feature].fillna(3.0)\n",
    "test_combined[feature] = test_combined[feature].fillna(3.0)"
   ]
  },
  {
   "cell_type": "code",
   "execution_count": 150,
   "metadata": {},
   "outputs": [
    {
     "data": {
      "image/png": "[encoded data removed]",
      "text/plain": [
       "<Figure size 800x400 with 1 Axes>"
      ]
     },
     "metadata": {},
     "output_type": "display_data"
    }
   ],
   "source": [
    "plt.figure(figsize=(8, 4))\n",
    "sns.countplot(x=train_combined[feature], palette='pastel', order=train_combined[feature].value_counts().index)\n",
    "plt.title(f\"Distribution of {feature}\")\n",
    "plt.xticks(rotation=45)\n",
    "plt.tight_layout()\n",
    "plt.show()"
   ]
  },
  {
   "cell_type": "code",
   "execution_count": 151,
   "metadata": {},
   "outputs": [
    {
     "data": {
      "image/png": "[encoded data removed]",
      "text/plain": [
       "<Figure size 800x400 with 1 Axes>"
      ]
     },
     "metadata": {},
     "output_type": "display_data"
    }
   ],
   "source": [
    "# combine values 2 and 3\n",
    "train_combined[feature] = train_combined[feature].replace({3: 2})\n",
    "test_combined[feature] = test_combined[feature].replace({3: 2})\n",
    "\n",
    "plt.figure(figsize=(8, 4))\n",
    "sns.countplot(x=train_combined[feature], palette='pastel', order=train_combined[feature].value_counts().index)\n",
    "plt.title(f\"Distribution of {feature} (2 and 3 combined)\")\n",
    "plt.xticks(rotation=45)\n",
    "plt.tight_layout()\n",
    "plt.show()"
   ]
  },
  {
   "cell_type": "markdown",
   "metadata": {},
   "source": [
    "### 2.2.4: PreInt_Demos_Fam_Child_Race"
   ]
  },
  {
   "cell_type": "code",
   "execution_count": 152,
   "metadata": {},
   "outputs": [
    {
     "name": "stdout",
     "output_type": "stream",
     "text": [
      "Number of NaN rows in feature 'PreInt_Demos_Fam_Child_Race': 54\n",
      "Number of NaN rows in test feature 'PreInt_Demos_Fam_Child_Race': 6\n"
     ]
    }
   ],
   "source": [
    "feature = 'PreInt_Demos_Fam_Child_Race'\n",
    "nan_count = train_combined[feature].isna().sum()\n",
    "print(f\"Number of NaN rows in feature '{feature}': {nan_count}\")\n",
    "\n",
    "nan_test_count = test_combined[feature].isna().sum()\n",
    "print(f\"Number of NaN rows in test feature '{feature}': {nan_test_count}\")"
   ]
  },
  {
   "cell_type": "code",
   "execution_count": 153,
   "metadata": {},
   "outputs": [],
   "source": [
    "train_combined[feature] = train_combined[feature].fillna(10.0)\n",
    "test_combined[feature] = test_combined[feature].fillna(10.0)"
   ]
  },
  {
   "cell_type": "code",
   "execution_count": 154,
   "metadata": {},
   "outputs": [
    {
     "data": {
      "image/png": "[encoded data removed]",
      "text/plain": [
       "<Figure size 800x400 with 1 Axes>"
      ]
     },
     "metadata": {},
     "output_type": "display_data"
    }
   ],
   "source": [
    "plt.figure(figsize=(8, 4))\n",
    "sns.countplot(x=train_combined[feature], palette='pastel', order=train_combined[feature].value_counts().index)\n",
    "plt.title(f\"Distribution of {feature}\")\n",
    "plt.xticks(rotation=45)\n",
    "plt.tight_layout()\n",
    "plt.show()"
   ]
  },
  {
   "cell_type": "code",
   "execution_count": 155,
   "metadata": {},
   "outputs": [
    {
     "data": {
      "image/png": "[encoded data removed]",
      "text/plain": [
       "<Figure size 600x400 with 1 Axes>"
      ]
     },
     "metadata": {},
     "output_type": "display_data"
    }
   ],
   "source": [
    "# Step 1: Map values\n",
    "train_combined[feature] = train_combined[feature].apply(lambda x: \"White\" if x == 0.0 else \"Non-White\")\n",
    "test_combined[feature] = test_combined[feature].apply(lambda x: \"White\" if x == 0.0 else \"Non-White\")\n",
    "\n",
    "# Step 2: Plot\n",
    "plt.figure(figsize=(6, 4))\n",
    "sns.countplot(x=train_combined[feature], palette='pastel', \n",
    "              order=train_combined[feature].value_counts().index)\n",
    "plt.title(f\"Distribution of {feature} (White vs Non-White)\")\n",
    "plt.tight_layout()\n",
    "plt.show()"
   ]
  },
  {
   "cell_type": "markdown",
   "metadata": {},
   "source": [
    "### 2.2.5: MRI_Track_Scan_Location"
   ]
  },
  {
   "cell_type": "code",
   "execution_count": 156,
   "metadata": {},
   "outputs": [
    {
     "name": "stdout",
     "output_type": "stream",
     "text": [
      "Number of NaN rows in feature 'MRI_Track_Scan_Location': 3\n",
      "Number of NaN rows in test feature 'MRI_Track_Scan_Location': 0\n"
     ]
    }
   ],
   "source": [
    "feature = 'MRI_Track_Scan_Location'\n",
    "nan_count = train_combined[feature].isna().sum()\n",
    "print(f\"Number of NaN rows in feature '{feature}': {nan_count}\")\n",
    "\n",
    "nan_test_count = test_combined[feature].isna().sum()\n",
    "print(f\"Number of NaN rows in test feature '{feature}': {nan_test_count}\")"
   ]
  },
  {
   "cell_type": "code",
   "execution_count": 157,
   "metadata": {},
   "outputs": [],
   "source": [
    "train_combined[feature] = train_combined[feature].fillna(4.0)\n",
    "test_combined[feature] = test_combined[feature].fillna(4.0)"
   ]
  },
  {
   "cell_type": "code",
   "execution_count": 158,
   "metadata": {},
   "outputs": [
    {
     "data": {
      "image/png": "[encoded data removed]",
      "text/plain": [
       "<Figure size 800x400 with 1 Axes>"
      ]
     },
     "metadata": {},
     "output_type": "display_data"
    }
   ],
   "source": [
    "plt.figure(figsize=(8, 4))\n",
    "sns.countplot(x=train_combined[feature], palette='pastel', order=train_combined[feature].value_counts().index)\n",
    "plt.title(f\"Distribution of {feature}\")\n",
    "plt.xticks(rotation=45)\n",
    "plt.tight_layout()\n",
    "plt.show()"
   ]
  },
  {
   "cell_type": "code",
   "execution_count": 159,
   "metadata": {},
   "outputs": [
    {
     "data": {
      "image/png": "[encoded data removed]",
      "text/plain": [
       "<Figure size 800x400 with 1 Axes>"
      ]
     },
     "metadata": {},
     "output_type": "display_data"
    }
   ],
   "source": [
    "# combine values 1 and 4\n",
    "train_combined[feature] = train_combined[feature].replace({4: 1})\n",
    "test_combined[feature] = test_combined[feature].replace({4: 1})\n",
    "\n",
    "plt.figure(figsize=(8, 4))\n",
    "sns.countplot(x=train_combined[feature], palette='pastel', order=train_combined[feature].value_counts().index)\n",
    "plt.title(f\"Distribution of {feature}\")\n",
    "plt.xticks(rotation=45)\n",
    "plt.tight_layout()\n",
    "plt.show()"
   ]
  },
  {
   "cell_type": "markdown",
   "metadata": {},
   "source": [
    "### 2.2.6: Barratt_Barratt_P1_Edu"
   ]
  },
  {
   "cell_type": "code",
   "execution_count": 160,
   "metadata": {},
   "outputs": [
    {
     "name": "stdout",
     "output_type": "stream",
     "text": [
      "Number of NaN rows in feature 'Barratt_Barratt_P1_Edu': 15\n",
      "Number of NaN rows in test feature 'Barratt_Barratt_P1_Edu': 1\n"
     ]
    }
   ],
   "source": [
    "feature = 'Barratt_Barratt_P1_Edu'\n",
    "nan_count = train_combined[feature].isna().sum()\n",
    "print(f\"Number of NaN rows in feature '{feature}': {nan_count}\")\n",
    "\n",
    "nan_test_count = test_combined[feature].isna().sum()\n",
    "print(f\"Number of NaN rows in test feature '{feature}': {nan_test_count}\")"
   ]
  },
  {
   "cell_type": "code",
   "execution_count": 161,
   "metadata": {},
   "outputs": [],
   "source": [
    "train_combined[feature] = train_combined[feature].fillna(18.0)\n",
    "test_combined[feature] = test_combined[feature].fillna(18.0)"
   ]
  },
  {
   "cell_type": "code",
   "execution_count": 162,
   "metadata": {},
   "outputs": [
    {
     "data": {
      "image/png": "[encoded data removed]",
      "text/plain": [
       "<Figure size 800x400 with 1 Axes>"
      ]
     },
     "metadata": {},
     "output_type": "display_data"
    }
   ],
   "source": [
    "plt.figure(figsize=(8, 4))\n",
    "sns.countplot(x=train_combined[feature], palette='pastel', order=train_combined[feature].value_counts().index)\n",
    "plt.title(f\"Distribution of {feature}\")\n",
    "plt.xticks(rotation=45)\n",
    "plt.tight_layout()\n",
    "plt.show()"
   ]
  },
  {
   "cell_type": "code",
   "execution_count": 163,
   "metadata": {},
   "outputs": [],
   "source": [
    "def collapse_edu(value):\n",
    "    if value == 21.0:\n",
    "        return \"Upper_College\"\n",
    "    elif value == 18.0:\n",
    "        return \"College\"\n",
    "    else:\n",
    "        return \"Under_College\"\n",
    "    \n",
    "train_combined[feature] = train_combined[feature].apply(collapse_edu)\n",
    "test_combined[feature] = test_combined[feature].apply(collapse_edu)"
   ]
  },
  {
   "cell_type": "code",
   "execution_count": 164,
   "metadata": {},
   "outputs": [
    {
     "data": {
      "image/png": "[encoded data removed]",
      "text/plain": [
       "<Figure size 600x400 with 1 Axes>"
      ]
     },
     "metadata": {},
     "output_type": "display_data"
    }
   ],
   "source": [
    "# Plot updated distribution\n",
    "plt.figure(figsize=(6, 4))\n",
    "sns.countplot(x=train_combined[feature], palette='Set2', order=train_combined[feature].value_counts().index)\n",
    "plt.title(f\"Collapsed Distribution of {feature}\")\n",
    "plt.tight_layout()\n",
    "plt.show()"
   ]
  },
  {
   "cell_type": "markdown",
   "metadata": {},
   "source": [
    "### 2.2.7: Barratt_Barratt_P1_Occ"
   ]
  },
  {
   "cell_type": "code",
   "execution_count": 165,
   "metadata": {},
   "outputs": [
    {
     "name": "stdout",
     "output_type": "stream",
     "text": [
      "Number of NaN rows in feature 'Barratt_Barratt_P1_Occ': 31\n",
      "Number of NaN rows in test feature 'Barratt_Barratt_P1_Occ': 1\n"
     ]
    }
   ],
   "source": [
    "feature = 'Barratt_Barratt_P1_Occ'\n",
    "nan_count = train_combined[feature].isna().sum()\n",
    "print(f\"Number of NaN rows in feature '{feature}': {nan_count}\")\n",
    "\n",
    "nan_test_count = test_combined[feature].isna().sum()\n",
    "print(f\"Number of NaN rows in test feature '{feature}': {nan_test_count}\")"
   ]
  },
  {
   "cell_type": "code",
   "execution_count": 166,
   "metadata": {},
   "outputs": [
    {
     "name": "stdout",
     "output_type": "stream",
     "text": [
      "Filled NaN in 'Barratt_Barratt_P1_Occ' with median value: 30.0\n",
      "Filled NaN in 'Barratt_Barratt_P1_Occ' with median value: 35.0\n"
     ]
    }
   ],
   "source": [
    "median_value = train_combined[feature].median()\n",
    "train_combined[feature] = train_combined[feature].fillna(median_value)\n",
    "print(f\"Filled NaN in '{feature}' with median value: {median_value}\")\n",
    "\n",
    "median_test_value = test_combined[feature].median()\n",
    "test_combined[feature] = test_combined[feature].fillna(median_test_value)\n",
    "print(f\"Filled NaN in '{feature}' with median value: {median_test_value}\")"
   ]
  },
  {
   "cell_type": "code",
   "execution_count": 167,
   "metadata": {},
   "outputs": [
    {
     "data": {
      "image/png": "[encoded data removed]",
      "text/plain": [
       "<Figure size 800x400 with 1 Axes>"
      ]
     },
     "metadata": {},
     "output_type": "display_data"
    }
   ],
   "source": [
    "plt.figure(figsize=(8, 4))\n",
    "sns.countplot(x=train_combined[feature], palette='pastel', order=train_combined[feature].value_counts().index)\n",
    "plt.title(f\"Distribution of {feature}\")\n",
    "plt.xticks(rotation=45)\n",
    "plt.tight_layout()\n",
    "plt.show()"
   ]
  },
  {
   "cell_type": "code",
   "execution_count": 168,
   "metadata": {},
   "outputs": [],
   "source": [
    "def collapse_occupation(val):\n",
    "    if val in [0.0, 5.0, 10.0, 15.0]:\n",
    "        return \"Low\"\n",
    "    elif val in [20.0, 25.0]:\n",
    "        return \"LowerMid\"\n",
    "    elif val in [30.0, 35.0, 40.0]:\n",
    "        return \"UpperMid\"\n",
    "    elif val == 45.0:\n",
    "        return \"High\"\n",
    "    else:\n",
    "        return \"Other\"  # Safety fallback\n",
    "\n",
    "feature = \"Barratt_Barratt_P1_Occ\"\n",
    "\n",
    "train_combined[feature] = train_combined[feature].apply(collapse_occupation)\n",
    "test_combined[feature] = test_combined[feature].apply(collapse_occupation)"
   ]
  },
  {
   "cell_type": "markdown",
   "metadata": {},
   "source": [
    "### 2.2.8: Barratt_Barratt_P2_Edu"
   ]
  },
  {
   "cell_type": "code",
   "execution_count": 169,
   "metadata": {},
   "outputs": [
    {
     "name": "stdout",
     "output_type": "stream",
     "text": [
      "Number of NaN rows in feature 'Barratt_Barratt_P2_Edu': 198\n",
      "Number of NaN rows in test feature 'Barratt_Barratt_P2_Edu': 36\n"
     ]
    }
   ],
   "source": [
    "feature = 'Barratt_Barratt_P2_Edu'\n",
    "nan_count = train_combined[feature].isna().sum()\n",
    "print(f\"Number of NaN rows in feature '{feature}': {nan_count}\")\n",
    "\n",
    "nan_test_count = test_combined[feature].isna().sum()\n",
    "print(f\"Number of NaN rows in test feature '{feature}': {nan_test_count}\")"
   ]
  },
  {
   "cell_type": "code",
   "execution_count": 170,
   "metadata": {},
   "outputs": [],
   "source": [
    "def collapse_edu(value):\n",
    "    if value == 21.0:\n",
    "        return \"Upper_College\"\n",
    "    elif value == 18.0:\n",
    "        return \"College\"\n",
    "    else:\n",
    "        return \"Under_College\"\n",
    "    \n",
    "train_combined[feature] = train_combined[feature].apply(collapse_edu)\n",
    "test_combined[feature] = test_combined[feature].apply(collapse_edu)"
   ]
  },
  {
   "cell_type": "code",
   "execution_count": 171,
   "metadata": {},
   "outputs": [],
   "source": [
    "def impute_p2_edu(row):\n",
    "    if pd.isna(row['Barratt_Barratt_P2_Edu']):\n",
    "        return row['Barratt_Barratt_P1_Edu']\n",
    "    return row['Barratt_Barratt_P2_Edu']\n",
    "\n",
    "train_combined['Barratt_Barratt_P2_Edu'] = train_combined.apply(impute_p2_edu, axis=1)\n",
    "test_combined['Barratt_Barratt_P2_Edu'] = test_combined.apply(impute_p2_edu, axis=1)"
   ]
  },
  {
   "cell_type": "code",
   "execution_count": 172,
   "metadata": {},
   "outputs": [
    {
     "data": {
      "image/png": "[encoded data removed]",
      "text/plain": [
       "<Figure size 800x400 with 1 Axes>"
      ]
     },
     "metadata": {},
     "output_type": "display_data"
    }
   ],
   "source": [
    "plt.figure(figsize=(8, 4))\n",
    "sns.countplot(x=train_combined[feature], palette='pastel', order=train_combined[feature].value_counts().index)\n",
    "plt.title(f\"Distribution of {feature}\")\n",
    "plt.xticks(rotation=45)\n",
    "plt.tight_layout()\n",
    "plt.show()"
   ]
  },
  {
   "cell_type": "markdown",
   "metadata": {},
   "source": [
    "### 2.2.9: Barratt_Barratt_P2_Occ"
   ]
  },
  {
   "cell_type": "code",
   "execution_count": 173,
   "metadata": {},
   "outputs": [
    {
     "name": "stdout",
     "output_type": "stream",
     "text": [
      "Number of NaN rows in feature 'Barratt_Barratt_P2_Occ': 222\n",
      "Number of NaN rows in test feature 'Barratt_Barratt_P2_Occ': 42\n"
     ]
    }
   ],
   "source": [
    "feature = 'Barratt_Barratt_P2_Occ'\n",
    "nan_count = train_combined[feature].isna().sum()\n",
    "print(f\"Number of NaN rows in feature '{feature}': {nan_count}\")\n",
    "\n",
    "nan_test_count = test_combined[feature].isna().sum()\n",
    "print(f\"Number of NaN rows in test feature '{feature}': {nan_test_count}\")"
   ]
  },
  {
   "cell_type": "code",
   "execution_count": 174,
   "metadata": {},
   "outputs": [],
   "source": [
    "def collapse_occupation(val):\n",
    "    if val in [0.0, 5.0, 10.0, 15.0]:\n",
    "        return \"Low\"\n",
    "    elif val in [20.0, 25.0]:\n",
    "        return \"LowerMid\"\n",
    "    elif val in [30.0, 35.0, 40.0]:\n",
    "        return \"UpperMid\"\n",
    "    elif val == 45.0:\n",
    "        return \"High\"\n",
    "    else:\n",
    "        return \"Other\"  # Safety fallback\n",
    "\n",
    "feature = \"Barratt_Barratt_P2_Occ\"\n",
    "\n",
    "train_combined[feature] = train_combined[feature].apply(collapse_occupation)\n",
    "test_combined[feature] = test_combined[feature].apply(collapse_occupation)"
   ]
  },
  {
   "cell_type": "code",
   "execution_count": 175,
   "metadata": {},
   "outputs": [],
   "source": [
    "def impute_p2_edu(row):\n",
    "    if pd.isna(row['Barratt_Barratt_P2_Occ']):\n",
    "        return row['Barratt_Barratt_P1_Occ']\n",
    "    return row['Barratt_Barratt_P2_Occ']\n",
    "\n",
    "train_combined['Barratt_Barratt_P2_Occ'] = train_combined.apply(impute_p2_edu, axis=1)\n",
    "test_combined['Barratt_Barratt_P2_Occ'] = test_combined.apply(impute_p2_edu, axis=1)"
   ]
  },
  {
   "cell_type": "code",
   "execution_count": 176,
   "metadata": {},
   "outputs": [
    {
     "data": {
      "image/png": "[encoded data removed]",
      "text/plain": [
       "<Figure size 800x400 with 1 Axes>"
      ]
     },
     "metadata": {},
     "output_type": "display_data"
    }
   ],
   "source": [
    "plt.figure(figsize=(8, 4))\n",
    "sns.countplot(x=train_combined[feature], palette='pastel', order=train_combined[feature].value_counts().index)\n",
    "plt.title(f\"Distribution of {feature}\")\n",
    "plt.xticks(rotation=45)\n",
    "plt.tight_layout()\n",
    "plt.show()"
   ]
  },
  {
   "cell_type": "code",
   "execution_count": 177,
   "metadata": {},
   "outputs": [],
   "source": [
    "# train_combined.drop(columns=['MRI_Track_Scan_Location', 'Basic_Demos_Study_Site'], inplace=True)\n",
    "# test_combined.drop(columns=['MRI_Track_Scan_Location', 'Basic_Demos_Study_Site'], inplace=True)"
   ]
  },
  {
   "cell_type": "markdown",
   "metadata": {},
   "source": [
    "### 2.2.10 LABEL ENCODING"
   ]
  },
  {
   "cell_type": "code",
   "execution_count": 178,
   "metadata": {},
   "outputs": [],
   "source": [
    "label_encode_features = [\n",
    "    'Basic_Demos_Enroll_Year',\n",
    "    'Barratt_Barratt_P1_Edu',\n",
    "    'Barratt_Barratt_P1_Occ',\n",
    "    'Barratt_Barratt_P2_Edu',\n",
    "    'Barratt_Barratt_P2_Occ',\n",
    "    'Laterality_Category'\n",
    "]\n",
    "\n",
    "from sklearn.preprocessing import LabelEncoder\n",
    "\n",
    "encoders = {}  # Store encoders if needed for inverse_transform later\n",
    "\n",
    "for feature in label_encode_features:\n",
    "    le = LabelEncoder()\n",
    "    train_combined[feature] = le.fit_transform(train_combined[feature])\n",
    "    test_combined[feature] = le.transform(test_combined[feature])\n",
    "    encoders[feature] = le  # Save encoder"
   ]
  },
  {
   "cell_type": "code",
   "execution_count": 179,
   "metadata": {},
   "outputs": [],
   "source": [
    "# Updated binary map: White = 1, Non-White = 0\n",
    "binary_map = {\n",
    "    'White': 1,\n",
    "    'Non-White': 0,\n",
    "}\n",
    "\n",
    "# Apply to 'PreInt_Demos_Fam_Child_Race'\n",
    "train_combined['PreInt_Demos_Fam_Child_Race'] = train_combined['PreInt_Demos_Fam_Child_Race'].map(binary_map)\n",
    "test_combined['PreInt_Demos_Fam_Child_Race'] = test_combined['PreInt_Demos_Fam_Child_Race'].map(binary_map)"
   ]
  },
  {
   "cell_type": "markdown",
   "metadata": {},
   "source": [
    "# 3. Final"
   ]
  },
  {
   "cell_type": "code",
   "execution_count": 180,
   "metadata": {},
   "outputs": [
    {
     "data": {
      "text/plain": [
       "Index(['EHQ_EHQ_Total', 'ColorVision_CV_Score', 'APQ_P_APQ_P_CP',\n",
       "       'APQ_P_APQ_P_ID', 'APQ_P_APQ_P_INV', 'APQ_P_APQ_P_OPD',\n",
       "       'APQ_P_APQ_P_PM', 'APQ_P_APQ_P_PP', 'SDQ_SDQ_Conduct_Problems',\n",
       "       'SDQ_SDQ_Difficulties_Total', 'SDQ_SDQ_Emotional_Problems',\n",
       "       'SDQ_SDQ_Externalizing', 'SDQ_SDQ_Generating_Impact',\n",
       "       'SDQ_SDQ_Hyperactivity', 'SDQ_SDQ_Internalizing',\n",
       "       'SDQ_SDQ_Peer_Problems', 'SDQ_SDQ_Prosocial', 'MRI_Track_Age_at_Scan',\n",
       "       'Basic_Demos_Enroll_Year', 'Basic_Demos_Study_Site',\n",
       "       'PreInt_Demos_Fam_Child_Ethnicity', 'PreInt_Demos_Fam_Child_Race',\n",
       "       'MRI_Track_Scan_Location', 'Barratt_Barratt_P1_Edu',\n",
       "       'Barratt_Barratt_P1_Occ', 'Barratt_Barratt_P2_Edu',\n",
       "       'Barratt_Barratt_P2_Occ', 'Laterality_Category'],\n",
       "      dtype='object')"
      ]
     },
     "execution_count": 180,
     "metadata": {},
     "output_type": "execute_result"
    }
   ],
   "source": [
    "train_combined.columns"
   ]
  },
  {
   "cell_type": "code",
   "execution_count": 181,
   "metadata": {},
   "outputs": [
    {
     "data": {
      "text/html": [
       "<div>\n",
       "<style scoped>\n",
       "    .dataframe tbody tr th:only-of-type {\n",
       "        vertical-align: middle;\n",
       "    }\n",
       "\n",
       "    .dataframe tbody tr th {\n",
       "        vertical-align: top;\n",
       "    }\n",
       "\n",
       "    .dataframe thead th {\n",
       "        text-align: right;\n",
       "    }\n",
       "</style>\n",
       "<table border=\"1\" class=\"dataframe\">\n",
       "  <thead>\n",
       "    <tr style=\"text-align: right;\">\n",
       "      <th></th>\n",
       "      <th>EHQ_EHQ_Total</th>\n",
       "      <th>ColorVision_CV_Score</th>\n",
       "      <th>APQ_P_APQ_P_CP</th>\n",
       "      <th>APQ_P_APQ_P_ID</th>\n",
       "      <th>APQ_P_APQ_P_INV</th>\n",
       "      <th>APQ_P_APQ_P_OPD</th>\n",
       "      <th>APQ_P_APQ_P_PM</th>\n",
       "      <th>APQ_P_APQ_P_PP</th>\n",
       "      <th>SDQ_SDQ_Conduct_Problems</th>\n",
       "      <th>SDQ_SDQ_Difficulties_Total</th>\n",
       "      <th>...</th>\n",
       "      <th>Basic_Demos_Enroll_Year</th>\n",
       "      <th>Basic_Demos_Study_Site</th>\n",
       "      <th>PreInt_Demos_Fam_Child_Ethnicity</th>\n",
       "      <th>PreInt_Demos_Fam_Child_Race</th>\n",
       "      <th>MRI_Track_Scan_Location</th>\n",
       "      <th>Barratt_Barratt_P1_Edu</th>\n",
       "      <th>Barratt_Barratt_P1_Occ</th>\n",
       "      <th>Barratt_Barratt_P2_Edu</th>\n",
       "      <th>Barratt_Barratt_P2_Occ</th>\n",
       "      <th>Laterality_Category</th>\n",
       "    </tr>\n",
       "    <tr>\n",
       "      <th>participant_id</th>\n",
       "      <th></th>\n",
       "      <th></th>\n",
       "      <th></th>\n",
       "      <th></th>\n",
       "      <th></th>\n",
       "      <th></th>\n",
       "      <th></th>\n",
       "      <th></th>\n",
       "      <th></th>\n",
       "      <th></th>\n",
       "      <th></th>\n",
       "      <th></th>\n",
       "      <th></th>\n",
       "      <th></th>\n",
       "      <th></th>\n",
       "      <th></th>\n",
       "      <th></th>\n",
       "      <th></th>\n",
       "      <th></th>\n",
       "      <th></th>\n",
       "      <th></th>\n",
       "    </tr>\n",
       "  </thead>\n",
       "  <tbody>\n",
       "    <tr>\n",
       "      <th>Cfwaf5FX7jWK</th>\n",
       "      <td>60.03</td>\n",
       "      <td>14.0</td>\n",
       "      <td>5.0</td>\n",
       "      <td>16.0</td>\n",
       "      <td>41.0</td>\n",
       "      <td>19.0</td>\n",
       "      <td>11.0</td>\n",
       "      <td>26.0</td>\n",
       "      <td>2.0</td>\n",
       "      <td>12.0</td>\n",
       "      <td>...</td>\n",
       "      <td>4</td>\n",
       "      <td>2</td>\n",
       "      <td>0.0</td>\n",
       "      <td>1</td>\n",
       "      <td>1</td>\n",
       "      <td>2</td>\n",
       "      <td>3</td>\n",
       "      <td>0</td>\n",
       "      <td>4</td>\n",
       "      <td>2</td>\n",
       "    </tr>\n",
       "    <tr>\n",
       "      <th>vhGrzmvA3Hjq</th>\n",
       "      <td>86.71</td>\n",
       "      <td>12.0</td>\n",
       "      <td>3.0</td>\n",
       "      <td>13.0</td>\n",
       "      <td>43.0</td>\n",
       "      <td>18.0</td>\n",
       "      <td>15.0</td>\n",
       "      <td>28.0</td>\n",
       "      <td>2.0</td>\n",
       "      <td>16.0</td>\n",
       "      <td>...</td>\n",
       "      <td>4</td>\n",
       "      <td>2</td>\n",
       "      <td>0.0</td>\n",
       "      <td>1</td>\n",
       "      <td>1</td>\n",
       "      <td>2</td>\n",
       "      <td>0</td>\n",
       "      <td>1</td>\n",
       "      <td>4</td>\n",
       "      <td>2</td>\n",
       "    </tr>\n",
       "    <tr>\n",
       "      <th>ULliyEXjy4OV</th>\n",
       "      <td>26.68</td>\n",
       "      <td>13.0</td>\n",
       "      <td>3.0</td>\n",
       "      <td>14.0</td>\n",
       "      <td>36.0</td>\n",
       "      <td>16.0</td>\n",
       "      <td>14.0</td>\n",
       "      <td>25.0</td>\n",
       "      <td>1.0</td>\n",
       "      <td>7.0</td>\n",
       "      <td>...</td>\n",
       "      <td>4</td>\n",
       "      <td>2</td>\n",
       "      <td>0.0</td>\n",
       "      <td>1</td>\n",
       "      <td>1</td>\n",
       "      <td>2</td>\n",
       "      <td>3</td>\n",
       "      <td>0</td>\n",
       "      <td>4</td>\n",
       "      <td>1</td>\n",
       "    </tr>\n",
       "    <tr>\n",
       "      <th>LZfeAb1xMtql</th>\n",
       "      <td>93.38</td>\n",
       "      <td>13.0</td>\n",
       "      <td>3.0</td>\n",
       "      <td>19.0</td>\n",
       "      <td>41.0</td>\n",
       "      <td>17.0</td>\n",
       "      <td>18.0</td>\n",
       "      <td>27.0</td>\n",
       "      <td>4.0</td>\n",
       "      <td>15.0</td>\n",
       "      <td>...</td>\n",
       "      <td>4</td>\n",
       "      <td>2</td>\n",
       "      <td>0.0</td>\n",
       "      <td>1</td>\n",
       "      <td>3</td>\n",
       "      <td>2</td>\n",
       "      <td>0</td>\n",
       "      <td>2</td>\n",
       "      <td>0</td>\n",
       "      <td>2</td>\n",
       "    </tr>\n",
       "    <tr>\n",
       "      <th>EnFOUv0YK1RG</th>\n",
       "      <td>-93.38</td>\n",
       "      <td>14.0</td>\n",
       "      <td>3.0</td>\n",
       "      <td>13.0</td>\n",
       "      <td>42.0</td>\n",
       "      <td>19.0</td>\n",
       "      <td>16.0</td>\n",
       "      <td>28.0</td>\n",
       "      <td>2.0</td>\n",
       "      <td>18.0</td>\n",
       "      <td>...</td>\n",
       "      <td>4</td>\n",
       "      <td>2</td>\n",
       "      <td>2.0</td>\n",
       "      <td>1</td>\n",
       "      <td>1</td>\n",
       "      <td>0</td>\n",
       "      <td>1</td>\n",
       "      <td>2</td>\n",
       "      <td>0</td>\n",
       "      <td>0</td>\n",
       "    </tr>\n",
       "    <tr>\n",
       "      <th>...</th>\n",
       "      <td>...</td>\n",
       "      <td>...</td>\n",
       "      <td>...</td>\n",
       "      <td>...</td>\n",
       "      <td>...</td>\n",
       "      <td>...</td>\n",
       "      <td>...</td>\n",
       "      <td>...</td>\n",
       "      <td>...</td>\n",
       "      <td>...</td>\n",
       "      <td>...</td>\n",
       "      <td>...</td>\n",
       "      <td>...</td>\n",
       "      <td>...</td>\n",
       "      <td>...</td>\n",
       "      <td>...</td>\n",
       "      <td>...</td>\n",
       "      <td>...</td>\n",
       "      <td>...</td>\n",
       "      <td>...</td>\n",
       "      <td>...</td>\n",
       "    </tr>\n",
       "    <tr>\n",
       "      <th>UadZfjdEg7eG</th>\n",
       "      <td>86.71</td>\n",
       "      <td>14.0</td>\n",
       "      <td>3.0</td>\n",
       "      <td>17.0</td>\n",
       "      <td>41.0</td>\n",
       "      <td>17.0</td>\n",
       "      <td>11.0</td>\n",
       "      <td>25.0</td>\n",
       "      <td>1.0</td>\n",
       "      <td>18.0</td>\n",
       "      <td>...</td>\n",
       "      <td>4</td>\n",
       "      <td>2</td>\n",
       "      <td>0.0</td>\n",
       "      <td>1</td>\n",
       "      <td>1</td>\n",
       "      <td>0</td>\n",
       "      <td>1</td>\n",
       "      <td>0</td>\n",
       "      <td>4</td>\n",
       "      <td>2</td>\n",
       "    </tr>\n",
       "    <tr>\n",
       "      <th>IUEHiLmQAqCi</th>\n",
       "      <td>73.37</td>\n",
       "      <td>14.0</td>\n",
       "      <td>5.0</td>\n",
       "      <td>12.0</td>\n",
       "      <td>38.0</td>\n",
       "      <td>22.0</td>\n",
       "      <td>9.0</td>\n",
       "      <td>29.0</td>\n",
       "      <td>2.0</td>\n",
       "      <td>16.0</td>\n",
       "      <td>...</td>\n",
       "      <td>4</td>\n",
       "      <td>2</td>\n",
       "      <td>0.0</td>\n",
       "      <td>0</td>\n",
       "      <td>3</td>\n",
       "      <td>0</td>\n",
       "      <td>3</td>\n",
       "      <td>2</td>\n",
       "      <td>4</td>\n",
       "      <td>2</td>\n",
       "    </tr>\n",
       "    <tr>\n",
       "      <th>cRySmCadYFRO</th>\n",
       "      <td>87.84</td>\n",
       "      <td>13.0</td>\n",
       "      <td>3.0</td>\n",
       "      <td>14.0</td>\n",
       "      <td>42.0</td>\n",
       "      <td>15.0</td>\n",
       "      <td>10.0</td>\n",
       "      <td>28.0</td>\n",
       "      <td>1.0</td>\n",
       "      <td>11.0</td>\n",
       "      <td>...</td>\n",
       "      <td>4</td>\n",
       "      <td>2</td>\n",
       "      <td>0.0</td>\n",
       "      <td>0</td>\n",
       "      <td>1</td>\n",
       "      <td>2</td>\n",
       "      <td>2</td>\n",
       "      <td>1</td>\n",
       "      <td>3</td>\n",
       "      <td>2</td>\n",
       "    </tr>\n",
       "    <tr>\n",
       "      <th>E3MvDUtJadc5</th>\n",
       "      <td>46.76</td>\n",
       "      <td>14.0</td>\n",
       "      <td>3.0</td>\n",
       "      <td>16.0</td>\n",
       "      <td>43.0</td>\n",
       "      <td>18.0</td>\n",
       "      <td>12.0</td>\n",
       "      <td>22.0</td>\n",
       "      <td>5.0</td>\n",
       "      <td>21.0</td>\n",
       "      <td>...</td>\n",
       "      <td>4</td>\n",
       "      <td>2</td>\n",
       "      <td>0.0</td>\n",
       "      <td>0</td>\n",
       "      <td>1</td>\n",
       "      <td>2</td>\n",
       "      <td>1</td>\n",
       "      <td>2</td>\n",
       "      <td>0</td>\n",
       "      <td>1</td>\n",
       "    </tr>\n",
       "    <tr>\n",
       "      <th>dQJXfyRazknD</th>\n",
       "      <td>87.84</td>\n",
       "      <td>13.0</td>\n",
       "      <td>3.0</td>\n",
       "      <td>13.0</td>\n",
       "      <td>47.0</td>\n",
       "      <td>16.0</td>\n",
       "      <td>10.0</td>\n",
       "      <td>30.0</td>\n",
       "      <td>0.0</td>\n",
       "      <td>4.0</td>\n",
       "      <td>...</td>\n",
       "      <td>4</td>\n",
       "      <td>2</td>\n",
       "      <td>1.0</td>\n",
       "      <td>0</td>\n",
       "      <td>1</td>\n",
       "      <td>0</td>\n",
       "      <td>1</td>\n",
       "      <td>1</td>\n",
       "      <td>4</td>\n",
       "      <td>2</td>\n",
       "    </tr>\n",
       "  </tbody>\n",
       "</table>\n",
       "<p>304 rows × 28 columns</p>\n",
       "</div>"
      ],
      "text/plain": [
       "                EHQ_EHQ_Total  ColorVision_CV_Score  APQ_P_APQ_P_CP  \\\n",
       "participant_id                                                        \n",
       "Cfwaf5FX7jWK            60.03                  14.0             5.0   \n",
       "vhGrzmvA3Hjq            86.71                  12.0             3.0   \n",
       "ULliyEXjy4OV            26.68                  13.0             3.0   \n",
       "LZfeAb1xMtql            93.38                  13.0             3.0   \n",
       "EnFOUv0YK1RG           -93.38                  14.0             3.0   \n",
       "...                       ...                   ...             ...   \n",
       "UadZfjdEg7eG            86.71                  14.0             3.0   \n",
       "IUEHiLmQAqCi            73.37                  14.0             5.0   \n",
       "cRySmCadYFRO            87.84                  13.0             3.0   \n",
       "E3MvDUtJadc5            46.76                  14.0             3.0   \n",
       "dQJXfyRazknD            87.84                  13.0             3.0   \n",
       "\n",
       "                APQ_P_APQ_P_ID  APQ_P_APQ_P_INV  APQ_P_APQ_P_OPD  \\\n",
       "participant_id                                                     \n",
       "Cfwaf5FX7jWK              16.0             41.0             19.0   \n",
       "vhGrzmvA3Hjq              13.0             43.0             18.0   \n",
       "ULliyEXjy4OV              14.0             36.0             16.0   \n",
       "LZfeAb1xMtql              19.0             41.0             17.0   \n",
       "EnFOUv0YK1RG              13.0             42.0             19.0   \n",
       "...                        ...              ...              ...   \n",
       "UadZfjdEg7eG              17.0             41.0             17.0   \n",
       "IUEHiLmQAqCi              12.0             38.0             22.0   \n",
       "cRySmCadYFRO              14.0             42.0             15.0   \n",
       "E3MvDUtJadc5              16.0             43.0             18.0   \n",
       "dQJXfyRazknD              13.0             47.0             16.0   \n",
       "\n",
       "                APQ_P_APQ_P_PM  APQ_P_APQ_P_PP  SDQ_SDQ_Conduct_Problems  \\\n",
       "participant_id                                                             \n",
       "Cfwaf5FX7jWK              11.0            26.0                       2.0   \n",
       "vhGrzmvA3Hjq              15.0            28.0                       2.0   \n",
       "ULliyEXjy4OV              14.0            25.0                       1.0   \n",
       "LZfeAb1xMtql              18.0            27.0                       4.0   \n",
       "EnFOUv0YK1RG              16.0            28.0                       2.0   \n",
       "...                        ...             ...                       ...   \n",
       "UadZfjdEg7eG              11.0            25.0                       1.0   \n",
       "IUEHiLmQAqCi               9.0            29.0                       2.0   \n",
       "cRySmCadYFRO              10.0            28.0                       1.0   \n",
       "E3MvDUtJadc5              12.0            22.0                       5.0   \n",
       "dQJXfyRazknD              10.0            30.0                       0.0   \n",
       "\n",
       "                SDQ_SDQ_Difficulties_Total  ...  Basic_Demos_Enroll_Year  \\\n",
       "participant_id                              ...                            \n",
       "Cfwaf5FX7jWK                          12.0  ...                        4   \n",
       "vhGrzmvA3Hjq                          16.0  ...                        4   \n",
       "ULliyEXjy4OV                           7.0  ...                        4   \n",
       "LZfeAb1xMtql                          15.0  ...                        4   \n",
       "EnFOUv0YK1RG                          18.0  ...                        4   \n",
       "...                                    ...  ...                      ...   \n",
       "UadZfjdEg7eG                          18.0  ...                        4   \n",
       "IUEHiLmQAqCi                          16.0  ...                        4   \n",
       "cRySmCadYFRO                          11.0  ...                        4   \n",
       "E3MvDUtJadc5                          21.0  ...                        4   \n",
       "dQJXfyRazknD                           4.0  ...                        4   \n",
       "\n",
       "                Basic_Demos_Study_Site  PreInt_Demos_Fam_Child_Ethnicity  \\\n",
       "participant_id                                                             \n",
       "Cfwaf5FX7jWK                         2                               0.0   \n",
       "vhGrzmvA3Hjq                         2                               0.0   \n",
       "ULliyEXjy4OV                         2                               0.0   \n",
       "LZfeAb1xMtql                         2                               0.0   \n",
       "EnFOUv0YK1RG                         2                               2.0   \n",
       "...                                ...                               ...   \n",
       "UadZfjdEg7eG                         2                               0.0   \n",
       "IUEHiLmQAqCi                         2                               0.0   \n",
       "cRySmCadYFRO                         2                               0.0   \n",
       "E3MvDUtJadc5                         2                               0.0   \n",
       "dQJXfyRazknD                         2                               1.0   \n",
       "\n",
       "                PreInt_Demos_Fam_Child_Race  MRI_Track_Scan_Location  \\\n",
       "participant_id                                                         \n",
       "Cfwaf5FX7jWK                              1                        1   \n",
       "vhGrzmvA3Hjq                              1                        1   \n",
       "ULliyEXjy4OV                              1                        1   \n",
       "LZfeAb1xMtql                              1                        3   \n",
       "EnFOUv0YK1RG                              1                        1   \n",
       "...                                     ...                      ...   \n",
       "UadZfjdEg7eG                              1                        1   \n",
       "IUEHiLmQAqCi                              0                        3   \n",
       "cRySmCadYFRO                              0                        1   \n",
       "E3MvDUtJadc5                              0                        1   \n",
       "dQJXfyRazknD                              0                        1   \n",
       "\n",
       "                Barratt_Barratt_P1_Edu  Barratt_Barratt_P1_Occ  \\\n",
       "participant_id                                                   \n",
       "Cfwaf5FX7jWK                         2                       3   \n",
       "vhGrzmvA3Hjq                         2                       0   \n",
       "ULliyEXjy4OV                         2                       3   \n",
       "LZfeAb1xMtql                         2                       0   \n",
       "EnFOUv0YK1RG                         0                       1   \n",
       "...                                ...                     ...   \n",
       "UadZfjdEg7eG                         0                       1   \n",
       "IUEHiLmQAqCi                         0                       3   \n",
       "cRySmCadYFRO                         2                       2   \n",
       "E3MvDUtJadc5                         2                       1   \n",
       "dQJXfyRazknD                         0                       1   \n",
       "\n",
       "                Barratt_Barratt_P2_Edu  Barratt_Barratt_P2_Occ  \\\n",
       "participant_id                                                   \n",
       "Cfwaf5FX7jWK                         0                       4   \n",
       "vhGrzmvA3Hjq                         1                       4   \n",
       "ULliyEXjy4OV                         0                       4   \n",
       "LZfeAb1xMtql                         2                       0   \n",
       "EnFOUv0YK1RG                         2                       0   \n",
       "...                                ...                     ...   \n",
       "UadZfjdEg7eG                         0                       4   \n",
       "IUEHiLmQAqCi                         2                       4   \n",
       "cRySmCadYFRO                         1                       3   \n",
       "E3MvDUtJadc5                         2                       0   \n",
       "dQJXfyRazknD                         1                       4   \n",
       "\n",
       "               Laterality_Category  \n",
       "participant_id                      \n",
       "Cfwaf5FX7jWK                     2  \n",
       "vhGrzmvA3Hjq                     2  \n",
       "ULliyEXjy4OV                     1  \n",
       "LZfeAb1xMtql                     2  \n",
       "EnFOUv0YK1RG                     0  \n",
       "...                            ...  \n",
       "UadZfjdEg7eG                     2  \n",
       "IUEHiLmQAqCi                     2  \n",
       "cRySmCadYFRO                     2  \n",
       "E3MvDUtJadc5                     1  \n",
       "dQJXfyRazknD                     2  \n",
       "\n",
       "[304 rows x 28 columns]"
      ]
     },
     "execution_count": 181,
     "metadata": {},
     "output_type": "execute_result"
    }
   ],
   "source": [
    "test_combined"
   ]
  },
  {
   "cell_type": "code",
   "execution_count": 182,
   "metadata": {},
   "outputs": [
    {
     "name": "stdout",
     "output_type": "stream",
     "text": [
      "EHQ_EHQ_Total: 0 missing values\n",
      "ColorVision_CV_Score: 0 missing values\n",
      "APQ_P_APQ_P_CP: 0 missing values\n",
      "APQ_P_APQ_P_ID: 0 missing values\n",
      "APQ_P_APQ_P_INV: 0 missing values\n",
      "APQ_P_APQ_P_OPD: 0 missing values\n",
      "APQ_P_APQ_P_PM: 0 missing values\n",
      "APQ_P_APQ_P_PP: 0 missing values\n",
      "SDQ_SDQ_Conduct_Problems: 0 missing values\n",
      "SDQ_SDQ_Difficulties_Total: 0 missing values\n",
      "SDQ_SDQ_Emotional_Problems: 0 missing values\n",
      "SDQ_SDQ_Externalizing: 0 missing values\n",
      "SDQ_SDQ_Generating_Impact: 0 missing values\n",
      "SDQ_SDQ_Hyperactivity: 0 missing values\n",
      "SDQ_SDQ_Internalizing: 0 missing values\n",
      "SDQ_SDQ_Peer_Problems: 0 missing values\n",
      "SDQ_SDQ_Prosocial: 0 missing values\n",
      "MRI_Track_Age_at_Scan: 0 missing values\n",
      "Basic_Demos_Enroll_Year: 0 missing values\n",
      "Basic_Demos_Study_Site: 0 missing values\n",
      "PreInt_Demos_Fam_Child_Ethnicity: 0 missing values\n",
      "PreInt_Demos_Fam_Child_Race: 0 missing values\n",
      "MRI_Track_Scan_Location: 0 missing values\n",
      "Barratt_Barratt_P1_Edu: 0 missing values\n",
      "Barratt_Barratt_P1_Occ: 0 missing values\n",
      "Barratt_Barratt_P2_Edu: 0 missing values\n",
      "Barratt_Barratt_P2_Occ: 0 missing values\n",
      "Laterality_Category: 0 missing values\n"
     ]
    }
   ],
   "source": [
    "for feature in train_combined.columns:\n",
    "    num_missing = train_combined[feature].isna().sum()\n",
    "    print(f\"{feature}: {num_missing} missing values\")"
   ]
  },
  {
   "cell_type": "code",
   "execution_count": 183,
   "metadata": {},
   "outputs": [
    {
     "name": "stdout",
     "output_type": "stream",
     "text": [
      "EHQ_EHQ_Total: 0 missing values\n",
      "ColorVision_CV_Score: 0 missing values\n",
      "APQ_P_APQ_P_CP: 0 missing values\n",
      "APQ_P_APQ_P_ID: 0 missing values\n",
      "APQ_P_APQ_P_INV: 0 missing values\n",
      "APQ_P_APQ_P_OPD: 0 missing values\n",
      "APQ_P_APQ_P_PM: 0 missing values\n",
      "APQ_P_APQ_P_PP: 0 missing values\n",
      "SDQ_SDQ_Conduct_Problems: 0 missing values\n",
      "SDQ_SDQ_Difficulties_Total: 0 missing values\n",
      "SDQ_SDQ_Emotional_Problems: 0 missing values\n",
      "SDQ_SDQ_Externalizing: 0 missing values\n",
      "SDQ_SDQ_Generating_Impact: 0 missing values\n",
      "SDQ_SDQ_Hyperactivity: 0 missing values\n",
      "SDQ_SDQ_Internalizing: 0 missing values\n",
      "SDQ_SDQ_Peer_Problems: 0 missing values\n",
      "SDQ_SDQ_Prosocial: 0 missing values\n",
      "MRI_Track_Age_at_Scan: 0 missing values\n",
      "Basic_Demos_Enroll_Year: 0 missing values\n",
      "Basic_Demos_Study_Site: 0 missing values\n",
      "PreInt_Demos_Fam_Child_Ethnicity: 0 missing values\n",
      "PreInt_Demos_Fam_Child_Race: 0 missing values\n",
      "MRI_Track_Scan_Location: 0 missing values\n",
      "Barratt_Barratt_P1_Edu: 0 missing values\n",
      "Barratt_Barratt_P1_Occ: 0 missing values\n",
      "Barratt_Barratt_P2_Edu: 0 missing values\n",
      "Barratt_Barratt_P2_Occ: 0 missing values\n",
      "Laterality_Category: 0 missing values\n"
     ]
    }
   ],
   "source": [
    "for feature in test_combined.columns:\n",
    "    num_missing = test_combined[feature].isna().sum()\n",
    "    print(f\"{feature}: {num_missing} missing values\")"
   ]
  },
  {
   "cell_type": "code",
   "execution_count": 184,
   "metadata": {},
   "outputs": [],
   "source": [
    "# Reset index to include participant_id as a column\n",
    "train_combined.reset_index(inplace=True)\n",
    "test_combined.reset_index(inplace=True)"
   ]
  },
  {
   "cell_type": "code",
   "execution_count": 185,
   "metadata": {},
   "outputs": [
    {
     "name": "stdout",
     "output_type": "stream",
     "text": [
      "Complete!\n"
     ]
    }
   ],
   "source": [
    "train_combined.to_csv('train_processed_ver1.csv', index=False)\n",
    "test_combined.to_csv('test_processed_ver1.csv', index=False)\n",
    "\n",
    "print(\"Complete!\")"
   ]
  },
  {
   "cell_type": "code",
   "execution_count": 186,
   "metadata": {},
   "outputs": [],
   "source": [
    "# train_combined.to_csv('train_processed.csv', index=False)\n",
    "# test_combined.to_csv('test_processed.csv', index=False)\n",
    "\n",
    "# print(\"Complete!\")"
   ]
  },
  {
   "cell_type": "code",
   "execution_count": null,
   "metadata": {},
   "outputs": [],
   "source": []
  }
 ],
 "metadata": {
  "kaggle": {
   "accelerator": "none",
   "dataSources": [
    {
     "datasetId": 7062972,
     "sourceId": 11295441,
     "sourceType": "datasetVersion"
    }
   ],
   "dockerImageVersionId": 30918,
   "isGpuEnabled": false,
   "isInternetEnabled": true,
   "language": "python",
   "sourceType": "notebook"
  },
  "kernelspec": {
   "display_name": "Python 3",
   "language": "python",
   "name": "python3"
  },
  "language_info": {
   "codemirror_mode": {
    "name": "ipython",
    "version": 3
   },
   "file_extension": ".py",
   "mimetype": "text/x-python",
   "name": "python",
   "nbconvert_exporter": "python",
   "pygments_lexer": "ipython3",
   "version": "3.12.3"
  }
 },
 "nbformat": 4,
 "nbformat_minor": 4
}
