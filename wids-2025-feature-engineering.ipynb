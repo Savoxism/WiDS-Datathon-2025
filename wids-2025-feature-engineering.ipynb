{
 "cells": [
  {
   "cell_type": "markdown",
   "id": "ec1ed4c0",
   "metadata": {},
   "source": [
    "# 1. Setup"
   ]
  },
  {
   "cell_type": "code",
   "execution_count": 1,
   "id": "2276704d",
   "metadata": {},
   "outputs": [],
   "source": [
    "import pandas as pd\n",
    "import numpy as np\n",
    "import matplotlib.pyplot as plt\n",
    "import seaborn as sns\n",
    "from scipy import stats\n",
    "from scipy.stats import chi2_contingency\n",
    "from sklearn.feature_selection import f_classif, mutual_info_classif\n",
    "from scipy.stats import pointbiserialr\n",
    "import warnings\n",
    "warnings.filterwarnings(\"ignore\")\n",
    "# Set visual style\n",
    "sns.set_theme(style=\"whitegrid\")\n",
    "\n",
    "%matplotlib inline\n",
    "\n",
    "SEED  = 42"
   ]
  },
  {
   "cell_type": "code",
   "execution_count": 2,
   "id": "78f5b8c1",
   "metadata": {},
   "outputs": [],
   "source": [
    "train = pd.read_csv('train_processed.csv').set_index(\"participant_id\")\n",
    "test = pd.read_csv('test_processed.csv').set_index(\"participant_id\")\n",
    "\n",
    "labels = pd.read_excel(\"data/TRAIN/TRAINING_SOLUTIONS.xlsx\").set_index(\"participant_id\")\n",
    "\n",
    "train = train.sort_index()\n",
    "labels = labels.sort_index()\n",
    "assert all(train.index == labels.index), \"Label IDs do not match train IDs\"\n",
    "\n",
    "X_train = train.copy()\n",
    "y_train_sex = labels['Sex_F']\n",
    "y_train_adhd = labels['ADHD_Outcome']"
   ]
  },
  {
   "cell_type": "code",
   "execution_count": 3,
   "id": "9252c23d",
   "metadata": {},
   "outputs": [],
   "source": [
    "# label_df = labels.copy()\n",
    "\n",
    "# # Plot: ADHD_Outcome\n",
    "# plt.figure(figsize=(4, 4))\n",
    "# sns.countplot(x=label_df[\"ADHD_Outcome\"], palette=\"Set2\")\n",
    "# plt.title(\"Distribution of ADHD_Outcome\")\n",
    "# plt.xticks([0, 1], ['No ADHD (0)', 'ADHD (1)'])\n",
    "# plt.ylabel(\"Count\")\n",
    "# plt.tight_layout()\n",
    "# plt.show()\n",
    "\n",
    "# # Plot: Sex_F\n",
    "# plt.figure(figsize=(4, 4))\n",
    "# sns.countplot(x=label_df[\"Sex_F\"], palette=\"pastel\")\n",
    "# plt.title(\"Distribution of Sex_F\")\n",
    "# plt.xticks([0, 1], ['Male (0)', 'Female (1)'])\n",
    "# plt.ylabel(\"Count\")\n",
    "# plt.tight_layout()\n",
    "# plt.show()"
   ]
  },
  {
   "cell_type": "markdown",
   "id": "038147ff",
   "metadata": {},
   "source": [
    "# 2. Feature Correlation"
   ]
  },
  {
   "cell_type": "code",
   "execution_count": 4,
   "id": "66f8a767",
   "metadata": {},
   "outputs": [],
   "source": [
    "F_sex, p_sex = f_classif(X_train, y_train_sex)\n",
    "mi_sex = mutual_info_classif(X_train, y_train_sex, random_state=SEED)\n",
    "\n",
    "F_adhd, p_adhd = f_classif(X_train, y_train_adhd)\n",
    "mi_adhd = mutual_info_classif(X_train, y_train_adhd, random_state=SEED)\n",
    "\n",
    "corr_sex = []\n",
    "corr_adhd = []\n",
    "\n",
    "for feature in X_train.columns:\n",
    "    try:\n",
    "        corr_s, _ = pointbiserialr(X_train[feature], y_train_sex)\n",
    "        corr_a, _ = pointbiserialr(X_train[feature], y_train_adhd)\n",
    "    except:\n",
    "        corr_s, corr_a = float('nan'), float('nan')\n",
    "    corr_sex.append(corr_s)\n",
    "    corr_adhd.append(corr_a)"
   ]
  },
  {
   "cell_type": "code",
   "execution_count": 6,
   "id": "58d00735",
   "metadata": {},
   "outputs": [
    {
     "data": {
      "text/plain": [
       "26"
      ]
     },
     "execution_count": 6,
     "metadata": {},
     "output_type": "execute_result"
    }
   ],
   "source": [
    "len(X_train.columns)"
   ]
  },
  {
   "cell_type": "code",
   "execution_count": 5,
   "id": "1179e09d",
   "metadata": {},
   "outputs": [],
   "source": [
    "features = X_train.columns\n",
    "\n",
    "df_sex = pd.DataFrame({\n",
    "    \"feature\": features,\n",
    "    \"MI\": mi_sex,\n",
    "    # \"F_stat\": F_sex,\n",
    "    \"p_value\": p_sex,\n",
    "    \"correlation\": corr_sex\n",
    "}).sort_values(by=\"p_value\", ascending=True)\n",
    "\n",
    "df_adhd = pd.DataFrame({\n",
    "    \"feature\": features,\n",
    "    \"MI\": mi_adhd,\n",
    "    # \"F_stat\": F_adhd,\n",
    "    \"p_value\": p_adhd,\n",
    "    \"correlation\": corr_adhd\n",
    "}).sort_values(by=\"p_value\", ascending=True)"
   ]
  },
  {
   "cell_type": "code",
   "execution_count": 7,
   "id": "e84c36cb",
   "metadata": {},
   "outputs": [
    {
     "data": {
      "text/html": [
       "<div>\n",
       "<style scoped>\n",
       "    .dataframe tbody tr th:only-of-type {\n",
       "        vertical-align: middle;\n",
       "    }\n",
       "\n",
       "    .dataframe tbody tr th {\n",
       "        vertical-align: top;\n",
       "    }\n",
       "\n",
       "    .dataframe thead th {\n",
       "        text-align: right;\n",
       "    }\n",
       "</style>\n",
       "<table border=\"1\" class=\"dataframe\">\n",
       "  <thead>\n",
       "    <tr style=\"text-align: right;\">\n",
       "      <th></th>\n",
       "      <th>feature</th>\n",
       "      <th>MI</th>\n",
       "      <th>p_value</th>\n",
       "      <th>correlation</th>\n",
       "    </tr>\n",
       "  </thead>\n",
       "  <tbody>\n",
       "    <tr>\n",
       "      <th>13</th>\n",
       "      <td>SDQ_SDQ_Hyperactivity</td>\n",
       "      <td>0.033005</td>\n",
       "      <td>8.508961e-07</td>\n",
       "      <td>-0.140801</td>\n",
       "    </tr>\n",
       "    <tr>\n",
       "      <th>16</th>\n",
       "      <td>SDQ_SDQ_Prosocial</td>\n",
       "      <td>0.017117</td>\n",
       "      <td>1.686387e-05</td>\n",
       "      <td>0.123200</td>\n",
       "    </tr>\n",
       "    <tr>\n",
       "      <th>11</th>\n",
       "      <td>SDQ_SDQ_Externalizing</td>\n",
       "      <td>0.002160</td>\n",
       "      <td>2.732560e-05</td>\n",
       "      <td>-0.120127</td>\n",
       "    </tr>\n",
       "    <tr>\n",
       "      <th>10</th>\n",
       "      <td>SDQ_SDQ_Emotional_Problems</td>\n",
       "      <td>0.016073</td>\n",
       "      <td>1.692720e-04</td>\n",
       "      <td>0.107782</td>\n",
       "    </tr>\n",
       "    <tr>\n",
       "      <th>1</th>\n",
       "      <td>ColorVision_CV_Score</td>\n",
       "      <td>0.000000</td>\n",
       "      <td>2.374002e-04</td>\n",
       "      <td>0.105347</td>\n",
       "    </tr>\n",
       "    <tr>\n",
       "      <th>7</th>\n",
       "      <td>APQ_P_APQ_P_PP</td>\n",
       "      <td>0.000000</td>\n",
       "      <td>1.549670e-02</td>\n",
       "      <td>-0.069488</td>\n",
       "    </tr>\n",
       "    <tr>\n",
       "      <th>4</th>\n",
       "      <td>APQ_P_APQ_P_INV</td>\n",
       "      <td>0.037198</td>\n",
       "      <td>2.605546e-02</td>\n",
       "      <td>-0.063897</td>\n",
       "    </tr>\n",
       "    <tr>\n",
       "      <th>5</th>\n",
       "      <td>APQ_P_APQ_P_OPD</td>\n",
       "      <td>0.000000</td>\n",
       "      <td>3.451433e-02</td>\n",
       "      <td>-0.060705</td>\n",
       "    </tr>\n",
       "    <tr>\n",
       "      <th>14</th>\n",
       "      <td>SDQ_SDQ_Internalizing</td>\n",
       "      <td>0.001086</td>\n",
       "      <td>4.787660e-02</td>\n",
       "      <td>0.056819</td>\n",
       "    </tr>\n",
       "    <tr>\n",
       "      <th>8</th>\n",
       "      <td>SDQ_SDQ_Conduct_Problems</td>\n",
       "      <td>0.000000</td>\n",
       "      <td>8.245840e-02</td>\n",
       "      <td>-0.049882</td>\n",
       "    </tr>\n",
       "    <tr>\n",
       "      <th>9</th>\n",
       "      <td>SDQ_SDQ_Difficulties_Total</td>\n",
       "      <td>0.000000</td>\n",
       "      <td>1.130233e-01</td>\n",
       "      <td>-0.045525</td>\n",
       "    </tr>\n",
       "    <tr>\n",
       "      <th>18</th>\n",
       "      <td>Basic_Demos_Enroll_Year</td>\n",
       "      <td>0.015874</td>\n",
       "      <td>1.209476e-01</td>\n",
       "      <td>-0.044551</td>\n",
       "    </tr>\n",
       "    <tr>\n",
       "      <th>21</th>\n",
       "      <td>Barratt_Barratt_P1_Edu</td>\n",
       "      <td>0.012734</td>\n",
       "      <td>1.546205e-01</td>\n",
       "      <td>0.040894</td>\n",
       "    </tr>\n",
       "    <tr>\n",
       "      <th>2</th>\n",
       "      <td>APQ_P_APQ_P_CP</td>\n",
       "      <td>0.000000</td>\n",
       "      <td>2.104970e-01</td>\n",
       "      <td>-0.035979</td>\n",
       "    </tr>\n",
       "    <tr>\n",
       "      <th>12</th>\n",
       "      <td>SDQ_SDQ_Generating_Impact</td>\n",
       "      <td>0.002813</td>\n",
       "      <td>4.382730e-01</td>\n",
       "      <td>-0.022276</td>\n",
       "    </tr>\n",
       "    <tr>\n",
       "      <th>25</th>\n",
       "      <td>Laterality_Category</td>\n",
       "      <td>0.005931</td>\n",
       "      <td>4.610514e-01</td>\n",
       "      <td>0.021184</td>\n",
       "    </tr>\n",
       "    <tr>\n",
       "      <th>3</th>\n",
       "      <td>APQ_P_APQ_P_ID</td>\n",
       "      <td>0.003247</td>\n",
       "      <td>5.108182e-01</td>\n",
       "      <td>-0.018898</td>\n",
       "    </tr>\n",
       "    <tr>\n",
       "      <th>15</th>\n",
       "      <td>SDQ_SDQ_Peer_Problems</td>\n",
       "      <td>0.000000</td>\n",
       "      <td>5.708154e-01</td>\n",
       "      <td>-0.016291</td>\n",
       "    </tr>\n",
       "    <tr>\n",
       "      <th>23</th>\n",
       "      <td>Barratt_Barratt_P2_Edu</td>\n",
       "      <td>0.000000</td>\n",
       "      <td>5.864310e-01</td>\n",
       "      <td>0.015635</td>\n",
       "    </tr>\n",
       "    <tr>\n",
       "      <th>20</th>\n",
       "      <td>PreInt_Demos_Fam_Child_Race</td>\n",
       "      <td>0.005930</td>\n",
       "      <td>5.869026e-01</td>\n",
       "      <td>0.015615</td>\n",
       "    </tr>\n",
       "    <tr>\n",
       "      <th>17</th>\n",
       "      <td>MRI_Track_Age_at_Scan</td>\n",
       "      <td>0.000000</td>\n",
       "      <td>5.946631e-01</td>\n",
       "      <td>-0.015292</td>\n",
       "    </tr>\n",
       "    <tr>\n",
       "      <th>24</th>\n",
       "      <td>Barratt_Barratt_P2_Occ</td>\n",
       "      <td>0.000000</td>\n",
       "      <td>7.270759e-01</td>\n",
       "      <td>-0.010031</td>\n",
       "    </tr>\n",
       "    <tr>\n",
       "      <th>6</th>\n",
       "      <td>APQ_P_APQ_P_PM</td>\n",
       "      <td>0.014676</td>\n",
       "      <td>8.185626e-01</td>\n",
       "      <td>-0.006593</td>\n",
       "    </tr>\n",
       "    <tr>\n",
       "      <th>22</th>\n",
       "      <td>Barratt_Barratt_P1_Occ</td>\n",
       "      <td>0.011717</td>\n",
       "      <td>8.627198e-01</td>\n",
       "      <td>-0.004970</td>\n",
       "    </tr>\n",
       "    <tr>\n",
       "      <th>19</th>\n",
       "      <td>PreInt_Demos_Fam_Child_Ethnicity</td>\n",
       "      <td>0.012630</td>\n",
       "      <td>9.680042e-01</td>\n",
       "      <td>0.001153</td>\n",
       "    </tr>\n",
       "    <tr>\n",
       "      <th>0</th>\n",
       "      <td>EHQ_EHQ_Total</td>\n",
       "      <td>0.009230</td>\n",
       "      <td>9.713561e-01</td>\n",
       "      <td>0.001032</td>\n",
       "    </tr>\n",
       "  </tbody>\n",
       "</table>\n",
       "</div>"
      ],
      "text/plain": [
       "                             feature        MI       p_value  correlation\n",
       "13             SDQ_SDQ_Hyperactivity  0.033005  8.508961e-07    -0.140801\n",
       "16                 SDQ_SDQ_Prosocial  0.017117  1.686387e-05     0.123200\n",
       "11             SDQ_SDQ_Externalizing  0.002160  2.732560e-05    -0.120127\n",
       "10        SDQ_SDQ_Emotional_Problems  0.016073  1.692720e-04     0.107782\n",
       "1               ColorVision_CV_Score  0.000000  2.374002e-04     0.105347\n",
       "7                     APQ_P_APQ_P_PP  0.000000  1.549670e-02    -0.069488\n",
       "4                    APQ_P_APQ_P_INV  0.037198  2.605546e-02    -0.063897\n",
       "5                    APQ_P_APQ_P_OPD  0.000000  3.451433e-02    -0.060705\n",
       "14             SDQ_SDQ_Internalizing  0.001086  4.787660e-02     0.056819\n",
       "8           SDQ_SDQ_Conduct_Problems  0.000000  8.245840e-02    -0.049882\n",
       "9         SDQ_SDQ_Difficulties_Total  0.000000  1.130233e-01    -0.045525\n",
       "18           Basic_Demos_Enroll_Year  0.015874  1.209476e-01    -0.044551\n",
       "21            Barratt_Barratt_P1_Edu  0.012734  1.546205e-01     0.040894\n",
       "2                     APQ_P_APQ_P_CP  0.000000  2.104970e-01    -0.035979\n",
       "12         SDQ_SDQ_Generating_Impact  0.002813  4.382730e-01    -0.022276\n",
       "25               Laterality_Category  0.005931  4.610514e-01     0.021184\n",
       "3                     APQ_P_APQ_P_ID  0.003247  5.108182e-01    -0.018898\n",
       "15             SDQ_SDQ_Peer_Problems  0.000000  5.708154e-01    -0.016291\n",
       "23            Barratt_Barratt_P2_Edu  0.000000  5.864310e-01     0.015635\n",
       "20       PreInt_Demos_Fam_Child_Race  0.005930  5.869026e-01     0.015615\n",
       "17             MRI_Track_Age_at_Scan  0.000000  5.946631e-01    -0.015292\n",
       "24            Barratt_Barratt_P2_Occ  0.000000  7.270759e-01    -0.010031\n",
       "6                     APQ_P_APQ_P_PM  0.014676  8.185626e-01    -0.006593\n",
       "22            Barratt_Barratt_P1_Occ  0.011717  8.627198e-01    -0.004970\n",
       "19  PreInt_Demos_Fam_Child_Ethnicity  0.012630  9.680042e-01     0.001153\n",
       "0                      EHQ_EHQ_Total  0.009230  9.713561e-01     0.001032"
      ]
     },
     "execution_count": 7,
     "metadata": {},
     "output_type": "execute_result"
    }
   ],
   "source": [
    "df_sex"
   ]
  },
  {
   "cell_type": "code",
   "execution_count": null,
   "id": "82d4c688",
   "metadata": {},
   "outputs": [],
   "source": [
    "df_adhd"
   ]
  },
  {
   "cell_type": "markdown",
   "id": "59594ff1",
   "metadata": {},
   "source": [
    "# 3. Feature Engineering"
   ]
  },
  {
   "cell_type": "markdown",
   "id": "e73f0e4f",
   "metadata": {},
   "source": [
    "## 3.1 Arbitrary Threshold"
   ]
  },
  {
   "cell_type": "code",
   "execution_count": null,
   "id": "c09f3ecb",
   "metadata": {},
   "outputs": [],
   "source": [
    "# Filter the DataFrame for features with p-value < 0.05 and abs(correlation) > 0.1\n",
    "df_sex_filtered = df_sex[(df_sex[\"p_value\"] < 0.05) & (df_sex[\"correlation\"].abs() > 0.05)]\n",
    "\n",
    "print(\"Selected features for sex prediction based on p-value and correlation thresholds:\")\n",
    "print(df_sex_filtered['feature'].tolist())"
   ]
  },
  {
   "cell_type": "code",
   "execution_count": null,
   "id": "277a0795",
   "metadata": {},
   "outputs": [],
   "source": [
    "df_adhd_filtered = df_adhd[(df_adhd[\"p_value\"] < 0.05) & (df_adhd[\"correlation\"].abs() > 0.1)]\n",
    "\n",
    "print(\"Selected features for sex prediction based on p-value and correlation thresholds:\")\n",
    "print(df_adhd_filtered['feature'].tolist())"
   ]
  },
  {
   "cell_type": "code",
   "execution_count": null,
   "id": "4269354e",
   "metadata": {},
   "outputs": [],
   "source": [
    "# For the ADHD target\n",
    "top10_p_adhd = df_adhd.nsmallest(10, \"p_value\")\n",
    "top10_corr_adhd = df_adhd.nlargest(10, \"correlation\")\n",
    "top10_mi_adhd = df_adhd.nlargest(10, \"MI\")\n",
    "\n",
    "print(\"\\nTop 10 Features for ADHD Prediction based on p-value:\")\n",
    "print(top10_p_adhd)\n",
    "print(\"\\nTop 10 Features for ADHD Prediction based on correlation:\")\n",
    "print(top10_corr_adhd)\n",
    "print(\"\\nTop 10 Features for ADHD Prediction based on Mutual Information:\")\n",
    "print(top10_mi_adhd)"
   ]
  },
  {
   "cell_type": "markdown",
   "id": "1e001590",
   "metadata": {},
   "source": [
    "## 3.2 Feature Selection Using Tree-based Algorithm"
   ]
  },
  {
   "cell_type": "code",
   "execution_count": 17,
   "id": "d905fec9",
   "metadata": {},
   "outputs": [
    {
     "name": "stdout",
     "output_type": "stream",
     "text": [
      "['EHQ_EHQ_Total', 'APQ_P_APQ_P_ID', 'APQ_P_APQ_P_INV', 'APQ_P_APQ_P_OPD', 'APQ_P_APQ_P_PM', 'APQ_P_APQ_P_PP', 'SDQ_SDQ_Difficulties_Total', 'SDQ_SDQ_Externalizing', 'SDQ_SDQ_Generating_Impact', 'SDQ_SDQ_Hyperactivity', 'SDQ_SDQ_Internalizing', 'MRI_Track_Age_at_Scan', 'Basic_Demos_Enroll_Year']\n"
     ]
    }
   ],
   "source": [
    "from sklearn.ensemble import RandomForestClassifier\n",
    "from sklearn.feature_selection import SelectFromModel\n",
    "\n",
    "# Initialize and train the Random Forest classifier\n",
    "rf = RandomForestClassifier(n_estimators=100, random_state=42)\n",
    "rf.fit(X_train, y_train_adhd)  # Can be applied similarly for y_train_adhd\n",
    "\n",
    "# Use SelectFromModel to automatically select features based on importances\n",
    "selector = SelectFromModel(rf, threshold=\"median\")  # or a custom threshold (e.g., 0.01)\n",
    "X_train_selected = selector.transform(X_train)\n",
    "selected_features = X_train.columns[selector.get_support()]\n",
    "\n",
    "print(selected_features.tolist())"
   ]
  },
  {
   "cell_type": "code",
   "execution_count": 21,
   "id": "b6f163f0",
   "metadata": {},
   "outputs": [
    {
     "data": {
      "text/plain": [
       "13"
      ]
     },
     "execution_count": 21,
     "metadata": {},
     "output_type": "execute_result"
    }
   ],
   "source": [
    "features_adhd = ['EHQ_EHQ_Total', 'APQ_P_APQ_P_ID', 'APQ_P_APQ_P_INV', 'APQ_P_APQ_P_OPD', 'APQ_P_APQ_P_PM', 'APQ_P_APQ_P_PP', 'SDQ_SDQ_Difficulties_Total', 'SDQ_SDQ_Externalizing', 'SDQ_SDQ_Generating_Impact', 'SDQ_SDQ_Hyperactivity', 'SDQ_SDQ_Internalizing', 'MRI_Track_Age_at_Scan', 'Basic_Demos_Enroll_Year']\n",
    "\n",
    "len(features_adhd)"
   ]
  },
  {
   "cell_type": "code",
   "execution_count": 19,
   "id": "7e9185d2",
   "metadata": {},
   "outputs": [
    {
     "name": "stdout",
     "output_type": "stream",
     "text": [
      "['EHQ_EHQ_Total', 'APQ_P_APQ_P_ID', 'APQ_P_APQ_P_INV', 'APQ_P_APQ_P_OPD', 'APQ_P_APQ_P_PM', 'APQ_P_APQ_P_PP', 'SDQ_SDQ_Difficulties_Total', 'SDQ_SDQ_Emotional_Problems', 'SDQ_SDQ_Externalizing', 'SDQ_SDQ_Hyperactivity', 'SDQ_SDQ_Internalizing', 'SDQ_SDQ_Prosocial', 'MRI_Track_Age_at_Scan']\n"
     ]
    }
   ],
   "source": [
    "rf_sex = RandomForestClassifier(n_estimators=100, random_state=42)\n",
    "rf.fit(X_train, y_train_sex)  \n",
    "\n",
    "# Use SelectFromModel to automatically select features based on importances\n",
    "selector = SelectFromModel(rf, threshold=\"median\")  # or a custom threshold (e.g., 0.01)\n",
    "X_train_selected = selector.transform(X_train)\n",
    "selected_features = X_train.columns[selector.get_support()]\n",
    "\n",
    "print(selected_features.tolist())"
   ]
  },
  {
   "cell_type": "code",
   "execution_count": 20,
   "id": "8c90615a",
   "metadata": {},
   "outputs": [
    {
     "data": {
      "text/plain": [
       "13"
      ]
     },
     "execution_count": 20,
     "metadata": {},
     "output_type": "execute_result"
    }
   ],
   "source": [
    "features_sex = ['EHQ_EHQ_Total', 'APQ_P_APQ_P_ID', 'APQ_P_APQ_P_INV', 'APQ_P_APQ_P_OPD', 'APQ_P_APQ_P_PM', 'APQ_P_APQ_P_PP', 'SDQ_SDQ_Difficulties_Total', 'SDQ_SDQ_Emotional_Problems', 'SDQ_SDQ_Externalizing', 'SDQ_SDQ_Hyperactivity', 'SDQ_SDQ_Internalizing', 'SDQ_SDQ_Prosocial', 'MRI_Track_Age_at_Scan']\n",
    "\n",
    "len(features_sex)"
   ]
  }
 ],
 "metadata": {
  "kernelspec": {
   "display_name": "Python 3",
   "language": "python",
   "name": "python3"
  },
  "language_info": {
   "codemirror_mode": {
    "name": "ipython",
    "version": 3
   },
   "file_extension": ".py",
   "mimetype": "text/x-python",
   "name": "python",
   "nbconvert_exporter": "python",
   "pygments_lexer": "ipython3",
   "version": "3.11.11"
  }
 },
 "nbformat": 4,
 "nbformat_minor": 5
}
