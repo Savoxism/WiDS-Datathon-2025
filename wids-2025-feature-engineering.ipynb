{
 "cells": [
  {
   "cell_type": "markdown",
   "id": "ec1ed4c0",
   "metadata": {},
   "source": [
    "# 1. Setup"
   ]
  },
  {
   "cell_type": "code",
   "execution_count": null,
   "id": "2276704d",
   "metadata": {},
   "outputs": [],
   "source": [
    "import pandas as pd\n",
    "import numpy as np\n",
    "import matplotlib.pyplot as plt\n",
    "import seaborn as sns\n",
    "from scipy import stats\n",
    "from scipy.stats import chi2_contingency\n",
    "from sklearn.feature_selection import f_classif, mutual_info_classif\n",
    "from scipy.stats import pointbiserialr\n",
    "\n",
    "# Set visual style\n",
    "sns.set_theme(style=\"whitegrid\")\n",
    "\n",
    "%matplotlib inline\n",
    "\n",
    "SEED  = 42"
   ]
  },
  {
   "cell_type": "code",
   "execution_count": null,
   "id": "78f5b8c1",
   "metadata": {},
   "outputs": [],
   "source": [
    "train = pd.read_csv('train_processed.csv').set_index(\"participant_id\")\n",
    "test = pd.read_csv('test_processed.csv').set_index(\"participant_id\")\n",
    "\n",
    "labels = pd.read_excel(\"data/TRAIN/TRAINING_SOLUTIONS.xlsx\").set_index(\"participant_id\")\n",
    "\n",
    "train = train.sort_index()\n",
    "labels = labels.sort_index()\n",
    "assert all(train.index == labels.index), \"Label IDs do not match train IDs\""
   ]
  },
  {
   "cell_type": "code",
   "execution_count": null,
   "id": "9252c23d",
   "metadata": {},
   "outputs": [],
   "source": [
    "labels.columns"
   ]
  },
  {
   "cell_type": "markdown",
   "id": "038147ff",
   "metadata": {},
   "source": [
    "# 2. Feature Correlation"
   ]
  },
  {
   "cell_type": "code",
   "execution_count": null,
   "id": "d9a59dbd",
   "metadata": {},
   "outputs": [],
   "source": [
    "train.head()"
   ]
  },
  {
   "cell_type": "code",
   "execution_count": null,
   "id": "59bbdcee",
   "metadata": {},
   "outputs": [],
   "source": [
    "target_columns = ['Sex_F', 'ADHD_Outcome']\n",
    "\n",
    "X_train = train.copy()\n",
    "y_train_sex = labels['Sex_F']\n",
    "y_train_adhd = labels['ADHD_Outcome']\n",
    "\n",
    "print(\"Features shape:\", X_train.shape)\n",
    "print(\"Sex target shape:\", y_train_sex.shape)\n",
    "print(\"ADHD target shape:\", y_train_adhd.shape)"
   ]
  },
  {
   "cell_type": "code",
   "execution_count": null,
   "id": "66f8a767",
   "metadata": {},
   "outputs": [],
   "source": [
    "# Computing mutual information and ANOVA F-statistics for the targets\n",
    "F_sex, p_sex = f_classif(X_train, y_train_sex)\n",
    "mi_sex = mutual_info_classif(X_train, y_train_sex, random_state=42)\n",
    "\n",
    "F_adhd, p_adhd = f_classif(X_train, y_train_adhd)\n",
    "mi_adhd = mutual_info_classif(X_train, y_train_adhd, random_state=42)\n",
    "\n",
    "# Step 2: Compute correlation scores\n",
    "corr_sex = []\n",
    "corr_adhd = []\n",
    "\n",
    "for feature in X_train.columns:\n",
    "    try:\n",
    "        corr_s, _ = pointbiserialr(X_train[feature], y_train_sex)\n",
    "        corr_a, _ = pointbiserialr(X_train[feature], y_train_adhd)\n",
    "    except:\n",
    "        corr_s, corr_a = float('nan'), float('nan')\n",
    "    corr_sex.append(corr_s)\n",
    "    corr_adhd.append(corr_a)"
   ]
  },
  {
   "cell_type": "code",
   "execution_count": null,
   "id": "faf17e42",
   "metadata": {},
   "outputs": [],
   "source": [
    "from scipy.stats import pointbiserialr\n",
    "\n",
    "numeric_features = ['APQ_P_APQ_P_CP', 'APQ_P_APQ_P_ID', 'APQ_P_APQ_P_INV',\n",
    "       'APQ_P_APQ_P_OPD', 'APQ_P_APQ_P_PM', 'APQ_P_APQ_P_PP',\n",
    "       'SDQ_SDQ_Conduct_Problems', 'SDQ_SDQ_Difficulties_Total',\n",
    "       'SDQ_SDQ_Emotional_Problems', 'SDQ_SDQ_Externalizing',\n",
    "       'SDQ_SDQ_Generating_Impact', 'SDQ_SDQ_Hyperactivity',\n",
    "       'SDQ_SDQ_Internalizing', 'SDQ_SDQ_Peer_Problems', 'SDQ_SDQ_Prosocial',\n",
    "       'MRI_Track_Age_at_Scan']"
   ]
  },
  {
   "cell_type": "code",
   "execution_count": null,
   "id": "1179e09d",
   "metadata": {},
   "outputs": [],
   "source": [
    "features = X_train.columns\n",
    "\n",
    "df_sex = pd.DataFrame({\n",
    "    \"feature\": features,\n",
    "    \"MI\": mi_sex,\n",
    "    \"F_stat\": F_sex,\n",
    "    \"p_value\": p_sex,\n",
    "    \"correlation\": corr_sex\n",
    "}).sort_values(by=\"correlation\", ascending=False)\n",
    "\n",
    "df_adhd = pd.DataFrame({\n",
    "    \"feature\": features,\n",
    "    \"MI\": mi_adhd,\n",
    "    \"F_stat\": F_adhd,\n",
    "    \"p_value\": p_adhd,\n",
    "    \"correlation\": corr_adhd\n",
    "}).sort_values(by=\"correlation\", ascending=False)"
   ]
  },
  {
   "cell_type": "code",
   "execution_count": null,
   "id": "a10437d7",
   "metadata": {},
   "outputs": [],
   "source": [
    "df_sex"
   ]
  },
  {
   "cell_type": "code",
   "execution_count": null,
   "id": "5c1f1428",
   "metadata": {},
   "outputs": [],
   "source": [
    "df_adhd"
   ]
  },
  {
   "cell_type": "code",
   "execution_count": null,
   "id": "27ff8ff5",
   "metadata": {},
   "outputs": [],
   "source": [
    "p_value_thresh = 0.05\n",
    "mi_thresh = df_adhd[\"MI\"].median()  # or: df_adhd[\"MI\"].quantile(0.75)\n",
    "\n",
    "selected_features_adhd = df_adhd[\n",
    "    (df_adhd[\"p_value\"] < p_value_thresh) & (df_adhd[\"MI\"] > mi_thresh)\n",
    "]\n",
    "\n",
    "print(\"✅ Features selected for ADHD_Outcome based on thresholds:\")\n",
    "print(selected_features_adhd.sort_values(by=\"MI\", ascending=False))"
   ]
  },
  {
   "cell_type": "code",
   "execution_count": null,
   "id": "eb3ca0a8",
   "metadata": {},
   "outputs": [],
   "source": [
    "# Thresholds\n",
    "mi_thresh_sex = df_sex[\"MI\"].median()\n",
    "\n",
    "selected_features_sex = df_sex[\n",
    "    (df_sex[\"p_value\"] < p_value_thresh) & (df_sex[\"MI\"] > mi_thresh_sex)\n",
    "]\n",
    "\n",
    "print(\"✅ Features selected for Sex_F based on thresholds:\")\n",
    "print(selected_features_sex.sort_values(by=\"MI\", ascending=False))"
   ]
  },
  {
   "cell_type": "code",
   "execution_count": null,
   "id": "05afe7d5",
   "metadata": {},
   "outputs": [],
   "source": [
    "# Visualization for Sex_F target: p-values (lower is better)\n",
    "plt.figure(figsize=(12,6))\n",
    "sns.barplot(x=\"p_value\", y=\"feature\", data=df_sex.sort_values(by=\"p_value\"))\n",
    "plt.title(\"p-values from F-test for Sex_F\")\n",
    "plt.xlabel(\"p-value\")\n",
    "plt.ylabel(\"Feature\")\n",
    "plt.tight_layout()\n",
    "plt.show()\n",
    "\n",
    "# Visualization for ADHD_Outcome target: p-values\n",
    "plt.figure(figsize=(12,6))\n",
    "sns.barplot(x=\"p_value\", y=\"feature\", data=df_adhd.sort_values(by=\"p_value\"))\n",
    "plt.title(\"p-values from F-test for ADHD_Outcome\")\n",
    "plt.xlabel(\"p-value\")\n",
    "plt.ylabel(\"Feature\")\n",
    "plt.tight_layout()\n",
    "plt.show()"
   ]
  },
  {
   "cell_type": "code",
   "execution_count": null,
   "id": "3d92b2b0",
   "metadata": {},
   "outputs": [],
   "source": [
    "# Visualization for Sex_F target: Mutual Information Scores\n",
    "plt.figure(figsize=(12,6))\n",
    "sns.barplot(x=\"MI\", y=\"feature\", data=df_sex)\n",
    "plt.title(\"Mutual Information Scores for Sex_F\")\n",
    "plt.xlabel(\"Mutual Information\")\n",
    "plt.ylabel(\"Feature\")\n",
    "plt.tight_layout()\n",
    "plt.show()\n",
    "\n",
    "\n",
    "# Visualization for ADHD_Outcome target: Mutual Information Scores\n",
    "plt.figure(figsize=(12,6))\n",
    "sns.barplot(x=\"MI\", y=\"feature\", data=df_adhd)\n",
    "plt.title(\"Mutual Information Scores for ADHD_Outcome\")\n",
    "plt.xlabel(\"Mutual Information\")\n",
    "plt.ylabel(\"Feature\")\n",
    "plt.tight_layout()\n",
    "plt.show()"
   ]
  },
  {
   "cell_type": "code",
   "execution_count": null,
   "id": "f82233ba",
   "metadata": {},
   "outputs": [],
   "source": []
  },
  {
   "cell_type": "markdown",
   "id": "59594ff1",
   "metadata": {},
   "source": [
    "# 3. Feature Engineering"
   ]
  },
  {
   "cell_type": "code",
   "execution_count": null,
   "id": "1396f368",
   "metadata": {},
   "outputs": [],
   "source": []
  },
  {
   "cell_type": "code",
   "execution_count": null,
   "id": "cc92519b",
   "metadata": {},
   "outputs": [],
   "source": []
  },
  {
   "cell_type": "code",
   "execution_count": null,
   "id": "fec831b2",
   "metadata": {},
   "outputs": [],
   "source": []
  },
  {
   "cell_type": "code",
   "execution_count": null,
   "id": "8c90615a",
   "metadata": {},
   "outputs": [],
   "source": []
  }
 ],
 "metadata": {
  "kernelspec": {
   "display_name": "Python 3",
   "language": "python",
   "name": "python3"
  },
  "language_info": {
   "codemirror_mode": {
    "name": "ipython",
    "version": 3
   },
   "file_extension": ".py",
   "mimetype": "text/x-python",
   "name": "python",
   "nbconvert_exporter": "python",
   "pygments_lexer": "ipython3",
   "version": "3.12.3"
  }
 },
 "nbformat": 4,
 "nbformat_minor": 5
}
