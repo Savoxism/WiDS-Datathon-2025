{
 "cells": [
  {
   "cell_type": "markdown",
   "id": "ec1ed4c0",
   "metadata": {},
   "source": [
    "# 1. Setup"
   ]
  },
  {
   "cell_type": "code",
   "execution_count": null,
   "id": "2276704d",
   "metadata": {},
   "outputs": [],
   "source": [
    "import pandas as pd\n",
    "import numpy as np\n",
    "import matplotlib.pyplot as plt\n",
    "import seaborn as sns\n",
    "from scipy import stats\n",
    "from scipy.stats import chi2_contingency\n",
    "from sklearn.feature_selection import f_classif, mutual_info_classif\n",
    "from scipy.stats import pointbiserialr\n",
    "import warnings\n",
    "warnings.filterwarnings(\"ignore\")\n",
    "# Set visual style\n",
    "sns.set_theme(style=\"whitegrid\")\n",
    "%matplotlib inline\n",
    "SEED  = 42"
   ]
  },
  {
   "cell_type": "code",
   "execution_count": null,
   "id": "78f5b8c1",
   "metadata": {},
   "outputs": [],
   "source": [
    "train_metadata = pd.read_csv('train_processed.csv').set_index(\"participant_id\")\n",
    "test_metadata = pd.read_csv('test_processed.csv').set_index(\"participant_id\")\n",
    "\n",
    "train_fmri = pd.read_csv(\"train_fMRI.csv\").set_index(\"participant_id\")\n",
    "train_fmri = train_fmri.drop(columns=[\"Unnamed: 0\"])\n",
    "\n",
    "test_fmri = pd.read_csv(\"test_fMRI.csv\").set_index(\"participant_id\")\n",
    "test_fmri = test_fmri.drop(columns=[\"Unnamed: 0\"])\n",
    "\n",
    "labels = pd.read_excel(\"data/TRAIN/TRAINING_SOLUTIONS.xlsx\").set_index(\"participant_id\")\n",
    "\n",
    "train_combined = pd.concat([train_metadata, train_fmri], axis=1)\n",
    "test_combined = pd.concat([test_metadata, test_fmri], axis=1)\n",
    "\n",
    "train_combined = train_combined.sort_index()\n",
    "test_combined = test_combined.sort_index()\n",
    "labels = labels.sort_index()\n",
    "\n",
    "assert all(train_combined.index == labels.index), \"Label IDs do not match train_combined IDs\"\n",
    "\n",
    "y_train_sex = labels['Sex_F']\n",
    "y_train_adhd = labels['ADHD_Outcome']\n",
    "\n",
    "print(\"Merged Training Data Shape:\", train_combined.shape)\n",
    "print(\"Merged Test Data Shape:\", test_combined.shape)"
   ]
  },
  {
   "cell_type": "code",
   "execution_count": null,
   "id": "d40f36c0",
   "metadata": {},
   "outputs": [],
   "source": [
    "for df in [train_combined, test_combined]:\n",
    "    df['Behavior_Male_Score'] = df['SDQ_SDQ_Hyperactivity'] + df['SDQ_SDQ_Conduct_Problems']\n",
    "    df['Behavior_Female_Score'] = df['SDQ_SDQ_Emotional_Problems'] + df['SDQ_SDQ_Peer_Problems']\n",
    "    df['Behavior_Imbalance'] = df['Behavior_Male_Score'] - df['Behavior_Female_Score']\n",
    "\n",
    "# 2. Parenting Composite Scores\n",
    "for df in [train_combined, test_combined]:\n",
    "    df['Parenting_Negative'] = (df['APQ_P_APQ_P_CP'] + df['APQ_P_APQ_P_ID'] + df['APQ_P_APQ_P_PM'])\n",
    "    df['Parenting_Positive'] = (df['APQ_P_APQ_P_INV'] + df['APQ_P_APQ_P_PP'])\n",
    "    df['Parenting_Polarity'] = df['Parenting_Negative'] - df['Parenting_Positive']\n",
    "\n",
    "# 3. Socio-Economic Status Composite (SES)\n",
    "for df in [train_combined, test_combined]:\n",
    "    df['SES_Score'] = (df['Barratt_Barratt_P1_Edu'] + df['Barratt_Barratt_P1_Occ'] +\n",
    "                       df['Barratt_Barratt_P2_Edu'] + df['Barratt_Barratt_P2_Occ']) / 4.0\n",
    "\n",
    "for df in [train_combined, test_combined]:\n",
    "    df['Handedness_Binary'] = df['Laterality_Category'].apply(lambda x: 1 if 'left' in str(x).lower() else 0)\n",
    "\n",
    "pca_features = [f'feature_{i}' for i in range(1, 21)]\n",
    "for df in [train_combined, test_combined]:\n",
    "    df['fMRI_Composite'] = df[pca_features].mean(axis=1)\n",
    "\n",
    "for df in [train_combined, test_combined]:\n",
    "    df['fMRI_Behavior_Interaction'] = df['fMRI_Composite'] * df['Behavior_Imbalance']\n",
    "    df['Age_Adjusted_fMRI'] = df['fMRI_Composite'] * df['MRI_Track_Age_at_Scan']"
   ]
  },
  {
   "cell_type": "code",
   "execution_count": null,
   "id": "faa7a6f2",
   "metadata": {},
   "outputs": [],
   "source": [
    "from sklearn.preprocessing import StandardScaler\n",
    "\n",
    "scaler = StandardScaler()\n",
    "train_combined = pd.DataFrame(scaler.fit_transform(train_combined), columns=train_combined.columns, index=train_combined.index)\n",
    "test_combined = pd.DataFrame(scaler.transform(test_combined), columns=test_combined.columns, index=test_combined.index)"
   ]
  },
  {
   "cell_type": "code",
   "execution_count": null,
   "id": "9252c23d",
   "metadata": {},
   "outputs": [],
   "source": [
    "# label_df = labels.copy()\n",
    "\n",
    "# # Plot: ADHD_Outcome\n",
    "# plt.figure(figsize=(4, 4))\n",
    "# sns.countplot(x=label_df[\"ADHD_Outcome\"], palette=\"Set2\")\n",
    "# plt.title(\"Distribution of ADHD_Outcome\")\n",
    "# plt.xticks([0, 1], ['No ADHD (0)', 'ADHD (1)'])\n",
    "# plt.ylabel(\"Count\")\n",
    "# plt.tight_layout()\n",
    "# plt.show()\n",
    "\n",
    "# # Plot: Sex_F\n",
    "# plt.figure(figsize=(4, 4))\n",
    "# sns.countplot(x=label_df[\"Sex_F\"], palette=\"pastel\")\n",
    "# plt.title(\"Distribution of Sex_F\")\n",
    "# plt.xticks([0, 1], ['Male (0)', 'Female (1)'])\n",
    "# plt.ylabel(\"Count\")\n",
    "# plt.tight_layout()\n",
    "# plt.show()"
   ]
  },
  {
   "cell_type": "markdown",
   "id": "038147ff",
   "metadata": {},
   "source": [
    "# 2. Feature Correlation"
   ]
  },
  {
   "cell_type": "code",
   "execution_count": null,
   "id": "66f8a767",
   "metadata": {},
   "outputs": [],
   "source": [
    "F_sex, p_sex = f_classif(train_combined, y_train_sex)\n",
    "mi_sex = mutual_info_classif(train_combined, y_train_sex, random_state=SEED)\n",
    "\n",
    "F_adhd, p_adhd = f_classif(train_combined, y_train_adhd)\n",
    "mi_adhd = mutual_info_classif(train_combined, y_train_adhd, random_state=SEED)\n",
    "\n",
    "corr_sex = []\n",
    "corr_adhd = []\n",
    "\n",
    "for feature in train_combined.columns:\n",
    "    try:\n",
    "        corr_s, _ = pointbiserialr(train_combined[feature], y_train_sex)\n",
    "        corr_a, _ = pointbiserialr(train_combined[feature], y_train_adhd)\n",
    "    except:\n",
    "        corr_s, corr_a = float('nan'), float('nan')\n",
    "    corr_sex.append(corr_s)\n",
    "    corr_adhd.append(corr_a)"
   ]
  },
  {
   "cell_type": "code",
   "execution_count": null,
   "id": "1179e09d",
   "metadata": {},
   "outputs": [],
   "source": [
    "features = train_combined.columns\n",
    "\n",
    "df_sex = pd.DataFrame({\n",
    "    \"feature\": features,\n",
    "    \"MI\": mi_sex,\n",
    "    # \"F_stat\": F_sex,\n",
    "    \"p_value\": p_sex,\n",
    "    \"correlation\": [abs(i) for i in corr_sex]\n",
    "}).sort_values(by=\"p_value\", ascending=True)\n",
    "\n",
    "df_adhd = pd.DataFrame({\n",
    "    \"feature\": features,\n",
    "    \"MI\": mi_adhd,\n",
    "    # \"F_stat\": F_adhd,\n",
    "    \"p_value\": p_adhd,\n",
    "    \"correlation\": [abs(i) for i in corr_adhd]\n",
    "}).sort_values(by=\"p_value\", ascending=True)"
   ]
  },
  {
   "cell_type": "code",
   "execution_count": null,
   "id": "e84c36cb",
   "metadata": {},
   "outputs": [],
   "source": [
    "df_sex.head(20)"
   ]
  },
  {
   "cell_type": "code",
   "execution_count": null,
   "id": "82d4c688",
   "metadata": {},
   "outputs": [],
   "source": [
    "df_adhd.head(20)"
   ]
  },
  {
   "cell_type": "code",
   "execution_count": null,
   "id": "98133e93",
   "metadata": {},
   "outputs": [],
   "source": [
    "train_combined.to_csv(\"train_feature_engineered.csv\")\n",
    "test_combined.to_csv(\"test_feature_engineered.csv\")"
   ]
  },
  {
   "cell_type": "markdown",
   "id": "59594ff1",
   "metadata": {},
   "source": [
    "# 3. Feature Engineering\n"
   ]
  },
  {
   "cell_type": "markdown",
   "id": "e73f0e4f",
   "metadata": {},
   "source": [
    "## 3.1 Arbitrary Threshold"
   ]
  },
  {
   "cell_type": "code",
   "execution_count": null,
   "id": "c09f3ecb",
   "metadata": {},
   "outputs": [],
   "source": [
    "# Filter the DataFrame for features with p-value < 0.05 and abs(correlation) > 0.1\n",
    "df_sex_filtered = df_sex[(df_sex[\"p_value\"] < 0.05) & (df_sex[\"correlation\"].abs() > 0.05)]\n",
    "print(df_sex_filtered['feature'].tolist())"
   ]
  },
  {
   "cell_type": "code",
   "execution_count": null,
   "id": "277a0795",
   "metadata": {},
   "outputs": [],
   "source": [
    "df_adhd_filtered = df_adhd[(df_adhd[\"p_value\"] < 0.05) & (df_adhd[\"correlation\"].abs() > 0.1)]\n",
    "print(df_adhd_filtered['feature'].tolist())"
   ]
  },
  {
   "cell_type": "code",
   "execution_count": null,
   "id": "4269354e",
   "metadata": {},
   "outputs": [],
   "source": [
    "# For the ADHD target\n",
    "top10_p_adhd = df_adhd.nsmallest(10, \"p_value\")\n",
    "top10_corr_adhd = df_adhd.nlargest(10, \"correlation\")\n",
    "top10_mi_adhd = df_adhd.nlargest(10, \"MI\")\n",
    "\n",
    "print(\"\\nTop 10 Features for ADHD Prediction based on p-value:\")\n",
    "print(top10_p_adhd)\n",
    "print(\"\\nTop 10 Features for ADHD Prediction based on correlation:\")\n",
    "print(top10_corr_adhd)\n",
    "print(\"\\nTop 10 Features for ADHD Prediction based on Mutual Information:\")\n",
    "print(top10_mi_adhd)"
   ]
  },
  {
   "cell_type": "markdown",
   "id": "1e001590",
   "metadata": {},
   "source": [
    "## 3.2 Feature Selection Using Tree-based Algorithm"
   ]
  },
  {
   "cell_type": "code",
   "execution_count": null,
   "id": "d905fec9",
   "metadata": {},
   "outputs": [],
   "source": [
    "from sklearn.ensemble import RandomForestClassifier\n",
    "from sklearn.feature_selection import SelectFromModel\n",
    "\n",
    "# Initialize and train the Random Forest classifier\n",
    "rf = RandomForestClassifier(n_estimators=100, random_state=42)\n",
    "rf.fit(train_combined, y_train_adhd)  # Can be applied similarly for y_train_adhd\n",
    "\n",
    "# Use SelectFromModel to automatically select features based on importances\n",
    "selector = SelectFromModel(rf, threshold=\"median\")  # or a custom threshold (e.g., 0.01)\n",
    "X_train_selected = selector.transform(train_combined)\n",
    "selected_features = train_combined.columns[selector.get_support()]\n",
    "\n",
    "print(selected_features.tolist())"
   ]
  },
  {
   "cell_type": "code",
   "execution_count": null,
   "id": "b6f163f0",
   "metadata": {},
   "outputs": [],
   "source": [
    "features_adhd = ['EHQ_EHQ_Total', 'APQ_P_APQ_P_ID', 'APQ_P_APQ_P_INV', 'APQ_P_APQ_P_OPD', 'APQ_P_APQ_P_PM', 'APQ_P_APQ_P_PP', 'SDQ_SDQ_Difficulties_Total', 'SDQ_SDQ_Externalizing', 'SDQ_SDQ_Generating_Impact', 'SDQ_SDQ_Hyperactivity', 'SDQ_SDQ_Internalizing', 'MRI_Track_Age_at_Scan', 'Basic_Demos_Enroll_Year']\n",
    "\n",
    "len(features_adhd)"
   ]
  },
  {
   "cell_type": "code",
   "execution_count": null,
   "id": "7e9185d2",
   "metadata": {},
   "outputs": [],
   "source": [
    "rf_sex = RandomForestClassifier(n_estimators=100, random_state=42)\n",
    "rf.fit(train_combined, y_train_sex)  \n",
    "\n",
    "# Use SelectFromModel to automatically select features based on importances\n",
    "selector = SelectFromModel(rf, threshold=\"median\")  # or a custom threshold (e.g., 0.01)\n",
    "X_train_selected = selector.transform(train_combined)\n",
    "selected_features = train_combined.columns[selector.get_support()]\n",
    "\n",
    "print(selected_features.tolist())"
   ]
  }
 ],
 "metadata": {
  "kernelspec": {
   "display_name": "Python 3",
   "language": "python",
   "name": "python3"
  },
  "language_info": {
   "codemirror_mode": {
    "name": "ipython",
    "version": 3
   },
   "file_extension": ".py",
   "mimetype": "text/x-python",
   "name": "python",
   "nbconvert_exporter": "python",
   "pygments_lexer": "ipython3",
   "version": "3.11.11"
  }
 },
 "nbformat": 4,
 "nbformat_minor": 5
}
