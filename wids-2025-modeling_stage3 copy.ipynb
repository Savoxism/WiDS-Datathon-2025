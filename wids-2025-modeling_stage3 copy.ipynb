{
 "cells": [
  {
   "cell_type": "markdown",
   "id": "82c63531",
   "metadata": {},
   "source": [
    "# 1. Setup"
   ]
  },
  {
   "cell_type": "code",
   "execution_count": null,
   "id": "6226b735",
   "metadata": {},
   "outputs": [],
   "source": [
    "!nvidia-smi"
   ]
  },
  {
   "cell_type": "code",
   "execution_count": null,
   "id": "e45f78e4",
   "metadata": {},
   "outputs": [],
   "source": [
    "%%capture\n",
    "!pip install pandas\n",
    "!pip install numpy\n",
    "!pip install scikit-learn\n",
    "!pip install warnings\n",
    "!pip install catboost\n",
    "!pip install openpyxl"
   ]
  },
  {
   "cell_type": "code",
   "execution_count": null,
   "id": "0e0f1b0d",
   "metadata": {},
   "outputs": [],
   "source": [
    "import pandas as pd\n",
    "import numpy as np\n",
    "import matplotlib.pyplot as plt\n",
    "from sklearn.compose import ColumnTransformer\n",
    "from sklearn.preprocessing import StandardScaler\n",
    "from sklearn.linear_model import LogisticRegressionCV\n",
    "from sklearn.metrics import f1_score, brier_score_loss\n",
    "from sklearn.model_selection import RepeatedStratifiedKFold, StratifiedKFold\n",
    "\n",
    "from catboost import CatBoostClassifier\n",
    "from sklearn.model_selection import GridSearchCV\n",
    "from sklearn.metrics import make_scorer\n",
    "\n",
    "import warnings\n",
    "warnings.filterwarnings(\"ignore\")\n",
    "\n",
    "SEED = 42\n",
    "REPEATS = 5\n",
    "FOLDS = 5"
   ]
  },
  {
   "cell_type": "code",
   "execution_count": null,
   "id": "9e54af04",
   "metadata": {},
   "outputs": [],
   "source": [
    "train_combined = pd.read_csv(\"train_processed_ver2.csv\").set_index('participant_id')   \n",
    "test_combined = pd.read_csv(\"test_processed_ver2.csv\").set_index('participant_id')  \n",
    "\n",
    "labels = pd.read_excel(\"TRAINING_SOLUTIONS.xlsx\").set_index(\"participant_id\")\n",
    "\n",
    "train_combined = train_combined.sort_index()\n",
    "labels = labels.sort_index()\n",
    "\n",
    "y_adhd = labels['ADHD_Outcome']\n",
    "y_sex = labels['Sex_F']\n",
    "\n",
    "combinations = y_adhd.astype(str) + y_sex.astype(str)\n",
    "assert all(train_combined.index == labels.index), \"Label IDs do not match train IDs\"\n",
    "\n",
    "def eval_metrics(y_true, y_pred, weights, label=\"None\", threshold=0.6):\n",
    "    brier = brier_score_loss(y_true, y_pred)\n",
    "    f1 = f1_score(y_true, (y_pred > threshold).astype(int), sample_weight=weights)\n",
    "    print(f\"{label} -> Brier Score: {brier:.4f}, F1: {f1:.4f}\")\n",
    "    return brier, f1"
   ]
  },
  {
   "cell_type": "code",
   "execution_count": null,
   "id": "2c41a153",
   "metadata": {},
   "outputs": [],
   "source": [
    "train_combined.columns"
   ]
  },
  {
   "cell_type": "code",
   "execution_count": null,
   "id": "773f87ed",
   "metadata": {},
   "outputs": [],
   "source": [
    "numerical_cols = ['EHQ_EHQ_Total', 'ColorVision_CV_Score', 'APQ_P_APQ_P_CP',\n",
    "       'APQ_P_APQ_P_ID', 'APQ_P_APQ_P_INV', 'APQ_P_APQ_P_OPD',\n",
    "       'APQ_P_APQ_P_PM', 'APQ_P_APQ_P_PP', 'SDQ_SDQ_Conduct_Problems',\n",
    "       'SDQ_SDQ_Difficulties_Total', 'SDQ_SDQ_Emotional_Problems',\n",
    "       'SDQ_SDQ_Externalizing', 'SDQ_SDQ_Generating_Impact',\n",
    "       'SDQ_SDQ_Hyperactivity', 'SDQ_SDQ_Internalizing',\n",
    "       'SDQ_SDQ_Peer_Problems', 'SDQ_SDQ_Prosocial', 'MRI_Track_Age_at_Scan',\n",
    "]\n",
    "\n",
    "categorical_cols = [col for col in train_combined.columns if col not in numerical_cols]\n",
    "\n",
    "columns_to_scale = numerical_cols + ['Barratt_Barratt_P1_Edu', 'Barratt_Barratt_P1_Occ', 'Barratt_Barratt_P2_Edu', 'Barratt_Barratt_P2_Occ',]\n",
    "\n",
    "ct = ColumnTransformer(\n",
    "    transformers=[\n",
    "        ('num_ord_scaler', StandardScaler(), columns_to_scale)\n",
    "    ],\n",
    "    remainder='passthrough'  # keep other columns (like one-hot) as-is\n",
    ")\n",
    "\n",
    "X_train = ct.fit_transform(train_combined)\n",
    "X_test = ct.transform(test_combined)"
   ]
  },
  {
   "cell_type": "code",
   "execution_count": null,
   "id": "fcb14492",
   "metadata": {},
   "outputs": [],
   "source": [
    "remaining_col_names = [col for col in train_combined.columns if col not in columns_to_scale]\n",
    "final_col_names = columns_to_scale + remaining_col_names\n",
    "\n",
    "train_combined = pd.DataFrame(X_train, columns=final_col_names, index=train_combined.index)\n",
    "test_combined = pd.DataFrame(X_test, columns=final_col_names, index=test_combined.index)"
   ]
  },
  {
   "cell_type": "markdown",
   "id": "7edde716",
   "metadata": {},
   "source": [
    "# 2. Feature Selection"
   ]
  },
  {
   "cell_type": "code",
   "execution_count": null,
   "id": "2ed78ee4",
   "metadata": {},
   "outputs": [],
   "source": [
    "# features_adhd = ['SDQ_SDQ_Hyperactivity', 'SDQ_SDQ_Externalizing', 'SDQ_SDQ_Difficulties_Total', 'SDQ_SDQ_Generating_Impact', 'SDQ_SDQ_Conduct_Problems', 'SDQ_SDQ_Internalizing', 'SDQ_SDQ_Peer_Problems', 'SDQ_SDQ_Emotional_Problems', 'SDQ_SDQ_Prosocial', 'Basic_Demos_Enroll_Year_2017', 'Basic_Demos_Enroll_Year_2018', 'APQ_P_APQ_P_OPD', 'APQ_P_APQ_P_ID']\n",
    "\n",
    "# interactions = ['SDQ_SDQ_Difficulties_Total', 'SDQ_SDQ_Generating_Impact', 'SDQ_SDQ_Conduct_Problems', 'SDQ_SDQ_Peer_Problems','Basic_Demos_Enroll_Year_2019', 'Basic_Demos_Enroll_Year_Other', 'APQ_P_APQ_P_ID']\n",
    "\n",
    "# features_sex = ['SDQ_SDQ_Hyperactivity', 'SDQ_SDQ_Prosocial', 'SDQ_SDQ_Externalizing', 'SDQ_SDQ_Emotional_Problems', 'ColorVision_CV_Score', 'APQ_P_APQ_P_PP', 'APQ_P_APQ_P_INV', 'APQ_P_APQ_P_OPD', 'SDQ_SDQ_Internalizing'] + ['adhd_proba'] + [f\"I_{feat}\" for feat in interactions]"
   ]
  },
  {
   "cell_type": "code",
   "execution_count": null,
   "id": "4e5fd106",
   "metadata": {},
   "outputs": [],
   "source": [
    "features_adhd = ['SDQ_SDQ_Hyperactivity', 'SDQ_SDQ_Externalizing', 'SDQ_SDQ_Difficulties_Total', 'SDQ_SDQ_Generating_Impact', 'SDQ_SDQ_Conduct_Problems', 'SDQ_SDQ_Internalizing', 'SDQ_SDQ_Peer_Problems', 'SDQ_SDQ_Emotional_Problems', 'SDQ_SDQ_Prosocial', 'Basic_Demos_Enroll_Year_2017', 'Basic_Demos_Enroll_Year_2018', 'APQ_P_APQ_P_OPD', 'APQ_P_APQ_P_ID']\n",
    "\n",
    "features_sex = ['SDQ_SDQ_Hyperactivity', 'SDQ_SDQ_Prosocial', 'SDQ_SDQ_Externalizing', 'SDQ_SDQ_Emotional_Problems', 'ColorVision_CV_Score', 'APQ_P_APQ_P_PP', 'APQ_P_APQ_P_INV', 'APQ_P_APQ_P_OPD', 'SDQ_SDQ_Internalizing'] "
   ]
  },
  {
   "cell_type": "code",
   "execution_count": null,
   "id": "a32bba39",
   "metadata": {},
   "outputs": [],
   "source": [
    "# Initialize out-of-fold arrays and scores\n",
    "sex_oof = np.zeros(len(y_sex))\n",
    "adhd_oof = np.zeros(len(y_adhd))\n",
    "scores_sex = []\n",
    "scores_adhd = []\n",
    "\n",
    "t_sex = 0.3\n",
    "t_adhd = 0.4\n",
    "\n",
    "rskf = RepeatedStratifiedKFold(n_splits=FOLDS, n_repeats=REPEATS, random_state=SEED)\n",
    "skf = StratifiedKFold(n_splits=FOLDS)\n",
    "\n",
    "# Updated parameters including class_weight to balance the classes based on their distribution\n",
    "params = {\n",
    "    \"penalty\": \"l1\",\n",
    "    \"Cs\": 10,\n",
    "    \"cv\": skf,\n",
    "    \"fit_intercept\": True,\n",
    "    \"scoring\": \"f1\",\n",
    "    \"random_state\": SEED,\n",
    "    \"solver\": \"saga\",\n",
    "    \"class_weight\": \"balanced\"   # This tells the model to adjust weights inversely proportional to class frequencies\n",
    "}\n",
    "\n",
    "model_adhd = LogisticRegressionCV(**params)\n",
    "model_sex  = LogisticRegressionCV(**params)\n",
    "\n",
    "for fold, (train_idx, val_idx) in enumerate(rskf.split(train_combined, combinations), 1):\n",
    "    print(f\"\\n=== Fold {fold} ===\")\n",
    "    X_train, X_val = train_combined.iloc[train_idx].copy(), train_combined.iloc[val_idx].copy()\n",
    "    y_train_adhd, y_val_adhd = y_adhd.iloc[train_idx], y_adhd.iloc[val_idx]\n",
    "    y_train_sex, y_val_sex = y_sex.iloc[train_idx], y_sex.iloc[val_idx]\n",
    "    \n",
    "    # Sample weights: 2x weight for \"11\" (female ADHD) cases, per competition requirements\n",
    "    weights_train = np.where(combinations.iloc[train_idx] == \"11\", 2, 1)\n",
    "    weights = np.where(combinations.iloc[val_idx] == \"11\", 2, 1)\n",
    "    \n",
    "    # ----- First Stage: ADHD Model -----\n",
    "    model_adhd.fit(X_train[features_adhd], y_train_adhd, sample_weight=weights_train)\n",
    "    adhd_train = model_adhd.predict_proba(X_train[features_adhd])[:, 1]\n",
    "    adhd_val   = model_adhd.predict_proba(X_val[features_adhd])[:, 1]\n",
    "    adhd_oof[val_idx] += adhd_val / REPEATS\n",
    "    adhd_brier, adhd_f1 = eval_metrics(y_val_adhd, adhd_val, weights, \"ADHD\", t_adhd)\n",
    "    scores_adhd.append((adhd_brier, adhd_f1))\n",
    "\n",
    "    model_sex.fit(X_train[features_sex], y_train_sex, sample_weight=weights_train)\n",
    "    sex_val = model_sex.predict_proba(X_val[features_sex])[:, 1]\n",
    "    sex_oof[val_idx] += sex_val / REPEATS\n",
    "    sex_brier, sex_f1 = eval_metrics(y_val_sex, sex_val, weights, \"Sex_F\", t_sex)\n",
    "    scores_sex.append((sex_brier, sex_f1))\n",
    "    \n",
    "print(f\"\\n=== CV Results ===\")\n",
    "print(f\"Sex Mean Brier Score: {np.mean([s[0] for s in scores_sex]):.4f}\")\n",
    "print(f\"Sex Mean F1: {np.mean([s[1] for s in scores_sex]):.4f}\")\n",
    "print(f\"ADHD Mean Brier Score: {np.mean([s[0] for s in scores_adhd]):.4f}\")\n",
    "print(f\"ADHD Mean F1: {np.mean([s[1] for s in scores_adhd]):.4f}\")"
   ]
  },
  {
   "cell_type": "markdown",
   "id": "fd6964ff",
   "metadata": {},
   "source": [
    "# 3. Threshold Optimization"
   ]
  },
  {
   "cell_type": "code",
   "execution_count": null,
   "id": "7ac0c070",
   "metadata": {},
   "outputs": [],
   "source": [
    "weights = ((y_adhd == 1) & (y_sex == 1)) + 1\n",
    "thresholds = np.linspace(0, 1, 100)\n",
    "\n",
    "# ADHD threshold optimization\n",
    "adhd_scores = [f1_score(y_adhd, (adhd_oof > t).astype(int), sample_weight=weights) for t in thresholds]\n",
    "best_adhd_threshold = thresholds[np.argmax(adhd_scores)]\n",
    "best_adhd_score = max(adhd_scores)\n",
    "\n",
    "# Sex threshold optimization\n",
    "sex_scores = [f1_score(y_sex, (sex_oof > t).astype(int), sample_weight=weights) for t in thresholds]\n",
    "best_sex_threshold = thresholds[np.argmax(sex_scores)]\n",
    "best_sex_score = max(sex_scores)"
   ]
  },
  {
   "cell_type": "markdown",
   "id": "1d4f17cc",
   "metadata": {},
   "source": [
    "# 4. Inference"
   ]
  },
  {
   "cell_type": "code",
   "execution_count": null,
   "id": "dcf8a226",
   "metadata": {},
   "outputs": [],
   "source": [
    "model_adhd.fit(train_combined[features_adhd], y_adhd, sample_weight=weights)\n",
    "adhd_proba_train = model_adhd.predict_proba(train_combined[features_adhd])[:, 1]\n",
    "adhd_proba_test = model_adhd.predict_proba(test_combined[features_adhd])[:, 1]\n",
    "\n",
    "train_combined[\"adhd_proba\"] = adhd_proba_train\n",
    "test_combined[\"adhd_proba\"] = adhd_proba_test\n",
    "\n",
    "model_sex.fit(train_combined[features_sex], y_sex, sample_weight=weights)\n",
    "sex_proba_test = model_sex.predict_proba(test_combined[features_sex])[:, 1]"
   ]
  },
  {
   "cell_type": "markdown",
   "id": "a11e942f",
   "metadata": {},
   "source": [
    "# Submission"
   ]
  },
  {
   "cell_type": "code",
   "execution_count": null,
   "id": "b079f22c",
   "metadata": {},
   "outputs": [],
   "source": [
    "submission = pd.read_excel(\"data/SAMPLE_SUBMISSION.xlsx\")\n",
    "submission[\"ADHD_Outcome\"] = np.where(adhd_proba_test > best_adhd_threshold, 1, 0)\n",
    "submission[\"Sex_F\"] = np.where(sex_proba_test > best_sex_threshold, 1, 0)\n",
    "# Compare share of predicted labels at thresholds between OOF and Test\n",
    "print(f\"Share ADHD OOF: {np.mean(np.where(adhd_oof > best_adhd_threshold, 1, 0)):.4f} - Share ADHD Test: {submission.ADHD_Outcome.mean():.4f}\")\n",
    "print(f\"Share Sex_F OOF: {np.mean(np.where(sex_oof > best_sex_threshold, 1, 0)):.4f} - Share Sex_F Test: {submission.Sex_F.mean():.4f}\")\n",
    "\n",
    "submission.to_csv(\"submission_ver2.csv\", index=False)"
   ]
  },
  {
   "cell_type": "markdown",
   "id": "dfa48cfa",
   "metadata": {},
   "source": [
    "Version 1\n",
    "+ Share ADHD OOF: 0.8384 - Share ADHD Test: 0.8454\n",
    "+ Share Sex_F OOF: 0.9563 - Share Sex_F Test: 0.9013"
   ]
  }
 ],
 "metadata": {
  "kernelspec": {
   "display_name": "Python 3",
   "language": "python",
   "name": "python3"
  },
  "language_info": {
   "codemirror_mode": {
    "name": "ipython",
    "version": 3
   },
   "file_extension": ".py",
   "mimetype": "text/x-python",
   "name": "python",
   "nbconvert_exporter": "python",
   "pygments_lexer": "ipython3",
   "version": "3.12.3"
  }
 },
 "nbformat": 4,
 "nbformat_minor": 5
}
